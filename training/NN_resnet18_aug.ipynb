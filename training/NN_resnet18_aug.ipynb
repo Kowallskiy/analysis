{
 "cells": [
  {
   "cell_type": "code",
   "execution_count": 8,
   "metadata": {},
   "outputs": [],
   "source": [
    "import torch\n",
    "from torchvision import transforms, datasets\n",
    "from torch.utils.data import Dataset, DataLoader\n",
    "from sklearn.metrics import accuracy_score, precision_score, recall_score, f1_score, confusion_matrix\n",
    "import albumentations as A\n",
    "from albumentations.pytorch import ToTensorV2\n",
    "import matplotlib.pyplot as plt\n",
    "import seaborn as sns\n",
    "import wandb\n",
    "import nbformat\n",
    "import cv2\n",
    "\n",
    "from collections import Counter\n",
    "import logging\n",
    "import os"
   ]
  },
  {
   "cell_type": "code",
   "execution_count": 3,
   "metadata": {},
   "outputs": [
    {
     "name": "stderr",
     "output_type": "stream",
     "text": [
      "ERROR:wandb.jupyter:Failed to detect the name of this notebook, you can set it manually with the WANDB_NOTEBOOK_NAME environment variable to enable code saving.\n",
      "\u001b[34m\u001b[1mwandb\u001b[0m: Currently logged in as: \u001b[33mprince_\u001b[0m. Use \u001b[1m`wandb login --relogin`\u001b[0m to force relogin\n"
     ]
    },
    {
     "data": {
      "text/plain": [
       "True"
      ]
     },
     "execution_count": 3,
     "metadata": {},
     "output_type": "execute_result"
    }
   ],
   "source": [
    "wandb.login()"
   ]
  },
  {
   "cell_type": "code",
   "execution_count": 4,
   "metadata": {},
   "outputs": [
    {
     "name": "stderr",
     "output_type": "stream",
     "text": [
      "Using cache found in C:\\Users\\user/.cache\\torch\\hub\\pytorch_vision_v0.10.0\n",
      "c:\\Users\\user\\AppData\\Local\\Programs\\Python\\Python312\\Lib\\site-packages\\torchvision\\models\\_utils.py:208: UserWarning: The parameter 'pretrained' is deprecated since 0.13 and may be removed in the future, please use 'weights' instead.\n",
      "  warnings.warn(\n",
      "c:\\Users\\user\\AppData\\Local\\Programs\\Python\\Python312\\Lib\\site-packages\\torchvision\\models\\_utils.py:223: UserWarning: Arguments other than a weight enum or `None` for 'weights' are deprecated since 0.13 and may be removed in the future. The current behavior is equivalent to passing `weights=ResNet18_Weights.IMAGENET1K_V1`. You can also use `weights=ResNet18_Weights.DEFAULT` to get the most up-to-date weights.\n",
      "  warnings.warn(msg)\n"
     ]
    }
   ],
   "source": [
    "model = torch.hub.load('pytorch/vision:v0.10.0', 'resnet18', pretrained=True)"
   ]
  },
  {
   "cell_type": "code",
   "execution_count": 9,
   "metadata": {},
   "outputs": [],
   "source": [
    "data_transforms = {\n",
    "    \"train\": A.Compose([\n",
    "        A.HorizontalFlip(p=0.5),\n",
    "        A.VerticalFlip(p=0.5),\n",
    "        A.RandomRotate90(p=0.3),\n",
    "        #A.RandomBrightnessContrast(brightness_limit=(-0.2,0.2), contrast_limit=(-0.3, 0.3), p=0.3),\n",
    "        #A.HueSaturationValue(hue_shift_limit=10, sat_shift_limit=30, val_shift_limit=20, p=0.2),\n",
    "        #A.GaussNoise(var_limit=(10, 50), p=0.1),\n",
    "        A.CLAHE(clip_limit=(1,3), tile_grid_size=(8, 8), p=0.3),\n",
    "        #A.RandomCrop(224, 224, 0.3),  # RandomCrop to introduce variability\n",
    "        # A.CenterCrop(height=224, width=224, p=0.3),\n",
    "        # choose mean and std based on pre-trained model specification.\n",
    "        A.Normalize(mean=[0.485, 0.456, 0.406], std=[0.229, 0.224, 0.225]),\n",
    "        ToTensorV2(),\n",
    "    ]),\n",
    "    \"validation\": transforms.Compose([\n",
    "        transforms.ToTensor(),\n",
    "        transforms.Normalize([0.485, 0.456, 0.406], [0.229, 0.224, 0.225])\n",
    "    ]),\n",
    "    \"test\": transforms.Compose([\n",
    "        transforms.ToTensor(),\n",
    "        transforms.Normalize([0.485, 0.456, 0.406], [0.229, 0.224, 0.225])\n",
    "    ])\n",
    "}"
   ]
  },
  {
   "cell_type": "code",
   "execution_count": 10,
   "metadata": {},
   "outputs": [],
   "source": [
    "class CustomDataset(Dataset):\n",
    "    def __init__(self, dir_root, split, transform=None, resize=None):\n",
    "        self.dir_root = dir_root\n",
    "        self.split = split\n",
    "        self.transform = transform\n",
    "        self.resize = resize\n",
    "        self.data = []\n",
    "        self.targets = []\n",
    "        self.class_names = []\n",
    "\n",
    "        data_dir = os.path.join(dir_root, split)\n",
    "\n",
    "        class_directories = sorted(os.listdir(data_dir))\n",
    "        for class_idx, class_dir in enumerate(class_directories):\n",
    "            class_path = os.path.join(data_dir, class_dir)\n",
    "            self.class_names.append(class_dir)\n",
    "\n",
    "            for img_name in os.listdir(class_path):\n",
    "                img_path = os.path.join(class_path, img_name)\n",
    "                self.data.append(img_path)\n",
    "                self.targets.append(class_idx)\n",
    "        \n",
    "        self.class_idx_to_name = {idx: name for idx, name in enumerate(self.class_names)}\n",
    "\n",
    "    def __len__(self):\n",
    "        return len(self.data)\n",
    "    \n",
    "    def __getitem__(self, idx):\n",
    "        img_path = self.data[idx]\n",
    "        target = self.targets[idx]\n",
    "\n",
    "        try:\n",
    "            image = cv2.imread(img_path)\n",
    "\n",
    "            if self.resize:\n",
    "                image = cv2.resize(image, (self.resize, self.resize))\n",
    "\n",
    "            if self.transform:\n",
    "                image = self.transform(image=image)['image']\n",
    "            \n",
    "            return image, target\n",
    "        \n",
    "        except Exception as e:\n",
    "            print(f\"Error loading image: {e}\")\n",
    "            return None, None\n",
    "        \n",
    "    def num_classes(self):\n",
    "        return len(self.class_names)\n",
    "    \n",
    "    def get_class_name(self, class_idx):\n",
    "        return self.class_idx_to_name.get(class_idx)\n",
    "    \n",
    "    def get_class_names(self):\n",
    "        return self.class_names\n",
    "    \n",
    "    def class_idx_to_name_dict(self):\n",
    "        return self.class_idx_to_name\n",
    "    \n",
    "    def get_classes_frequencies(self):\n",
    "        return dict(Counter(self.targets))\n"
   ]
  },
  {
   "cell_type": "code",
   "execution_count": 12,
   "metadata": {},
   "outputs": [],
   "source": [
    "data_directory = \"C:/Users/user/Desktop/analysis/original(resized)\""
   ]
  },
  {
   "cell_type": "code",
   "execution_count": 13,
   "metadata": {},
   "outputs": [],
   "source": [
    "training_dataset = CustomDataset(dir_root=data_directory, split='train', transform=data_transforms['train'])\n",
    "validation_dataset = CustomDataset(dir_root=data_directory, split='validation')\n",
    "test_dataset = CustomDataset(dir_root=data_directory, split='test')"
   ]
  },
  {
   "cell_type": "code",
   "execution_count": 14,
   "metadata": {},
   "outputs": [
    {
     "name": "stdout",
     "output_type": "stream",
     "text": [
      "8\n",
      "['Anthracnose_Fungi', 'Bacterial_Wilt_Bacteria', 'Belly_Rot_Fungi', 'Downy_Mildew_Fungi', 'Gummy_Stem_Blight_Fungi', 'Healthy_Crop_Cucumber', 'Healthy_Crop_Leaf', 'Pythium_Fruit_Rot_Fungi']\n",
      "{0: 128, 1: 128, 2: 128, 3: 128, 4: 128, 5: 128, 6: 128, 7: 135}\n"
     ]
    }
   ],
   "source": [
    "print(training_dataset.num_classes())\n",
    "print(training_dataset.get_class_names())\n",
    "print(training_dataset.get_classes_frequencies())"
   ]
  },
  {
   "cell_type": "code",
   "execution_count": 15,
   "metadata": {},
   "outputs": [],
   "source": [
    "train_dataloader = DataLoader(training_dataset, batch_size=16, shuffle=True, num_workers=6)\n",
    "val_dataloader = DataLoader(validation_dataset, batch_size=32, shuffle=True, num_workers=6)\n",
    "test_dataloader = DataLoader(test_dataset, batch_size=32, shuffle=False, num_workers=6)"
   ]
  },
  {
   "cell_type": "code",
   "execution_count": 16,
   "metadata": {},
   "outputs": [],
   "source": [
    "device = torch.device(\"cuda\" if torch.cuda.is_available() else 'cpu')"
   ]
  },
  {
   "cell_type": "code",
   "execution_count": 17,
   "metadata": {},
   "outputs": [
    {
     "data": {
      "text/plain": [
       "ResNet(\n",
       "  (conv1): Conv2d(3, 64, kernel_size=(7, 7), stride=(2, 2), padding=(3, 3), bias=False)\n",
       "  (bn1): BatchNorm2d(64, eps=1e-05, momentum=0.1, affine=True, track_running_stats=True)\n",
       "  (relu): ReLU(inplace=True)\n",
       "  (maxpool): MaxPool2d(kernel_size=3, stride=2, padding=1, dilation=1, ceil_mode=False)\n",
       "  (layer1): Sequential(\n",
       "    (0): BasicBlock(\n",
       "      (conv1): Conv2d(64, 64, kernel_size=(3, 3), stride=(1, 1), padding=(1, 1), bias=False)\n",
       "      (bn1): BatchNorm2d(64, eps=1e-05, momentum=0.1, affine=True, track_running_stats=True)\n",
       "      (relu): ReLU(inplace=True)\n",
       "      (conv2): Conv2d(64, 64, kernel_size=(3, 3), stride=(1, 1), padding=(1, 1), bias=False)\n",
       "      (bn2): BatchNorm2d(64, eps=1e-05, momentum=0.1, affine=True, track_running_stats=True)\n",
       "    )\n",
       "    (1): BasicBlock(\n",
       "      (conv1): Conv2d(64, 64, kernel_size=(3, 3), stride=(1, 1), padding=(1, 1), bias=False)\n",
       "      (bn1): BatchNorm2d(64, eps=1e-05, momentum=0.1, affine=True, track_running_stats=True)\n",
       "      (relu): ReLU(inplace=True)\n",
       "      (conv2): Conv2d(64, 64, kernel_size=(3, 3), stride=(1, 1), padding=(1, 1), bias=False)\n",
       "      (bn2): BatchNorm2d(64, eps=1e-05, momentum=0.1, affine=True, track_running_stats=True)\n",
       "    )\n",
       "  )\n",
       "  (layer2): Sequential(\n",
       "    (0): BasicBlock(\n",
       "      (conv1): Conv2d(64, 128, kernel_size=(3, 3), stride=(2, 2), padding=(1, 1), bias=False)\n",
       "      (bn1): BatchNorm2d(128, eps=1e-05, momentum=0.1, affine=True, track_running_stats=True)\n",
       "      (relu): ReLU(inplace=True)\n",
       "      (conv2): Conv2d(128, 128, kernel_size=(3, 3), stride=(1, 1), padding=(1, 1), bias=False)\n",
       "      (bn2): BatchNorm2d(128, eps=1e-05, momentum=0.1, affine=True, track_running_stats=True)\n",
       "      (downsample): Sequential(\n",
       "        (0): Conv2d(64, 128, kernel_size=(1, 1), stride=(2, 2), bias=False)\n",
       "        (1): BatchNorm2d(128, eps=1e-05, momentum=0.1, affine=True, track_running_stats=True)\n",
       "      )\n",
       "    )\n",
       "    (1): BasicBlock(\n",
       "      (conv1): Conv2d(128, 128, kernel_size=(3, 3), stride=(1, 1), padding=(1, 1), bias=False)\n",
       "      (bn1): BatchNorm2d(128, eps=1e-05, momentum=0.1, affine=True, track_running_stats=True)\n",
       "      (relu): ReLU(inplace=True)\n",
       "      (conv2): Conv2d(128, 128, kernel_size=(3, 3), stride=(1, 1), padding=(1, 1), bias=False)\n",
       "      (bn2): BatchNorm2d(128, eps=1e-05, momentum=0.1, affine=True, track_running_stats=True)\n",
       "    )\n",
       "  )\n",
       "  (layer3): Sequential(\n",
       "    (0): BasicBlock(\n",
       "      (conv1): Conv2d(128, 256, kernel_size=(3, 3), stride=(2, 2), padding=(1, 1), bias=False)\n",
       "      (bn1): BatchNorm2d(256, eps=1e-05, momentum=0.1, affine=True, track_running_stats=True)\n",
       "      (relu): ReLU(inplace=True)\n",
       "      (conv2): Conv2d(256, 256, kernel_size=(3, 3), stride=(1, 1), padding=(1, 1), bias=False)\n",
       "      (bn2): BatchNorm2d(256, eps=1e-05, momentum=0.1, affine=True, track_running_stats=True)\n",
       "      (downsample): Sequential(\n",
       "        (0): Conv2d(128, 256, kernel_size=(1, 1), stride=(2, 2), bias=False)\n",
       "        (1): BatchNorm2d(256, eps=1e-05, momentum=0.1, affine=True, track_running_stats=True)\n",
       "      )\n",
       "    )\n",
       "    (1): BasicBlock(\n",
       "      (conv1): Conv2d(256, 256, kernel_size=(3, 3), stride=(1, 1), padding=(1, 1), bias=False)\n",
       "      (bn1): BatchNorm2d(256, eps=1e-05, momentum=0.1, affine=True, track_running_stats=True)\n",
       "      (relu): ReLU(inplace=True)\n",
       "      (conv2): Conv2d(256, 256, kernel_size=(3, 3), stride=(1, 1), padding=(1, 1), bias=False)\n",
       "      (bn2): BatchNorm2d(256, eps=1e-05, momentum=0.1, affine=True, track_running_stats=True)\n",
       "    )\n",
       "  )\n",
       "  (layer4): Sequential(\n",
       "    (0): BasicBlock(\n",
       "      (conv1): Conv2d(256, 512, kernel_size=(3, 3), stride=(2, 2), padding=(1, 1), bias=False)\n",
       "      (bn1): BatchNorm2d(512, eps=1e-05, momentum=0.1, affine=True, track_running_stats=True)\n",
       "      (relu): ReLU(inplace=True)\n",
       "      (conv2): Conv2d(512, 512, kernel_size=(3, 3), stride=(1, 1), padding=(1, 1), bias=False)\n",
       "      (bn2): BatchNorm2d(512, eps=1e-05, momentum=0.1, affine=True, track_running_stats=True)\n",
       "      (downsample): Sequential(\n",
       "        (0): Conv2d(256, 512, kernel_size=(1, 1), stride=(2, 2), bias=False)\n",
       "        (1): BatchNorm2d(512, eps=1e-05, momentum=0.1, affine=True, track_running_stats=True)\n",
       "      )\n",
       "    )\n",
       "    (1): BasicBlock(\n",
       "      (conv1): Conv2d(512, 512, kernel_size=(3, 3), stride=(1, 1), padding=(1, 1), bias=False)\n",
       "      (bn1): BatchNorm2d(512, eps=1e-05, momentum=0.1, affine=True, track_running_stats=True)\n",
       "      (relu): ReLU(inplace=True)\n",
       "      (conv2): Conv2d(512, 512, kernel_size=(3, 3), stride=(1, 1), padding=(1, 1), bias=False)\n",
       "      (bn2): BatchNorm2d(512, eps=1e-05, momentum=0.1, affine=True, track_running_stats=True)\n",
       "    )\n",
       "  )\n",
       "  (avgpool): AdaptiveAvgPool2d(output_size=(1, 1))\n",
       "  (fc): Linear(in_features=512, out_features=1000, bias=True)\n",
       ")"
      ]
     },
     "execution_count": 17,
     "metadata": {},
     "output_type": "execute_result"
    }
   ],
   "source": [
    "model"
   ]
  },
  {
   "cell_type": "code",
   "execution_count": 18,
   "metadata": {},
   "outputs": [],
   "source": [
    "in_features = model.fc.in_features\n",
    "\n",
    "model.fc = torch.nn.Linear(in_features=in_features, out_features=training_dataset.num_classes())"
   ]
  },
  {
   "cell_type": "code",
   "execution_count": 19,
   "metadata": {},
   "outputs": [
    {
     "data": {
      "text/plain": [
       "ResNet(\n",
       "  (conv1): Conv2d(3, 64, kernel_size=(7, 7), stride=(2, 2), padding=(3, 3), bias=False)\n",
       "  (bn1): BatchNorm2d(64, eps=1e-05, momentum=0.1, affine=True, track_running_stats=True)\n",
       "  (relu): ReLU(inplace=True)\n",
       "  (maxpool): MaxPool2d(kernel_size=3, stride=2, padding=1, dilation=1, ceil_mode=False)\n",
       "  (layer1): Sequential(\n",
       "    (0): BasicBlock(\n",
       "      (conv1): Conv2d(64, 64, kernel_size=(3, 3), stride=(1, 1), padding=(1, 1), bias=False)\n",
       "      (bn1): BatchNorm2d(64, eps=1e-05, momentum=0.1, affine=True, track_running_stats=True)\n",
       "      (relu): ReLU(inplace=True)\n",
       "      (conv2): Conv2d(64, 64, kernel_size=(3, 3), stride=(1, 1), padding=(1, 1), bias=False)\n",
       "      (bn2): BatchNorm2d(64, eps=1e-05, momentum=0.1, affine=True, track_running_stats=True)\n",
       "    )\n",
       "    (1): BasicBlock(\n",
       "      (conv1): Conv2d(64, 64, kernel_size=(3, 3), stride=(1, 1), padding=(1, 1), bias=False)\n",
       "      (bn1): BatchNorm2d(64, eps=1e-05, momentum=0.1, affine=True, track_running_stats=True)\n",
       "      (relu): ReLU(inplace=True)\n",
       "      (conv2): Conv2d(64, 64, kernel_size=(3, 3), stride=(1, 1), padding=(1, 1), bias=False)\n",
       "      (bn2): BatchNorm2d(64, eps=1e-05, momentum=0.1, affine=True, track_running_stats=True)\n",
       "    )\n",
       "  )\n",
       "  (layer2): Sequential(\n",
       "    (0): BasicBlock(\n",
       "      (conv1): Conv2d(64, 128, kernel_size=(3, 3), stride=(2, 2), padding=(1, 1), bias=False)\n",
       "      (bn1): BatchNorm2d(128, eps=1e-05, momentum=0.1, affine=True, track_running_stats=True)\n",
       "      (relu): ReLU(inplace=True)\n",
       "      (conv2): Conv2d(128, 128, kernel_size=(3, 3), stride=(1, 1), padding=(1, 1), bias=False)\n",
       "      (bn2): BatchNorm2d(128, eps=1e-05, momentum=0.1, affine=True, track_running_stats=True)\n",
       "      (downsample): Sequential(\n",
       "        (0): Conv2d(64, 128, kernel_size=(1, 1), stride=(2, 2), bias=False)\n",
       "        (1): BatchNorm2d(128, eps=1e-05, momentum=0.1, affine=True, track_running_stats=True)\n",
       "      )\n",
       "    )\n",
       "    (1): BasicBlock(\n",
       "      (conv1): Conv2d(128, 128, kernel_size=(3, 3), stride=(1, 1), padding=(1, 1), bias=False)\n",
       "      (bn1): BatchNorm2d(128, eps=1e-05, momentum=0.1, affine=True, track_running_stats=True)\n",
       "      (relu): ReLU(inplace=True)\n",
       "      (conv2): Conv2d(128, 128, kernel_size=(3, 3), stride=(1, 1), padding=(1, 1), bias=False)\n",
       "      (bn2): BatchNorm2d(128, eps=1e-05, momentum=0.1, affine=True, track_running_stats=True)\n",
       "    )\n",
       "  )\n",
       "  (layer3): Sequential(\n",
       "    (0): BasicBlock(\n",
       "      (conv1): Conv2d(128, 256, kernel_size=(3, 3), stride=(2, 2), padding=(1, 1), bias=False)\n",
       "      (bn1): BatchNorm2d(256, eps=1e-05, momentum=0.1, affine=True, track_running_stats=True)\n",
       "      (relu): ReLU(inplace=True)\n",
       "      (conv2): Conv2d(256, 256, kernel_size=(3, 3), stride=(1, 1), padding=(1, 1), bias=False)\n",
       "      (bn2): BatchNorm2d(256, eps=1e-05, momentum=0.1, affine=True, track_running_stats=True)\n",
       "      (downsample): Sequential(\n",
       "        (0): Conv2d(128, 256, kernel_size=(1, 1), stride=(2, 2), bias=False)\n",
       "        (1): BatchNorm2d(256, eps=1e-05, momentum=0.1, affine=True, track_running_stats=True)\n",
       "      )\n",
       "    )\n",
       "    (1): BasicBlock(\n",
       "      (conv1): Conv2d(256, 256, kernel_size=(3, 3), stride=(1, 1), padding=(1, 1), bias=False)\n",
       "      (bn1): BatchNorm2d(256, eps=1e-05, momentum=0.1, affine=True, track_running_stats=True)\n",
       "      (relu): ReLU(inplace=True)\n",
       "      (conv2): Conv2d(256, 256, kernel_size=(3, 3), stride=(1, 1), padding=(1, 1), bias=False)\n",
       "      (bn2): BatchNorm2d(256, eps=1e-05, momentum=0.1, affine=True, track_running_stats=True)\n",
       "    )\n",
       "  )\n",
       "  (layer4): Sequential(\n",
       "    (0): BasicBlock(\n",
       "      (conv1): Conv2d(256, 512, kernel_size=(3, 3), stride=(2, 2), padding=(1, 1), bias=False)\n",
       "      (bn1): BatchNorm2d(512, eps=1e-05, momentum=0.1, affine=True, track_running_stats=True)\n",
       "      (relu): ReLU(inplace=True)\n",
       "      (conv2): Conv2d(512, 512, kernel_size=(3, 3), stride=(1, 1), padding=(1, 1), bias=False)\n",
       "      (bn2): BatchNorm2d(512, eps=1e-05, momentum=0.1, affine=True, track_running_stats=True)\n",
       "      (downsample): Sequential(\n",
       "        (0): Conv2d(256, 512, kernel_size=(1, 1), stride=(2, 2), bias=False)\n",
       "        (1): BatchNorm2d(512, eps=1e-05, momentum=0.1, affine=True, track_running_stats=True)\n",
       "      )\n",
       "    )\n",
       "    (1): BasicBlock(\n",
       "      (conv1): Conv2d(512, 512, kernel_size=(3, 3), stride=(1, 1), padding=(1, 1), bias=False)\n",
       "      (bn1): BatchNorm2d(512, eps=1e-05, momentum=0.1, affine=True, track_running_stats=True)\n",
       "      (relu): ReLU(inplace=True)\n",
       "      (conv2): Conv2d(512, 512, kernel_size=(3, 3), stride=(1, 1), padding=(1, 1), bias=False)\n",
       "      (bn2): BatchNorm2d(512, eps=1e-05, momentum=0.1, affine=True, track_running_stats=True)\n",
       "    )\n",
       "  )\n",
       "  (avgpool): AdaptiveAvgPool2d(output_size=(1, 1))\n",
       "  (fc): Linear(in_features=512, out_features=8, bias=True)\n",
       ")"
      ]
     },
     "execution_count": 19,
     "metadata": {},
     "output_type": "execute_result"
    }
   ],
   "source": [
    "model"
   ]
  },
  {
   "cell_type": "code",
   "execution_count": 20,
   "metadata": {},
   "outputs": [],
   "source": [
    "for name, param in model.named_parameters():\n",
    "    if 'fc' in name:\n",
    "        param.requires_grad = True\n",
    "    else:\n",
    "        param.requires_grad = False"
   ]
  },
  {
   "cell_type": "code",
   "execution_count": 21,
   "metadata": {},
   "outputs": [],
   "source": [
    "num_epochs = 10\n",
    "lr = 0.001\n",
    "\n",
    "model.to(device)\n",
    "\n",
    "criterion = torch.nn.CrossEntropyLoss()\n",
    "optimizer = torch.optim.Adam(model.fc.parameters(), lr=lr)"
   ]
  },
  {
   "cell_type": "code",
   "execution_count": 22,
   "metadata": {},
   "outputs": [
    {
     "name": "stdout",
     "output_type": "stream",
     "text": [
      "Start a new run to track and log to W&B.\n",
      "\n",
      "    In an ML training pipeline, you could add `wandb.init()`\n",
      "    to the beginning of your training script as well as your evaluation\n",
      "    script, and each piece would be tracked as a run in W&B.\n",
      "\n",
      "    `wandb.init()` spawns a new background process to log data to a run, and it\n",
      "    also syncs data to wandb.ai by default, so you can see live visualizations.\n",
      "\n",
      "    Call `wandb.init()` to start a run before logging data with `wandb.log()`:\n",
      "    <!--yeadoc-test:init-method-log-->\n",
      "    ```python\n",
      "    import wandb\n",
      "\n",
      "    wandb.init()\n",
      "    # ... calculate metrics, generate media\n",
      "    wandb.log({\"accuracy\": 0.9})\n",
      "    ```\n",
      "\n",
      "    `wandb.init()` returns a run object, and you can also access the run object\n",
      "    via `wandb.run`:\n",
      "    <!--yeadoc-test:init-and-assert-global-->\n",
      "    ```python\n",
      "    import wandb\n",
      "\n",
      "    run = wandb.init()\n",
      "\n",
      "    assert run is wandb.run\n",
      "    ```\n",
      "\n",
      "    At the end of your script, we will automatically call `wandb.finish` to\n",
      "    finalize and cleanup the run. However, if you call `wandb.init` from a\n",
      "    child process, you must explicitly call `wandb.finish` at the end of the\n",
      "    child process.\n",
      "\n",
      "    For more on using `wandb.init()`, including detailed examples, check out our\n",
      "    [guide and FAQs](https://docs.wandb.ai/guides/track/launch).\n",
      "\n",
      "    Arguments:\n",
      "        project: (str, optional) The name of the project where you're sending\n",
      "            the new run. If the project is not specified, the run is put in an\n",
      "            \"Uncategorized\" project.\n",
      "        entity: (str, optional) An entity is a username or team name where\n",
      "            you're sending runs. This entity must exist before you can send runs\n",
      "            there, so make sure to create your account or team in the UI before\n",
      "            starting to log runs.\n",
      "            If you don't specify an entity, the run will be sent to your default\n",
      "            entity, which is usually your username. Change your default entity\n",
      "            in [your settings](https://wandb.ai/settings) under \"default location\n",
      "            to create new projects\".\n",
      "        config: (dict, argparse, absl.flags, str, optional)\n",
      "            This sets `wandb.config`, a dictionary-like object for saving inputs\n",
      "            to your job, like hyperparameters for a model or settings for a data\n",
      "            preprocessing job. The config will show up in a table in the UI that\n",
      "            you can use to group, filter, and sort runs. Keys should not contain\n",
      "            `.` in their names, and values should be under 10 MB.\n",
      "            If dict, argparse or absl.flags: will load the key value pairs into\n",
      "                the `wandb.config` object.\n",
      "            If str: will look for a yaml file by that name, and load config from\n",
      "                that file into the `wandb.config` object.\n",
      "        save_code: (bool, optional) Turn this on to save the main script or\n",
      "            notebook to W&B. This is valuable for improving experiment\n",
      "            reproducibility and to diff code across experiments in the UI. By\n",
      "            default this is off, but you can flip the default behavior to on\n",
      "            in [your settings page](https://wandb.ai/settings).\n",
      "        group: (str, optional) Specify a group to organize individual runs into\n",
      "            a larger experiment. For example, you might be doing cross\n",
      "            validation, or you might have multiple jobs that train and evaluate\n",
      "            a model against different test sets. Group gives you a way to\n",
      "            organize runs together into a larger whole, and you can toggle this\n",
      "            on and off in the UI. For more details, see our\n",
      "            [guide to grouping runs](https://docs.wandb.com/guides/runs/grouping).\n",
      "        job_type: (str, optional) Specify the type of run, which is useful when\n",
      "            you're grouping runs together into larger experiments using group.\n",
      "            For example, you might have multiple jobs in a group, with job types\n",
      "            like train and eval. Setting this makes it easy to filter and group\n",
      "            similar runs together in the UI so you can compare apples to apples.\n",
      "        tags: (list, optional) A list of strings, which will populate the list\n",
      "            of tags on this run in the UI. Tags are useful for organizing runs\n",
      "            together, or applying temporary labels like \"baseline\" or\n",
      "            \"production\". It's easy to add and remove tags in the UI, or filter\n",
      "            down to just runs with a specific tag.\n",
      "            If you are resuming a run, its tags will be overwritten by the tags\n",
      "            you pass to `wandb.init()`. If you want to add tags to a resumed run\n",
      "            without overwriting its existing tags, use `run.tags += [\"new_tag\"]`\n",
      "            after `wandb.init()`.\n",
      "        name: (str, optional) A short display name for this run, which is how\n",
      "            you'll identify this run in the UI. By default, we generate a random\n",
      "            two-word name that lets you easily cross-reference runs from the\n",
      "            table to charts. Keeping these run names short makes the chart\n",
      "            legends and tables easier to read. If you're looking for a place to\n",
      "            save your hyperparameters, we recommend saving those in config.\n",
      "        notes: (str, optional) A longer description of the run, like a `-m` commit\n",
      "            message in git. This helps you remember what you were doing when you\n",
      "            ran this run.\n",
      "        dir: (str or pathlib.Path, optional) An absolute path to a directory where\n",
      "            metadata will be stored. When you call `download()` on an artifact,\n",
      "            this is the directory where downloaded files will be saved. By default,\n",
      "            this is the `./wandb` directory.\n",
      "        resume: (bool, str, optional) Sets the resuming behavior. Options:\n",
      "            `\"allow\"`, `\"must\"`, `\"never\"`, `\"auto\"` or `None`. Defaults to `None`.\n",
      "            Cases:\n",
      "            - `None` (default): If the new run has the same ID as a previous run,\n",
      "                this run overwrites that data.\n",
      "            - `\"auto\"` (or `True`): if the previous run on this machine crashed,\n",
      "                automatically resume it. Otherwise, start a new run.\n",
      "            - `\"allow\"`: if id is set with `init(id=\"UNIQUE_ID\")` or\n",
      "                `WANDB_RUN_ID=\"UNIQUE_ID\"` and it is identical to a previous run,\n",
      "                wandb will automatically resume the run with that id. Otherwise,\n",
      "                wandb will start a new run.\n",
      "            - `\"never\"`: if id is set with `init(id=\"UNIQUE_ID\")` or\n",
      "                `WANDB_RUN_ID=\"UNIQUE_ID\"` and it is identical to a previous run,\n",
      "                wandb will crash.\n",
      "            - `\"must\"`: if id is set with `init(id=\"UNIQUE_ID\")` or\n",
      "                `WANDB_RUN_ID=\"UNIQUE_ID\"` and it is identical to a previous run,\n",
      "                wandb will automatically resume the run with the id. Otherwise,\n",
      "                wandb will crash.\n",
      "            See [our guide to resuming runs](https://docs.wandb.com/guides/runs/resuming)\n",
      "            for more.\n",
      "        reinit: (bool, optional) Allow multiple `wandb.init()` calls in the same\n",
      "            process. (default: `False`)\n",
      "        magic: (bool, dict, or str, optional) The bool controls whether we try to\n",
      "            auto-instrument your script, capturing basic details of your run\n",
      "            without you having to add more wandb code. (default: `False`)\n",
      "            You can also pass a dict, json string, or yaml filename.\n",
      "        config_exclude_keys: (list, optional) string keys to exclude from\n",
      "            `wandb.config`.\n",
      "        config_include_keys: (list, optional) string keys to include in\n",
      "            `wandb.config`.\n",
      "        anonymous: (str, optional) Controls anonymous data logging. Options:\n",
      "            - `\"never\"` (default): requires you to link your W&B account before\n",
      "                tracking the run, so you don't accidentally create an anonymous\n",
      "                run.\n",
      "            - `\"allow\"`: lets a logged-in user track runs with their account, but\n",
      "                lets someone who is running the script without a W&B account see\n",
      "                the charts in the UI.\n",
      "            - `\"must\"`: sends the run to an anonymous account instead of to a\n",
      "                signed-up user account.\n",
      "        mode: (str, optional) Can be `\"online\"`, `\"offline\"` or `\"disabled\"`. Defaults to\n",
      "            online.\n",
      "        allow_val_change: (bool, optional) Whether to allow config values to\n",
      "            change after setting the keys once. By default, we throw an exception\n",
      "            if a config value is overwritten. If you want to track something\n",
      "            like a varying learning rate at multiple times during training, use\n",
      "            `wandb.log()` instead. (default: `False` in scripts, `True` in Jupyter)\n",
      "        force: (bool, optional) If `True`, this crashes the script if a user isn't\n",
      "            logged in to W&B. If `False`, this will let the script run in offline\n",
      "            mode if a user isn't logged in to W&B. (default: `False`)\n",
      "        sync_tensorboard: (bool, optional) Synchronize wandb logs from tensorboard or\n",
      "            tensorboardX and save the relevant events file. (default: `False`)\n",
      "        monitor_gym: (bool, optional) Automatically log videos of environment when\n",
      "            using OpenAI Gym. (default: `False`)\n",
      "            See [our guide to this integration](https://docs.wandb.com/guides/integrations/openai-gym).\n",
      "        id: (str, optional) A unique ID for this run, used for resuming. It must\n",
      "            be unique in the project, and if you delete a run you can't reuse\n",
      "            the ID. Use the `name` field for a short descriptive name, or `config`\n",
      "            for saving hyperparameters to compare across runs. The ID cannot\n",
      "            contain the following special characters: `/\\#?%:`.\n",
      "            See [our guide to resuming runs](https://docs.wandb.com/guides/runs/resuming).\n",
      "        fork_from: (str, optional) A string with the format {run_id}?_step={step} describing\n",
      "            a moment in a previous run to fork a new run from. Creates a new run that picks up\n",
      "            logging history from the specified run at the specified moment. The target run must\n",
      "            be in the current project. Example: `fork_from=\"my-run-id?_step=1234\"`.\n",
      "\n",
      "    Examples:\n",
      "    ### Set where the run is logged\n",
      "\n",
      "    You can change where the run is logged, just like changing\n",
      "    the organization, repository, and branch in git:\n",
      "    ```python\n",
      "    import wandb\n",
      "\n",
      "    user = \"geoff\"\n",
      "    project = \"capsules\"\n",
      "    display_name = \"experiment-2021-10-31\"\n",
      "\n",
      "    wandb.init(entity=user, project=project, name=display_name)\n",
      "    ```\n",
      "\n",
      "    ### Add metadata about the run to the config\n",
      "\n",
      "    Pass a dictionary-style object as the `config` keyword argument to add\n",
      "    metadata, like hyperparameters, to your run.\n",
      "    <!--yeadoc-test:init-set-config-->\n",
      "    ```python\n",
      "    import wandb\n",
      "\n",
      "    config = {\"lr\": 3e-4, \"batch_size\": 32}\n",
      "    config.update({\"architecture\": \"resnet\", \"depth\": 34})\n",
      "    wandb.init(config=config)\n",
      "    ```\n",
      "\n",
      "    Raises:\n",
      "        Error: if some unknown or internal error happened during the run initialization.\n",
      "        AuthenticationError: if the user failed to provide valid credentials.\n",
      "        CommError: if there was a problem communicating with the WandB server.\n",
      "        UsageError: if the user provided invalid arguments.\n",
      "        KeyboardInterrupt: if user interrupts the run.\n",
      "\n",
      "    Returns:\n",
      "        A `Run` object.\n",
      "    \n"
     ]
    }
   ],
   "source": [
    "print(wandb.init.__doc__)"
   ]
  },
  {
   "cell_type": "code",
   "execution_count": 25,
   "metadata": {},
   "outputs": [
    {
     "data": {
      "text/html": [
       "Finishing last run (ID:ukhko4zz) before initializing another..."
      ],
      "text/plain": [
       "<IPython.core.display.HTML object>"
      ]
     },
     "metadata": {},
     "output_type": "display_data"
    },
    {
     "data": {
      "text/html": [
       " View run <strong style=\"color:#cdcd00\">solar-lake-14</strong> at: <a href='https://wandb.ai/prince_/milan-project/runs/ukhko4zz' target=\"_blank\">https://wandb.ai/prince_/milan-project/runs/ukhko4zz</a><br/> View project at: <a href='https://wandb.ai/prince_/milan-project' target=\"_blank\">https://wandb.ai/prince_/milan-project</a><br/>Synced 4 W&B file(s), 0 media file(s), 0 artifact file(s) and 0 other file(s)"
      ],
      "text/plain": [
       "<IPython.core.display.HTML object>"
      ]
     },
     "metadata": {},
     "output_type": "display_data"
    },
    {
     "data": {
      "text/html": [
       "Find logs at: <code>.\\wandb\\run-20240608_130856-ukhko4zz\\logs</code>"
      ],
      "text/plain": [
       "<IPython.core.display.HTML object>"
      ]
     },
     "metadata": {},
     "output_type": "display_data"
    },
    {
     "data": {
      "text/html": [
       "Successfully finished last run (ID:ukhko4zz). Initializing new run:<br/>"
      ],
      "text/plain": [
       "<IPython.core.display.HTML object>"
      ]
     },
     "metadata": {},
     "output_type": "display_data"
    },
    {
     "data": {
      "text/html": [
       "wandb version 0.17.1 is available!  To upgrade, please run:\n",
       " $ pip install wandb --upgrade"
      ],
      "text/plain": [
       "<IPython.core.display.HTML object>"
      ]
     },
     "metadata": {},
     "output_type": "display_data"
    },
    {
     "data": {
      "text/html": [
       "Tracking run with wandb version 0.17.0"
      ],
      "text/plain": [
       "<IPython.core.display.HTML object>"
      ]
     },
     "metadata": {},
     "output_type": "display_data"
    },
    {
     "data": {
      "text/html": [
       "Run data is saved locally in <code>c:\\Users\\user\\Desktop\\analysis\\training\\wandb\\run-20240608_130918-6bmay1am</code>"
      ],
      "text/plain": [
       "<IPython.core.display.HTML object>"
      ]
     },
     "metadata": {},
     "output_type": "display_data"
    },
    {
     "data": {
      "text/html": [
       "Syncing run <strong><a href='https://wandb.ai/prince_/milan-project/runs/6bmay1am' target=\"_blank\">cool-firefly-15</a></strong> to <a href='https://wandb.ai/prince_/milan-project' target=\"_blank\">Weights & Biases</a> (<a href='https://wandb.me/run' target=\"_blank\">docs</a>)<br/>"
      ],
      "text/plain": [
       "<IPython.core.display.HTML object>"
      ]
     },
     "metadata": {},
     "output_type": "display_data"
    },
    {
     "data": {
      "text/html": [
       " View project at <a href='https://wandb.ai/prince_/milan-project' target=\"_blank\">https://wandb.ai/prince_/milan-project</a>"
      ],
      "text/plain": [
       "<IPython.core.display.HTML object>"
      ]
     },
     "metadata": {},
     "output_type": "display_data"
    },
    {
     "data": {
      "text/html": [
       " View run at <a href='https://wandb.ai/prince_/milan-project/runs/6bmay1am' target=\"_blank\">https://wandb.ai/prince_/milan-project/runs/6bmay1am</a>"
      ],
      "text/plain": [
       "<IPython.core.display.HTML object>"
      ]
     },
     "metadata": {},
     "output_type": "display_data"
    }
   ],
   "source": [
    "run = wandb.init(\n",
    "    # Set the project where this run will be logged\n",
    "    project=\"milan-project\",\n",
    "    notes=\"the model is resnet18; freeze all the layers except for the last; data augmentation\",\n",
    "    save_code=True,\n",
    "    # Track hyperparameters and run metadata\n",
    "    config={\n",
    "        \"learning_rate\": lr,\n",
    "        \"epochs\": num_epochs,\n",
    "        \"architecture\": \"resnet18\",\n",
    "        \"dataset\": \"augmented\"\n",
    "    },\n",
    ")"
   ]
  },
  {
   "cell_type": "code",
   "execution_count": 26,
   "metadata": {},
   "outputs": [
    {
     "data": {
      "text/plain": [
       "[]"
      ]
     },
     "execution_count": 26,
     "metadata": {},
     "output_type": "execute_result"
    }
   ],
   "source": [
    "wandb.watch(model, log=\"all\")"
   ]
  },
  {
   "cell_type": "code",
   "execution_count": 16,
   "metadata": {},
   "outputs": [
    {
     "data": {
      "text/plain": [
       "<Artifact notebook>"
      ]
     },
     "execution_count": 16,
     "metadata": {},
     "output_type": "execute_result"
    }
   ],
   "source": [
    "notebook_name = \"NN_resnet18_aug.ipynb\"\n",
    "with open(notebook_name) as f:\n",
    "    nb = nbformat.read(f, as_version=4)\n",
    "artifact = wandb.Artifact('notebook', type='notebook')\n",
    "artifact.add_file(notebook_name)\n",
    "wandb.log_artifact(artifact)"
   ]
  },
  {
   "cell_type": "code",
   "execution_count": 27,
   "metadata": {},
   "outputs": [],
   "source": [
    "logging.basicConfig(level=logging.INFO, format='%(asctime)s %(message)s')"
   ]
  },
  {
   "cell_type": "code",
   "execution_count": 28,
   "metadata": {},
   "outputs": [],
   "source": [
    "from tqdm import tqdm\n",
    "\n",
    "def train_one_epoch(epoch, model, dataloader, criterion, optimizer, device):\n",
    "    model.train()\n",
    "\n",
    "    # if epoch == 5:\n",
    "    #     for param in model.parameters():\n",
    "    #         param.requires_grad = True\n",
    "\n",
    "    running_loss = 0.0\n",
    "    for inputs, labels in dataloader:\n",
    "        inputs, labels = inputs.to(device), labels.to(device)\n",
    "        optimizer.zero_grad()\n",
    "        outputs = model(inputs)\n",
    "        loss = criterion(outputs, labels)\n",
    "        loss.backward()\n",
    "        optimizer.step()\n",
    "        running_loss += loss.item()\n",
    "    avg_loss = running_loss/len(dataloader)\n",
    "    logging.info(f\"Epoch: [{epoch+1}], Training Loss: {avg_loss: .4f}\")\n",
    "    return avg_loss\n",
    "\n",
    "def validation(epoch, model, dataloader, criterion, device):\n",
    "    model.eval()\n",
    "    running_loss = 0.0\n",
    "    all_preds = []\n",
    "    all_labels = []\n",
    "    with torch.no_grad():\n",
    "        for inputs, labels in dataloader:\n",
    "            inputs, labels = inputs.to(device), labels.to(device)\n",
    "            outputs = model(inputs)\n",
    "            loss = criterion(outputs, labels)\n",
    "            running_loss += loss.item()\n",
    "            preds = torch.argmax(outputs, dim=1).cpu().numpy()\n",
    "            all_preds.extend(preds)\n",
    "            all_labels.extend(labels.cpu().numpy())\n",
    "    avg_loss = running_loss / len(dataloader)\n",
    "    accuracy = accuracy_score(all_labels, all_preds)\n",
    "    precision = precision_score(all_labels, all_preds, average='weighted')\n",
    "    recall = recall_score(all_labels, all_preds, average='weighted')\n",
    "    f1 = f1_score(all_labels, all_preds, average='weighted')\n",
    "    logging.info(f\"Epoch: [{epoch+1}], Validation Loss: {avg_loss: .4f}, Accuracy: {accuracy: .4f}, Precision: {precision: .4f}, Recall: {recall: .4f}, F1 Score: {f1: .4f}\")\n",
    "    return avg_loss, accuracy, precision, recall, f1\n",
    "\n",
    "\n",
    "def test(model, dataloader, criterion, device):\n",
    "    model.eval()\n",
    "    running_loss = 0.0\n",
    "    all_preds = []\n",
    "    all_labels = []\n",
    "    with torch.no_grad():\n",
    "        for inputs, labels in dataloader:\n",
    "            inputs, labels = inputs.to(device), labels.to(device)\n",
    "            outputs = model(inputs)\n",
    "            loss = criterion(outputs, labels)\n",
    "            running_loss += loss.item()\n",
    "            preds = torch.argmax(outputs, dim=1).cpu().numpy()\n",
    "            all_preds.extend(preds)\n",
    "            all_labels.extend(labels.cpu().numpy())\n",
    "    avg_loss = running_loss / len(dataloader)\n",
    "    accuracy = accuracy_score(all_labels, all_preds)\n",
    "    precision = precision_score(all_labels, all_preds, average='weighted')\n",
    "    recall = recall_score(all_labels, all_preds, average='weighted')\n",
    "    f1 = f1_score(all_labels, all_preds, average='weighted')\n",
    "\n",
    "    cm = confusion_matrix(all_labels, all_preds)\n",
    "    plt.figure(figsize=(10, 8))\n",
    "    sns.heatmap(cm, annot=True, fmt='d', cmap='Blues', xticklabels=range(training_dataset.num_classes()), yticklabels=range(training_dataset.num_classes()))\n",
    "    plt.xlabel(\"Predicted\")\n",
    "    plt.ylabel(\"True\")\n",
    "    plt.title(\"Confusion matrix\")\n",
    "    plt.show\n",
    "\n",
    "    wandb.log({'test loss': avg_loss, 'accuracy': accuracy, 'precision': precision, 'recall': recall, 'f1 score': f1})\n",
    "    logging.info(f\"Test Loss: {avg_loss: .4f}, Accuracy: {accuracy: .4f}, Precision: {precision: .4f}, Recall: {recall: .4f}, F1 Score: {f1: .4f}\")\n",
    "    return avg_loss, accuracy, precision, recall, f1"
   ]
  },
  {
   "cell_type": "code",
   "execution_count": 29,
   "metadata": {},
   "outputs": [],
   "source": [
    "for epoch in range(num_epochs):\n",
    "    train_one_epoch(epoch, model, train_dataloader, criterion, optimizer, device)\n",
    "    validation(epoch, model, val_dataloader, criterion, device)"
   ]
  },
  {
   "cell_type": "code",
   "execution_count": 20,
   "metadata": {},
   "outputs": [
    {
     "name": "stderr",
     "output_type": "stream",
     "text": [
      "2024-06-06 20:41:52,593 Test Loss:  0.7788, Accuracy:  0.6846, Precision:  0.7798, Recall:  0.6846, F1 Score:  0.6753\n"
     ]
    },
    {
     "data": {
      "text/plain": [
       "(0.7787867714133527,\n",
       " 0.6846153846153846,\n",
       " 0.7798398368057811,\n",
       " 0.6846153846153846,\n",
       " 0.6753464570171857)"
      ]
     },
     "execution_count": 20,
     "metadata": {},
     "output_type": "execute_result"
    },
    {
     "data": {
      "image/png": "[encoded data removed]",
      "text/plain": [
       "<Figure size 1000x800 with 2 Axes>"
      ]
     },
     "metadata": {},
     "output_type": "display_data"
    }
   ],
   "source": [
    "test(model, test_dataloader, criterion, device)"
   ]
  },
  {
   "cell_type": "code",
   "execution_count": 21,
   "metadata": {},
   "outputs": [
    {
     "data": {
      "text/plain": [
       "ArtifactManifestEntry(path='resnet18.pth', digest='ZI2EiJn4SJph9xZfuCB2pQ==', size=44801404, local_path='C:\\\\Users\\\\user\\\\AppData\\\\Local\\\\wandb\\\\wandb\\\\artifacts\\\\staging\\\\tmpok6j2s6r', skip_cache=False)"
      ]
     },
     "execution_count": 21,
     "metadata": {},
     "output_type": "execute_result"
    }
   ],
   "source": [
    "model_name = 'resnet18.pth'\n",
    "\n",
    "torch.save(model.state_dict(), model_name)\n",
    "model_artifact = wandb.Artifact('model', type='model')\n",
    "model_artifact.add_file(model_name)"
   ]
  },
  {
   "cell_type": "code",
   "execution_count": 22,
   "metadata": {},
   "outputs": [
    {
     "data": {
      "text/plain": [
       "<Artifact model>"
      ]
     },
     "execution_count": 22,
     "metadata": {},
     "output_type": "execute_result"
    }
   ],
   "source": [
    "wandb.log_artifact(model_artifact)"
   ]
  },
  {
   "cell_type": "code",
   "execution_count": 23,
   "metadata": {},
   "outputs": [
    {
     "data": {
      "text/html": [
       "<style>\n",
       "    table.wandb td:nth-child(1) { padding: 0 10px; text-align: left ; width: auto;} td:nth-child(2) {text-align: left ; width: 100%}\n",
       "    .wandb-row { display: flex; flex-direction: row; flex-wrap: wrap; justify-content: flex-start; width: 100% }\n",
       "    .wandb-col { display: flex; flex-direction: column; flex-basis: 100%; flex: 1; padding: 10px; }\n",
       "    </style>\n",
       "<div class=\"wandb-row\"><div class=\"wandb-col\"><h3>Run history:</h3><br/><table class=\"wandb\"><tr><td>accuracy</td><td>▁</td></tr><tr><td>f1 score</td><td>▁</td></tr><tr><td>precision</td><td>▁</td></tr><tr><td>recall</td><td>▁</td></tr><tr><td>test loss</td><td>▁</td></tr></table><br/></div><div class=\"wandb-col\"><h3>Run summary:</h3><br/><table class=\"wandb\"><tr><td>accuracy</td><td>0.68462</td></tr><tr><td>f1 score</td><td>0.67535</td></tr><tr><td>precision</td><td>0.77984</td></tr><tr><td>recall</td><td>0.68462</td></tr><tr><td>test loss</td><td>0.77879</td></tr></table><br/></div></div>"
      ],
      "text/plain": [
       "<IPython.core.display.HTML object>"
      ]
     },
     "metadata": {},
     "output_type": "display_data"
    },
    {
     "data": {
      "text/html": [
       " View run <strong style=\"color:#cdcd00\">royal-flower-12</strong> at: <a href='https://wandb.ai/prince_/milan-project/runs/hb0vkkah' target=\"_blank\">https://wandb.ai/prince_/milan-project/runs/hb0vkkah</a><br/> View project at: <a href='https://wandb.ai/prince_/milan-project' target=\"_blank\">https://wandb.ai/prince_/milan-project</a><br/>Synced 5 W&B file(s), 0 media file(s), 1 artifact file(s) and 0 other file(s)"
      ],
      "text/plain": [
       "<IPython.core.display.HTML object>"
      ]
     },
     "metadata": {},
     "output_type": "display_data"
    },
    {
     "data": {
      "text/html": [
       "Find logs at: <code>.\\wandb\\run-20240606_203544-hb0vkkah\\logs</code>"
      ],
      "text/plain": [
       "<IPython.core.display.HTML object>"
      ]
     },
     "metadata": {},
     "output_type": "display_data"
    }
   ],
   "source": [
    "wandb.finish()"
   ]
  }
 ],
 "metadata": {
  "kernelspec": {
   "display_name": "Python 3",
   "language": "python",
   "name": "python3"
  },
  "language_info": {
   "codemirror_mode": {
    "name": "ipython",
    "version": 3
   },
   "file_extension": ".py",
   "mimetype": "text/x-python",
   "name": "python",
   "nbconvert_exporter": "python",
   "pygments_lexer": "ipython3",
   "version": "3.12.3"
  }
 },
 "nbformat": 4,
 "nbformat_minor": 2
}
