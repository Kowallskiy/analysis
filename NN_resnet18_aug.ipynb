{
  "cells": [
    {
      "cell_type": "code",
      "source": [
        "!pip install albumentations wandb nbformat opencv-python-headless"
      ],
      "metadata": {
        "colab": {
          "base_uri": "https://localhost:8080/"
        },
        "id": "bGcNdMwQi_UL",
        "outputId": "39d22e89-858e-47fc-f3ea-9e39f1679d8f"
      },
      "execution_count": null,
      "outputs": [
        {
          "output_type": "stream",
          "name": "stdout",
          "text": [
            "Requirement already satisfied: albumentations in /usr/local/lib/python3.10/dist-packages (1.3.1)\n",
            "Collecting wandb\n",
            "  Downloading wandb-0.17.1-py3-none-manylinux_2_5_x86_64.manylinux1_x86_64.manylinux_2_17_x86_64.manylinux2014_x86_64.whl (6.8 MB)\n",
            "\u001b[2K     \u001b[90m━━━━━━━━━━━━━━━━━━━━━━━━━━━━━━━━━━━━━━━━\u001b[0m \u001b[32m6.8/6.8 MB\u001b[0m \u001b[31m17.3 MB/s\u001b[0m eta \u001b[36m0:00:00\u001b[0m\n",
            "\u001b[?25hRequirement already satisfied: nbformat in /usr/local/lib/python3.10/dist-packages (5.10.4)\n",
            "Requirement already satisfied: opencv-python-headless in /usr/local/lib/python3.10/dist-packages (4.10.0.82)\n",
            "Requirement already satisfied: numpy>=1.11.1 in /usr/local/lib/python3.10/dist-packages (from albumentations) (1.25.2)\n",
            "Requirement already satisfied: scipy>=1.1.0 in /usr/local/lib/python3.10/dist-packages (from albumentations) (1.11.4)\n",
            "Requirement already satisfied: scikit-image>=0.16.1 in /usr/local/lib/python3.10/dist-packages (from albumentations) (0.19.3)\n",
            "Requirement already satisfied: PyYAML in /usr/local/lib/python3.10/dist-packages (from albumentations) (6.0.1)\n",
            "Requirement already satisfied: qudida>=0.0.4 in /usr/local/lib/python3.10/dist-packages (from albumentations) (0.0.4)\n",
            "Requirement already satisfied: click!=8.0.0,>=7.1 in /usr/local/lib/python3.10/dist-packages (from wandb) (8.1.7)\n",
            "Collecting docker-pycreds>=0.4.0 (from wandb)\n",
            "  Downloading docker_pycreds-0.4.0-py2.py3-none-any.whl (9.0 kB)\n",
            "Collecting gitpython!=3.1.29,>=1.0.0 (from wandb)\n",
            "  Downloading GitPython-3.1.43-py3-none-any.whl (207 kB)\n",
            "\u001b[2K     \u001b[90m━━━━━━━━━━━━━━━━━━━━━━━━━━━━━━━━━━━━━━━━\u001b[0m \u001b[32m207.3/207.3 kB\u001b[0m \u001b[31m14.9 MB/s\u001b[0m eta \u001b[36m0:00:00\u001b[0m\n",
            "\u001b[?25hRequirement already satisfied: platformdirs in /usr/local/lib/python3.10/dist-packages (from wandb) (4.2.2)\n",
            "Requirement already satisfied: protobuf!=4.21.0,<6,>=3.19.0 in /usr/local/lib/python3.10/dist-packages (from wandb) (3.20.3)\n",
            "Requirement already satisfied: psutil>=5.0.0 in /usr/local/lib/python3.10/dist-packages (from wandb) (5.9.5)\n",
            "Requirement already satisfied: requests<3,>=2.0.0 in /usr/local/lib/python3.10/dist-packages (from wandb) (2.31.0)\n",
            "Collecting sentry-sdk>=1.0.0 (from wandb)\n",
            "  Downloading sentry_sdk-2.5.1-py2.py3-none-any.whl (289 kB)\n",
            "\u001b[2K     \u001b[90m━━━━━━━━━━━━━━━━━━━━━━━━━━━━━━━━━━━━━━━━\u001b[0m \u001b[32m289.6/289.6 kB\u001b[0m \u001b[31m27.5 MB/s\u001b[0m eta \u001b[36m0:00:00\u001b[0m\n",
            "\u001b[?25hCollecting setproctitle (from wandb)\n",
            "  Downloading setproctitle-1.3.3-cp310-cp310-manylinux_2_5_x86_64.manylinux1_x86_64.manylinux_2_17_x86_64.manylinux2014_x86_64.whl (30 kB)\n",
            "Requirement already satisfied: setuptools in /usr/local/lib/python3.10/dist-packages (from wandb) (67.7.2)\n",
            "Requirement already satisfied: fastjsonschema>=2.15 in /usr/local/lib/python3.10/dist-packages (from nbformat) (2.19.1)\n",
            "Requirement already satisfied: jsonschema>=2.6 in /usr/local/lib/python3.10/dist-packages (from nbformat) (4.19.2)\n",
            "Requirement already satisfied: jupyter-core!=5.0.*,>=4.12 in /usr/local/lib/python3.10/dist-packages (from nbformat) (5.7.2)\n",
            "Requirement already satisfied: traitlets>=5.1 in /usr/local/lib/python3.10/dist-packages (from nbformat) (5.7.1)\n",
            "Requirement already satisfied: six>=1.4.0 in /usr/local/lib/python3.10/dist-packages (from docker-pycreds>=0.4.0->wandb) (1.16.0)\n",
            "Collecting gitdb<5,>=4.0.1 (from gitpython!=3.1.29,>=1.0.0->wandb)\n",
            "  Downloading gitdb-4.0.11-py3-none-any.whl (62 kB)\n",
            "\u001b[2K     \u001b[90m━━━━━━━━━━━━━━━━━━━━━━━━━━━━━━━━━━━━━━━━\u001b[0m \u001b[32m62.7/62.7 kB\u001b[0m \u001b[31m2.1 MB/s\u001b[0m eta \u001b[36m0:00:00\u001b[0m\n",
            "\u001b[?25hRequirement already satisfied: attrs>=22.2.0 in /usr/local/lib/python3.10/dist-packages (from jsonschema>=2.6->nbformat) (23.2.0)\n",
            "Requirement already satisfied: jsonschema-specifications>=2023.03.6 in /usr/local/lib/python3.10/dist-packages (from jsonschema>=2.6->nbformat) (2023.12.1)\n",
            "Requirement already satisfied: referencing>=0.28.4 in /usr/local/lib/python3.10/dist-packages (from jsonschema>=2.6->nbformat) (0.35.1)\n",
            "Requirement already satisfied: rpds-py>=0.7.1 in /usr/local/lib/python3.10/dist-packages (from jsonschema>=2.6->nbformat) (0.18.1)\n",
            "Requirement already satisfied: scikit-learn>=0.19.1 in /usr/local/lib/python3.10/dist-packages (from qudida>=0.0.4->albumentations) (1.2.2)\n",
            "Requirement already satisfied: typing-extensions in /usr/local/lib/python3.10/dist-packages (from qudida>=0.0.4->albumentations) (4.12.2)\n",
            "Requirement already satisfied: charset-normalizer<4,>=2 in /usr/local/lib/python3.10/dist-packages (from requests<3,>=2.0.0->wandb) (3.3.2)\n",
            "Requirement already satisfied: idna<4,>=2.5 in /usr/local/lib/python3.10/dist-packages (from requests<3,>=2.0.0->wandb) (3.7)\n",
            "Requirement already satisfied: urllib3<3,>=1.21.1 in /usr/local/lib/python3.10/dist-packages (from requests<3,>=2.0.0->wandb) (2.0.7)\n",
            "Requirement already satisfied: certifi>=2017.4.17 in /usr/local/lib/python3.10/dist-packages (from requests<3,>=2.0.0->wandb) (2024.6.2)\n",
            "Requirement already satisfied: networkx>=2.2 in /usr/local/lib/python3.10/dist-packages (from scikit-image>=0.16.1->albumentations) (3.3)\n",
            "Requirement already satisfied: pillow!=7.1.0,!=7.1.1,!=8.3.0,>=6.1.0 in /usr/local/lib/python3.10/dist-packages (from scikit-image>=0.16.1->albumentations) (9.4.0)\n",
            "Requirement already satisfied: imageio>=2.4.1 in /usr/local/lib/python3.10/dist-packages (from scikit-image>=0.16.1->albumentations) (2.31.6)\n",
            "Requirement already satisfied: tifffile>=2019.7.26 in /usr/local/lib/python3.10/dist-packages (from scikit-image>=0.16.1->albumentations) (2024.5.22)\n",
            "Requirement already satisfied: PyWavelets>=1.1.1 in /usr/local/lib/python3.10/dist-packages (from scikit-image>=0.16.1->albumentations) (1.6.0)\n",
            "Requirement already satisfied: packaging>=20.0 in /usr/local/lib/python3.10/dist-packages (from scikit-image>=0.16.1->albumentations) (24.1)\n",
            "Collecting smmap<6,>=3.0.1 (from gitdb<5,>=4.0.1->gitpython!=3.1.29,>=1.0.0->wandb)\n",
            "  Downloading smmap-5.0.1-py3-none-any.whl (24 kB)\n",
            "Requirement already satisfied: joblib>=1.1.1 in /usr/local/lib/python3.10/dist-packages (from scikit-learn>=0.19.1->qudida>=0.0.4->albumentations) (1.4.2)\n",
            "Requirement already satisfied: threadpoolctl>=2.0.0 in /usr/local/lib/python3.10/dist-packages (from scikit-learn>=0.19.1->qudida>=0.0.4->albumentations) (3.5.0)\n",
            "Installing collected packages: smmap, setproctitle, sentry-sdk, docker-pycreds, gitdb, gitpython, wandb\n",
            "Successfully installed docker-pycreds-0.4.0 gitdb-4.0.11 gitpython-3.1.43 sentry-sdk-2.5.1 setproctitle-1.3.3 smmap-5.0.1 wandb-0.17.1\n"
          ]
        }
      ]
    },
    {
      "cell_type": "code",
      "source": [
        "from google.colab import drive\n",
        "drive.mount('/content/drive')"
      ],
      "metadata": {
        "colab": {
          "base_uri": "https://localhost:8080/"
        },
        "id": "6Q4bqy3wHrbp",
        "outputId": "5e7dedf6-e3db-416e-d473-11896e4e0b95"
      },
      "execution_count": null,
      "outputs": [
        {
          "output_type": "stream",
          "name": "stdout",
          "text": [
            "Mounted at /content/drive\n"
          ]
        }
      ]
    },
    {
      "cell_type": "code",
      "execution_count": null,
      "metadata": {
        "id": "9zVxzWzni-gF"
      },
      "outputs": [],
      "source": [
        "import torch\n",
        "from torchvision import transforms, datasets\n",
        "from torch.utils.data import Dataset, DataLoader\n",
        "from sklearn.metrics import accuracy_score, precision_score, recall_score, f1_score, confusion_matrix\n",
        "import albumentations as A\n",
        "from albumentations.pytorch import ToTensorV2\n",
        "from PIL import Image\n",
        "import matplotlib.pyplot as plt\n",
        "import seaborn as sns\n",
        "import wandb\n",
        "import nbformat\n",
        "import cv2\n",
        "\n",
        "from collections import Counter\n",
        "import logging\n",
        "import os"
      ]
    },
    {
      "cell_type": "code",
      "execution_count": null,
      "metadata": {
        "id": "0GKCKdpKi-gH",
        "outputId": "27ac7666-55a6-4145-d07f-93f409163fa7",
        "colab": {
          "base_uri": "https://localhost:8080/",
          "height": 69
        }
      },
      "outputs": [
        {
          "output_type": "display_data",
          "data": {
            "text/plain": [
              "<IPython.core.display.Javascript object>"
            ],
            "application/javascript": [
              "\n",
              "        window._wandbApiKey = new Promise((resolve, reject) => {\n",
              "            function loadScript(url) {\n",
              "            return new Promise(function(resolve, reject) {\n",
              "                let newScript = document.createElement(\"script\");\n",
              "                newScript.onerror = reject;\n",
              "                newScript.onload = resolve;\n",
              "                document.body.appendChild(newScript);\n",
              "                newScript.src = url;\n",
              "            });\n",
              "            }\n",
              "            loadScript(\"https://cdn.jsdelivr.net/npm/postmate/build/postmate.min.js\").then(() => {\n",
              "            const iframe = document.createElement('iframe')\n",
              "            iframe.style.cssText = \"width:0;height:0;border:none\"\n",
              "            document.body.appendChild(iframe)\n",
              "            const handshake = new Postmate({\n",
              "                container: iframe,\n",
              "                url: 'https://wandb.ai/authorize'\n",
              "            });\n",
              "            const timeout = setTimeout(() => reject(\"Couldn't auto authenticate\"), 5000)\n",
              "            handshake.then(function(child) {\n",
              "                child.on('authorize', data => {\n",
              "                    clearTimeout(timeout)\n",
              "                    resolve(data)\n",
              "                });\n",
              "            });\n",
              "            })\n",
              "        });\n",
              "    "
            ]
          },
          "metadata": {}
        },
        {
          "output_type": "stream",
          "name": "stderr",
          "text": [
            "\u001b[34m\u001b[1mwandb\u001b[0m: Appending key for api.wandb.ai to your netrc file: /root/.netrc\n"
          ]
        },
        {
          "output_type": "execute_result",
          "data": {
            "text/plain": [
              "True"
            ]
          },
          "metadata": {},
          "execution_count": 4
        }
      ],
      "source": [
        "wandb.login()"
      ]
    },
    {
      "cell_type": "code",
      "execution_count": null,
      "metadata": {
        "id": "qQngjiRgi-gH",
        "outputId": "d2707a46-32b2-4115-aa0a-8de7341b6cb5",
        "colab": {
          "base_uri": "https://localhost:8080/"
        }
      },
      "outputs": [
        {
          "output_type": "stream",
          "name": "stderr",
          "text": [
            "Using cache found in /root/.cache/torch/hub/NVIDIA_DeepLearningExamples_torchhub\n"
          ]
        }
      ],
      "source": [
        "model = torch.hub.load('NVIDIA/DeepLearningExamples:torchhub', 'nvidia_efficientnet_b0', pretrained=True)"
      ]
    },
    {
      "cell_type": "code",
      "execution_count": null,
      "metadata": {
        "id": "vwR7go0li-gI"
      },
      "outputs": [],
      "source": [
        "data_transforms = {\n",
        "    \"train\": A.Compose([\n",
        "        A.HorizontalFlip(p=0.5),\n",
        "        A.VerticalFlip(p=0.5),\n",
        "        A.RandomRotate90(p=0.3),\n",
        "        #A.RandomBrightnessContrast(brightness_limit=(-0.2,0.2), contrast_limit=(-0.3, 0.3), p=0.3),\n",
        "        #A.HueSaturationValue(hue_shift_limit=10, sat_shift_limit=30, val_shift_limit=20, p=0.2),\n",
        "        A.GaussNoise(var_limit=(10, 50), p=0.1),\n",
        "        A.CLAHE(clip_limit=(1,3), tile_grid_size=(8, 8), p=0.3),\n",
        "        #A.RandomCrop(224, 224, 0.3),  # RandomCrop to introduce variability\n",
        "        # A.CenterCrop(height=224, width=224, p=0.3),\n",
        "        # choose mean and std based on pre-trained model specification.\n",
        "        A.Normalize(mean=[0.485, 0.456, 0.406], std=[0.229, 0.224, 0.225]),\n",
        "        ToTensorV2(),\n",
        "    ]),\n",
        "    \"validation\": A.Compose([\n",
        "        A.Normalize(mean=[0.485, 0.456, 0.406], std=[0.229, 0.224, 0.225]),\n",
        "        ToTensorV2(),\n",
        "    ]),\n",
        "    \"test\": A.Compose([\n",
        "        A.Normalize(mean=[0.485, 0.456, 0.406], std=[0.229, 0.224, 0.225]),\n",
        "        ToTensorV2(),\n",
        "    ])\n",
        "}\n"
      ]
    },
    {
      "cell_type": "code",
      "execution_count": null,
      "metadata": {
        "id": "Q9KfQNNBi-gI"
      },
      "outputs": [],
      "source": [
        "class CustomDataset(Dataset):\n",
        "    def __init__(self, dir_root, split, transform=None, resize=None):\n",
        "        self.dir_root = dir_root\n",
        "        self.split = split\n",
        "        self.transform = transform\n",
        "        self.resize = resize\n",
        "        self.data = []\n",
        "        self.targets = []\n",
        "        self.class_names = []\n",
        "\n",
        "        data_dir = os.path.join(dir_root, split)\n",
        "\n",
        "        class_directories = sorted(os.listdir(data_dir))\n",
        "        for class_idx, class_dir in enumerate(class_directories):\n",
        "            class_path = os.path.join(data_dir, class_dir)\n",
        "            self.class_names.append(class_dir)\n",
        "\n",
        "            for img_name in os.listdir(class_path):\n",
        "                img_path = os.path.join(class_path, img_name)\n",
        "                self.data.append(img_path)\n",
        "                self.targets.append(class_idx)\n",
        "\n",
        "        self.class_idx_to_name = {idx: name for idx, name in enumerate(self.class_names)}\n",
        "\n",
        "    def __len__(self):\n",
        "        return len(self.data)\n",
        "\n",
        "    def __getitem__(self, idx):\n",
        "        img_path = self.data[idx]\n",
        "        target = self.targets[idx]\n",
        "\n",
        "        try:\n",
        "            image = cv2.imread(img_path)\n",
        "\n",
        "            if self.resize:\n",
        "                image = cv2.resize(image, (self.resize, self.resize))\n",
        "\n",
        "            if self.transform:\n",
        "                image = self.transform(image=image)['image']\n",
        "\n",
        "            return image, target\n",
        "\n",
        "        except Exception as e:\n",
        "            print(f\"Error loading image: {e}\")\n",
        "            return None, None\n",
        "\n",
        "    def num_classes(self):\n",
        "        return len(self.class_names)\n",
        "\n",
        "    def get_class_name(self, class_idx):\n",
        "        return self.class_idx_to_name.get(class_idx)\n",
        "\n",
        "    def get_class_names(self):\n",
        "        return self.class_names\n",
        "\n",
        "    def class_idx_to_name_dict(self):\n",
        "        return self.class_idx_to_name\n",
        "\n",
        "    def get_classes_frequencies(self):\n",
        "        return dict(Counter(self.targets))"
      ]
    },
    {
      "cell_type": "code",
      "execution_count": null,
      "metadata": {
        "id": "QjHdWlwfi-gI"
      },
      "outputs": [],
      "source": [
        "data_directory = \"/content/drive/MyDrive/original(resized)\""
      ]
    },
    {
      "cell_type": "code",
      "execution_count": null,
      "metadata": {
        "id": "0pIwzZxYi-gI"
      },
      "outputs": [],
      "source": [
        "training_dataset = CustomDataset(dir_root=data_directory, split='train', transform=data_transforms['train'])\n",
        "validation_dataset = CustomDataset(dir_root=data_directory, split='validation', transform=data_transforms['validation'])\n",
        "test_dataset = CustomDataset(dir_root=data_directory, split='test', transform=data_transforms['test'])"
      ]
    },
    {
      "cell_type": "code",
      "source": [
        "print(training_dataset.num_classes())\n",
        "print(training_dataset.get_class_names())\n",
        "print(training_dataset.get_classes_frequencies())"
      ],
      "metadata": {
        "colab": {
          "base_uri": "https://localhost:8080/"
        },
        "id": "HrjdnsGTIezJ",
        "outputId": "358326d8-8109-4e0b-93de-c72f0a43ade8"
      },
      "execution_count": null,
      "outputs": [
        {
          "output_type": "stream",
          "name": "stdout",
          "text": [
            "8\n",
            "['Anthracnose_Fungi', 'Bacterial_Wilt_Bacteria', 'Belly_Rot_Fungi', 'Downy_Mildew_Fungi', 'Gummy_Stem_Blight_Fungi', 'Healthy_Crop_Cucumber', 'Healthy_Crop_Leaf', 'Pythium_Fruit_Rot_Fungi']\n",
            "{0: 128, 1: 128, 2: 128, 3: 128, 4: 128, 5: 128, 6: 128, 7: 135}\n"
          ]
        }
      ]
    },
    {
      "cell_type": "code",
      "execution_count": null,
      "metadata": {
        "id": "k-zVt95ni-gI"
      },
      "outputs": [],
      "source": [
        "# pin_memory=Ture allows faster transfer of data from host (CPU) to device (GPU) memory\n",
        "train_dataloader = DataLoader(training_dataset, batch_size=32, shuffle=True, num_workers=2, pin_memory=True)\n",
        "val_dataloader = DataLoader(validation_dataset, batch_size=32, shuffle=False, num_workers=2, pin_memory=True)\n",
        "test_dataloader = DataLoader(test_dataset, batch_size=32, shuffle=False, num_workers=2, pin_memory=True)"
      ]
    },
    {
      "cell_type": "code",
      "execution_count": null,
      "metadata": {
        "id": "bFCPc25ai-gJ"
      },
      "outputs": [],
      "source": [
        "device = torch.device(\"cuda\" if torch.cuda.is_available() else 'cpu')"
      ]
    },
    {
      "cell_type": "code",
      "execution_count": null,
      "metadata": {
        "id": "fnLeoZpli-gJ",
        "outputId": "5a86b1af-a55b-4626-b679-1c750a483212",
        "colab": {
          "base_uri": "https://localhost:8080/"
        }
      },
      "outputs": [
        {
          "output_type": "execute_result",
          "data": {
            "text/plain": [
              "EfficientNet(\n",
              "  (stem): Sequential(\n",
              "    (conv): Conv2d(3, 32, kernel_size=(3, 3), stride=(2, 2), padding=(1, 1), bias=False)\n",
              "    (bn): BatchNorm2d(32, eps=0.001, momentum=0.010000000000000009, affine=True, track_running_stats=True)\n",
              "    (activation): SiLU(inplace=True)\n",
              "  )\n",
              "  (layers): Sequential(\n",
              "    (0): Sequential(\n",
              "      (block0): MBConvBlock(\n",
              "        (depsep): Sequential(\n",
              "          (conv): Conv2d(32, 32, kernel_size=(3, 3), stride=(1, 1), padding=(1, 1), groups=32, bias=False)\n",
              "          (bn): BatchNorm2d(32, eps=0.001, momentum=0.010000000000000009, affine=True, track_running_stats=True)\n",
              "          (act): SiLU(inplace=True)\n",
              "        )\n",
              "        (se): SequentialSqueezeAndExcitation(\n",
              "          (squeeze): Linear(in_features=32, out_features=8, bias=True)\n",
              "          (expand): Linear(in_features=8, out_features=32, bias=True)\n",
              "          (activation): SiLU(inplace=True)\n",
              "          (sigmoid): Sigmoid()\n",
              "          (mul_a_quantizer): Identity()\n",
              "          (mul_b_quantizer): Identity()\n",
              "        )\n",
              "        (proj): Sequential(\n",
              "          (conv): Conv2d(32, 16, kernel_size=(1, 1), stride=(1, 1), bias=False)\n",
              "          (bn): BatchNorm2d(16, eps=0.001, momentum=0.010000000000000009, affine=True, track_running_stats=True)\n",
              "        )\n",
              "        (residual_quantizer): Identity()\n",
              "      )\n",
              "    )\n",
              "    (1): Sequential(\n",
              "      (block0): MBConvBlock(\n",
              "        (expand): Sequential(\n",
              "          (conv): Conv2d(16, 96, kernel_size=(1, 1), stride=(1, 1), bias=False)\n",
              "          (bn): BatchNorm2d(96, eps=0.001, momentum=0.010000000000000009, affine=True, track_running_stats=True)\n",
              "          (act): SiLU(inplace=True)\n",
              "        )\n",
              "        (depsep): Sequential(\n",
              "          (conv): Conv2d(96, 96, kernel_size=(3, 3), stride=(2, 2), padding=(1, 1), groups=96, bias=False)\n",
              "          (bn): BatchNorm2d(96, eps=0.001, momentum=0.010000000000000009, affine=True, track_running_stats=True)\n",
              "          (act): SiLU(inplace=True)\n",
              "        )\n",
              "        (se): SequentialSqueezeAndExcitation(\n",
              "          (squeeze): Linear(in_features=96, out_features=4, bias=True)\n",
              "          (expand): Linear(in_features=4, out_features=96, bias=True)\n",
              "          (activation): SiLU(inplace=True)\n",
              "          (sigmoid): Sigmoid()\n",
              "          (mul_a_quantizer): Identity()\n",
              "          (mul_b_quantizer): Identity()\n",
              "        )\n",
              "        (proj): Sequential(\n",
              "          (conv): Conv2d(96, 24, kernel_size=(1, 1), stride=(1, 1), bias=False)\n",
              "          (bn): BatchNorm2d(24, eps=0.001, momentum=0.010000000000000009, affine=True, track_running_stats=True)\n",
              "        )\n",
              "        (residual_quantizer): Identity()\n",
              "      )\n",
              "      (block1): MBConvBlock(\n",
              "        (expand): Sequential(\n",
              "          (conv): Conv2d(24, 144, kernel_size=(1, 1), stride=(1, 1), bias=False)\n",
              "          (bn): BatchNorm2d(144, eps=0.001, momentum=0.010000000000000009, affine=True, track_running_stats=True)\n",
              "          (act): SiLU(inplace=True)\n",
              "        )\n",
              "        (depsep): Sequential(\n",
              "          (conv): Conv2d(144, 144, kernel_size=(3, 3), stride=(1, 1), padding=(1, 1), groups=144, bias=False)\n",
              "          (bn): BatchNorm2d(144, eps=0.001, momentum=0.010000000000000009, affine=True, track_running_stats=True)\n",
              "          (act): SiLU(inplace=True)\n",
              "        )\n",
              "        (se): SequentialSqueezeAndExcitation(\n",
              "          (squeeze): Linear(in_features=144, out_features=6, bias=True)\n",
              "          (expand): Linear(in_features=6, out_features=144, bias=True)\n",
              "          (activation): SiLU(inplace=True)\n",
              "          (sigmoid): Sigmoid()\n",
              "          (mul_a_quantizer): Identity()\n",
              "          (mul_b_quantizer): Identity()\n",
              "        )\n",
              "        (proj): Sequential(\n",
              "          (conv): Conv2d(144, 24, kernel_size=(1, 1), stride=(1, 1), bias=False)\n",
              "          (bn): BatchNorm2d(24, eps=0.001, momentum=0.010000000000000009, affine=True, track_running_stats=True)\n",
              "        )\n",
              "        (residual_quantizer): Identity()\n",
              "      )\n",
              "    )\n",
              "    (2): Sequential(\n",
              "      (block0): MBConvBlock(\n",
              "        (expand): Sequential(\n",
              "          (conv): Conv2d(24, 144, kernel_size=(1, 1), stride=(1, 1), bias=False)\n",
              "          (bn): BatchNorm2d(144, eps=0.001, momentum=0.010000000000000009, affine=True, track_running_stats=True)\n",
              "          (act): SiLU(inplace=True)\n",
              "        )\n",
              "        (depsep): Sequential(\n",
              "          (conv): Conv2d(144, 144, kernel_size=(5, 5), stride=(2, 2), padding=(2, 2), groups=144, bias=False)\n",
              "          (bn): BatchNorm2d(144, eps=0.001, momentum=0.010000000000000009, affine=True, track_running_stats=True)\n",
              "          (act): SiLU(inplace=True)\n",
              "        )\n",
              "        (se): SequentialSqueezeAndExcitation(\n",
              "          (squeeze): Linear(in_features=144, out_features=6, bias=True)\n",
              "          (expand): Linear(in_features=6, out_features=144, bias=True)\n",
              "          (activation): SiLU(inplace=True)\n",
              "          (sigmoid): Sigmoid()\n",
              "          (mul_a_quantizer): Identity()\n",
              "          (mul_b_quantizer): Identity()\n",
              "        )\n",
              "        (proj): Sequential(\n",
              "          (conv): Conv2d(144, 40, kernel_size=(1, 1), stride=(1, 1), bias=False)\n",
              "          (bn): BatchNorm2d(40, eps=0.001, momentum=0.010000000000000009, affine=True, track_running_stats=True)\n",
              "        )\n",
              "        (residual_quantizer): Identity()\n",
              "      )\n",
              "      (block1): MBConvBlock(\n",
              "        (expand): Sequential(\n",
              "          (conv): Conv2d(40, 240, kernel_size=(1, 1), stride=(1, 1), bias=False)\n",
              "          (bn): BatchNorm2d(240, eps=0.001, momentum=0.010000000000000009, affine=True, track_running_stats=True)\n",
              "          (act): SiLU(inplace=True)\n",
              "        )\n",
              "        (depsep): Sequential(\n",
              "          (conv): Conv2d(240, 240, kernel_size=(5, 5), stride=(1, 1), padding=(2, 2), groups=240, bias=False)\n",
              "          (bn): BatchNorm2d(240, eps=0.001, momentum=0.010000000000000009, affine=True, track_running_stats=True)\n",
              "          (act): SiLU(inplace=True)\n",
              "        )\n",
              "        (se): SequentialSqueezeAndExcitation(\n",
              "          (squeeze): Linear(in_features=240, out_features=10, bias=True)\n",
              "          (expand): Linear(in_features=10, out_features=240, bias=True)\n",
              "          (activation): SiLU(inplace=True)\n",
              "          (sigmoid): Sigmoid()\n",
              "          (mul_a_quantizer): Identity()\n",
              "          (mul_b_quantizer): Identity()\n",
              "        )\n",
              "        (proj): Sequential(\n",
              "          (conv): Conv2d(240, 40, kernel_size=(1, 1), stride=(1, 1), bias=False)\n",
              "          (bn): BatchNorm2d(40, eps=0.001, momentum=0.010000000000000009, affine=True, track_running_stats=True)\n",
              "        )\n",
              "        (residual_quantizer): Identity()\n",
              "      )\n",
              "    )\n",
              "    (3): Sequential(\n",
              "      (block0): MBConvBlock(\n",
              "        (expand): Sequential(\n",
              "          (conv): Conv2d(40, 240, kernel_size=(1, 1), stride=(1, 1), bias=False)\n",
              "          (bn): BatchNorm2d(240, eps=0.001, momentum=0.010000000000000009, affine=True, track_running_stats=True)\n",
              "          (act): SiLU(inplace=True)\n",
              "        )\n",
              "        (depsep): Sequential(\n",
              "          (conv): Conv2d(240, 240, kernel_size=(3, 3), stride=(2, 2), padding=(1, 1), groups=240, bias=False)\n",
              "          (bn): BatchNorm2d(240, eps=0.001, momentum=0.010000000000000009, affine=True, track_running_stats=True)\n",
              "          (act): SiLU(inplace=True)\n",
              "        )\n",
              "        (se): SequentialSqueezeAndExcitation(\n",
              "          (squeeze): Linear(in_features=240, out_features=10, bias=True)\n",
              "          (expand): Linear(in_features=10, out_features=240, bias=True)\n",
              "          (activation): SiLU(inplace=True)\n",
              "          (sigmoid): Sigmoid()\n",
              "          (mul_a_quantizer): Identity()\n",
              "          (mul_b_quantizer): Identity()\n",
              "        )\n",
              "        (proj): Sequential(\n",
              "          (conv): Conv2d(240, 80, kernel_size=(1, 1), stride=(1, 1), bias=False)\n",
              "          (bn): BatchNorm2d(80, eps=0.001, momentum=0.010000000000000009, affine=True, track_running_stats=True)\n",
              "        )\n",
              "        (residual_quantizer): Identity()\n",
              "      )\n",
              "      (block1): MBConvBlock(\n",
              "        (expand): Sequential(\n",
              "          (conv): Conv2d(80, 480, kernel_size=(1, 1), stride=(1, 1), bias=False)\n",
              "          (bn): BatchNorm2d(480, eps=0.001, momentum=0.010000000000000009, affine=True, track_running_stats=True)\n",
              "          (act): SiLU(inplace=True)\n",
              "        )\n",
              "        (depsep): Sequential(\n",
              "          (conv): Conv2d(480, 480, kernel_size=(3, 3), stride=(1, 1), padding=(1, 1), groups=480, bias=False)\n",
              "          (bn): BatchNorm2d(480, eps=0.001, momentum=0.010000000000000009, affine=True, track_running_stats=True)\n",
              "          (act): SiLU(inplace=True)\n",
              "        )\n",
              "        (se): SequentialSqueezeAndExcitation(\n",
              "          (squeeze): Linear(in_features=480, out_features=20, bias=True)\n",
              "          (expand): Linear(in_features=20, out_features=480, bias=True)\n",
              "          (activation): SiLU(inplace=True)\n",
              "          (sigmoid): Sigmoid()\n",
              "          (mul_a_quantizer): Identity()\n",
              "          (mul_b_quantizer): Identity()\n",
              "        )\n",
              "        (proj): Sequential(\n",
              "          (conv): Conv2d(480, 80, kernel_size=(1, 1), stride=(1, 1), bias=False)\n",
              "          (bn): BatchNorm2d(80, eps=0.001, momentum=0.010000000000000009, affine=True, track_running_stats=True)\n",
              "        )\n",
              "        (residual_quantizer): Identity()\n",
              "      )\n",
              "      (block2): MBConvBlock(\n",
              "        (expand): Sequential(\n",
              "          (conv): Conv2d(80, 480, kernel_size=(1, 1), stride=(1, 1), bias=False)\n",
              "          (bn): BatchNorm2d(480, eps=0.001, momentum=0.010000000000000009, affine=True, track_running_stats=True)\n",
              "          (act): SiLU(inplace=True)\n",
              "        )\n",
              "        (depsep): Sequential(\n",
              "          (conv): Conv2d(480, 480, kernel_size=(3, 3), stride=(1, 1), padding=(1, 1), groups=480, bias=False)\n",
              "          (bn): BatchNorm2d(480, eps=0.001, momentum=0.010000000000000009, affine=True, track_running_stats=True)\n",
              "          (act): SiLU(inplace=True)\n",
              "        )\n",
              "        (se): SequentialSqueezeAndExcitation(\n",
              "          (squeeze): Linear(in_features=480, out_features=20, bias=True)\n",
              "          (expand): Linear(in_features=20, out_features=480, bias=True)\n",
              "          (activation): SiLU(inplace=True)\n",
              "          (sigmoid): Sigmoid()\n",
              "          (mul_a_quantizer): Identity()\n",
              "          (mul_b_quantizer): Identity()\n",
              "        )\n",
              "        (proj): Sequential(\n",
              "          (conv): Conv2d(480, 80, kernel_size=(1, 1), stride=(1, 1), bias=False)\n",
              "          (bn): BatchNorm2d(80, eps=0.001, momentum=0.010000000000000009, affine=True, track_running_stats=True)\n",
              "        )\n",
              "        (residual_quantizer): Identity()\n",
              "      )\n",
              "    )\n",
              "    (4): Sequential(\n",
              "      (block0): MBConvBlock(\n",
              "        (expand): Sequential(\n",
              "          (conv): Conv2d(80, 480, kernel_size=(1, 1), stride=(1, 1), bias=False)\n",
              "          (bn): BatchNorm2d(480, eps=0.001, momentum=0.010000000000000009, affine=True, track_running_stats=True)\n",
              "          (act): SiLU(inplace=True)\n",
              "        )\n",
              "        (depsep): Sequential(\n",
              "          (conv): Conv2d(480, 480, kernel_size=(5, 5), stride=(1, 1), padding=(2, 2), groups=480, bias=False)\n",
              "          (bn): BatchNorm2d(480, eps=0.001, momentum=0.010000000000000009, affine=True, track_running_stats=True)\n",
              "          (act): SiLU(inplace=True)\n",
              "        )\n",
              "        (se): SequentialSqueezeAndExcitation(\n",
              "          (squeeze): Linear(in_features=480, out_features=20, bias=True)\n",
              "          (expand): Linear(in_features=20, out_features=480, bias=True)\n",
              "          (activation): SiLU(inplace=True)\n",
              "          (sigmoid): Sigmoid()\n",
              "          (mul_a_quantizer): Identity()\n",
              "          (mul_b_quantizer): Identity()\n",
              "        )\n",
              "        (proj): Sequential(\n",
              "          (conv): Conv2d(480, 112, kernel_size=(1, 1), stride=(1, 1), bias=False)\n",
              "          (bn): BatchNorm2d(112, eps=0.001, momentum=0.010000000000000009, affine=True, track_running_stats=True)\n",
              "        )\n",
              "        (residual_quantizer): Identity()\n",
              "      )\n",
              "      (block1): MBConvBlock(\n",
              "        (expand): Sequential(\n",
              "          (conv): Conv2d(112, 672, kernel_size=(1, 1), stride=(1, 1), bias=False)\n",
              "          (bn): BatchNorm2d(672, eps=0.001, momentum=0.010000000000000009, affine=True, track_running_stats=True)\n",
              "          (act): SiLU(inplace=True)\n",
              "        )\n",
              "        (depsep): Sequential(\n",
              "          (conv): Conv2d(672, 672, kernel_size=(5, 5), stride=(1, 1), padding=(2, 2), groups=672, bias=False)\n",
              "          (bn): BatchNorm2d(672, eps=0.001, momentum=0.010000000000000009, affine=True, track_running_stats=True)\n",
              "          (act): SiLU(inplace=True)\n",
              "        )\n",
              "        (se): SequentialSqueezeAndExcitation(\n",
              "          (squeeze): Linear(in_features=672, out_features=28, bias=True)\n",
              "          (expand): Linear(in_features=28, out_features=672, bias=True)\n",
              "          (activation): SiLU(inplace=True)\n",
              "          (sigmoid): Sigmoid()\n",
              "          (mul_a_quantizer): Identity()\n",
              "          (mul_b_quantizer): Identity()\n",
              "        )\n",
              "        (proj): Sequential(\n",
              "          (conv): Conv2d(672, 112, kernel_size=(1, 1), stride=(1, 1), bias=False)\n",
              "          (bn): BatchNorm2d(112, eps=0.001, momentum=0.010000000000000009, affine=True, track_running_stats=True)\n",
              "        )\n",
              "        (residual_quantizer): Identity()\n",
              "      )\n",
              "      (block2): MBConvBlock(\n",
              "        (expand): Sequential(\n",
              "          (conv): Conv2d(112, 672, kernel_size=(1, 1), stride=(1, 1), bias=False)\n",
              "          (bn): BatchNorm2d(672, eps=0.001, momentum=0.010000000000000009, affine=True, track_running_stats=True)\n",
              "          (act): SiLU(inplace=True)\n",
              "        )\n",
              "        (depsep): Sequential(\n",
              "          (conv): Conv2d(672, 672, kernel_size=(5, 5), stride=(1, 1), padding=(2, 2), groups=672, bias=False)\n",
              "          (bn): BatchNorm2d(672, eps=0.001, momentum=0.010000000000000009, affine=True, track_running_stats=True)\n",
              "          (act): SiLU(inplace=True)\n",
              "        )\n",
              "        (se): SequentialSqueezeAndExcitation(\n",
              "          (squeeze): Linear(in_features=672, out_features=28, bias=True)\n",
              "          (expand): Linear(in_features=28, out_features=672, bias=True)\n",
              "          (activation): SiLU(inplace=True)\n",
              "          (sigmoid): Sigmoid()\n",
              "          (mul_a_quantizer): Identity()\n",
              "          (mul_b_quantizer): Identity()\n",
              "        )\n",
              "        (proj): Sequential(\n",
              "          (conv): Conv2d(672, 112, kernel_size=(1, 1), stride=(1, 1), bias=False)\n",
              "          (bn): BatchNorm2d(112, eps=0.001, momentum=0.010000000000000009, affine=True, track_running_stats=True)\n",
              "        )\n",
              "        (residual_quantizer): Identity()\n",
              "      )\n",
              "    )\n",
              "    (5): Sequential(\n",
              "      (block0): MBConvBlock(\n",
              "        (expand): Sequential(\n",
              "          (conv): Conv2d(112, 672, kernel_size=(1, 1), stride=(1, 1), bias=False)\n",
              "          (bn): BatchNorm2d(672, eps=0.001, momentum=0.010000000000000009, affine=True, track_running_stats=True)\n",
              "          (act): SiLU(inplace=True)\n",
              "        )\n",
              "        (depsep): Sequential(\n",
              "          (conv): Conv2d(672, 672, kernel_size=(5, 5), stride=(2, 2), padding=(2, 2), groups=672, bias=False)\n",
              "          (bn): BatchNorm2d(672, eps=0.001, momentum=0.010000000000000009, affine=True, track_running_stats=True)\n",
              "          (act): SiLU(inplace=True)\n",
              "        )\n",
              "        (se): SequentialSqueezeAndExcitation(\n",
              "          (squeeze): Linear(in_features=672, out_features=28, bias=True)\n",
              "          (expand): Linear(in_features=28, out_features=672, bias=True)\n",
              "          (activation): SiLU(inplace=True)\n",
              "          (sigmoid): Sigmoid()\n",
              "          (mul_a_quantizer): Identity()\n",
              "          (mul_b_quantizer): Identity()\n",
              "        )\n",
              "        (proj): Sequential(\n",
              "          (conv): Conv2d(672, 192, kernel_size=(1, 1), stride=(1, 1), bias=False)\n",
              "          (bn): BatchNorm2d(192, eps=0.001, momentum=0.010000000000000009, affine=True, track_running_stats=True)\n",
              "        )\n",
              "        (residual_quantizer): Identity()\n",
              "      )\n",
              "      (block1): MBConvBlock(\n",
              "        (expand): Sequential(\n",
              "          (conv): Conv2d(192, 1152, kernel_size=(1, 1), stride=(1, 1), bias=False)\n",
              "          (bn): BatchNorm2d(1152, eps=0.001, momentum=0.010000000000000009, affine=True, track_running_stats=True)\n",
              "          (act): SiLU(inplace=True)\n",
              "        )\n",
              "        (depsep): Sequential(\n",
              "          (conv): Conv2d(1152, 1152, kernel_size=(5, 5), stride=(1, 1), padding=(2, 2), groups=1152, bias=False)\n",
              "          (bn): BatchNorm2d(1152, eps=0.001, momentum=0.010000000000000009, affine=True, track_running_stats=True)\n",
              "          (act): SiLU(inplace=True)\n",
              "        )\n",
              "        (se): SequentialSqueezeAndExcitation(\n",
              "          (squeeze): Linear(in_features=1152, out_features=48, bias=True)\n",
              "          (expand): Linear(in_features=48, out_features=1152, bias=True)\n",
              "          (activation): SiLU(inplace=True)\n",
              "          (sigmoid): Sigmoid()\n",
              "          (mul_a_quantizer): Identity()\n",
              "          (mul_b_quantizer): Identity()\n",
              "        )\n",
              "        (proj): Sequential(\n",
              "          (conv): Conv2d(1152, 192, kernel_size=(1, 1), stride=(1, 1), bias=False)\n",
              "          (bn): BatchNorm2d(192, eps=0.001, momentum=0.010000000000000009, affine=True, track_running_stats=True)\n",
              "        )\n",
              "        (residual_quantizer): Identity()\n",
              "      )\n",
              "      (block2): MBConvBlock(\n",
              "        (expand): Sequential(\n",
              "          (conv): Conv2d(192, 1152, kernel_size=(1, 1), stride=(1, 1), bias=False)\n",
              "          (bn): BatchNorm2d(1152, eps=0.001, momentum=0.010000000000000009, affine=True, track_running_stats=True)\n",
              "          (act): SiLU(inplace=True)\n",
              "        )\n",
              "        (depsep): Sequential(\n",
              "          (conv): Conv2d(1152, 1152, kernel_size=(5, 5), stride=(1, 1), padding=(2, 2), groups=1152, bias=False)\n",
              "          (bn): BatchNorm2d(1152, eps=0.001, momentum=0.010000000000000009, affine=True, track_running_stats=True)\n",
              "          (act): SiLU(inplace=True)\n",
              "        )\n",
              "        (se): SequentialSqueezeAndExcitation(\n",
              "          (squeeze): Linear(in_features=1152, out_features=48, bias=True)\n",
              "          (expand): Linear(in_features=48, out_features=1152, bias=True)\n",
              "          (activation): SiLU(inplace=True)\n",
              "          (sigmoid): Sigmoid()\n",
              "          (mul_a_quantizer): Identity()\n",
              "          (mul_b_quantizer): Identity()\n",
              "        )\n",
              "        (proj): Sequential(\n",
              "          (conv): Conv2d(1152, 192, kernel_size=(1, 1), stride=(1, 1), bias=False)\n",
              "          (bn): BatchNorm2d(192, eps=0.001, momentum=0.010000000000000009, affine=True, track_running_stats=True)\n",
              "        )\n",
              "        (residual_quantizer): Identity()\n",
              "      )\n",
              "      (block3): MBConvBlock(\n",
              "        (expand): Sequential(\n",
              "          (conv): Conv2d(192, 1152, kernel_size=(1, 1), stride=(1, 1), bias=False)\n",
              "          (bn): BatchNorm2d(1152, eps=0.001, momentum=0.010000000000000009, affine=True, track_running_stats=True)\n",
              "          (act): SiLU(inplace=True)\n",
              "        )\n",
              "        (depsep): Sequential(\n",
              "          (conv): Conv2d(1152, 1152, kernel_size=(5, 5), stride=(1, 1), padding=(2, 2), groups=1152, bias=False)\n",
              "          (bn): BatchNorm2d(1152, eps=0.001, momentum=0.010000000000000009, affine=True, track_running_stats=True)\n",
              "          (act): SiLU(inplace=True)\n",
              "        )\n",
              "        (se): SequentialSqueezeAndExcitation(\n",
              "          (squeeze): Linear(in_features=1152, out_features=48, bias=True)\n",
              "          (expand): Linear(in_features=48, out_features=1152, bias=True)\n",
              "          (activation): SiLU(inplace=True)\n",
              "          (sigmoid): Sigmoid()\n",
              "          (mul_a_quantizer): Identity()\n",
              "          (mul_b_quantizer): Identity()\n",
              "        )\n",
              "        (proj): Sequential(\n",
              "          (conv): Conv2d(1152, 192, kernel_size=(1, 1), stride=(1, 1), bias=False)\n",
              "          (bn): BatchNorm2d(192, eps=0.001, momentum=0.010000000000000009, affine=True, track_running_stats=True)\n",
              "        )\n",
              "        (residual_quantizer): Identity()\n",
              "      )\n",
              "    )\n",
              "    (6): Sequential(\n",
              "      (block0): MBConvBlock(\n",
              "        (expand): Sequential(\n",
              "          (conv): Conv2d(192, 1152, kernel_size=(1, 1), stride=(1, 1), bias=False)\n",
              "          (bn): BatchNorm2d(1152, eps=0.001, momentum=0.010000000000000009, affine=True, track_running_stats=True)\n",
              "          (act): SiLU(inplace=True)\n",
              "        )\n",
              "        (depsep): Sequential(\n",
              "          (conv): Conv2d(1152, 1152, kernel_size=(3, 3), stride=(1, 1), padding=(1, 1), groups=1152, bias=False)\n",
              "          (bn): BatchNorm2d(1152, eps=0.001, momentum=0.010000000000000009, affine=True, track_running_stats=True)\n",
              "          (act): SiLU(inplace=True)\n",
              "        )\n",
              "        (se): SequentialSqueezeAndExcitation(\n",
              "          (squeeze): Linear(in_features=1152, out_features=48, bias=True)\n",
              "          (expand): Linear(in_features=48, out_features=1152, bias=True)\n",
              "          (activation): SiLU(inplace=True)\n",
              "          (sigmoid): Sigmoid()\n",
              "          (mul_a_quantizer): Identity()\n",
              "          (mul_b_quantizer): Identity()\n",
              "        )\n",
              "        (proj): Sequential(\n",
              "          (conv): Conv2d(1152, 320, kernel_size=(1, 1), stride=(1, 1), bias=False)\n",
              "          (bn): BatchNorm2d(320, eps=0.001, momentum=0.010000000000000009, affine=True, track_running_stats=True)\n",
              "        )\n",
              "        (residual_quantizer): Identity()\n",
              "      )\n",
              "    )\n",
              "  )\n",
              "  (features): Sequential(\n",
              "    (conv): Conv2d(320, 1280, kernel_size=(1, 1), stride=(1, 1), bias=False)\n",
              "    (bn): BatchNorm2d(1280, eps=0.001, momentum=0.010000000000000009, affine=True, track_running_stats=True)\n",
              "    (activation): SiLU(inplace=True)\n",
              "  )\n",
              "  (classifier): Sequential(\n",
              "    (pooling): AdaptiveAvgPool2d(output_size=1)\n",
              "    (squeeze): Flatten()\n",
              "    (dropout): Dropout(p=0.2, inplace=False)\n",
              "    (fc): Linear(in_features=1280, out_features=1000, bias=True)\n",
              "  )\n",
              ")"
            ]
          },
          "metadata": {},
          "execution_count": 77
        }
      ],
      "source": [
        "model"
      ]
    },
    {
      "cell_type": "code",
      "execution_count": null,
      "metadata": {
        "id": "CYWw3HPDi-gJ"
      },
      "outputs": [],
      "source": [
        "in_features = model.classifier.fc.in_features\n",
        "\n",
        "model.classifier = torch.nn.Sequential(\n",
        "    torch.nn.AdaptiveAvgPool2d(output_size=1),\n",
        "    torch.nn.Flatten(),\n",
        "    torch.nn.Dropout(0.2, inplace=False),\n",
        "    torch.nn.Linear(in_features=in_features, out_features=512),\n",
        "    torch.nn.ReLU(),\n",
        "    torch.nn.Dropout(0.3),\n",
        "    torch.nn.Linear(1024, 1024),\n",
        "    torch.nn.ReLU(),\n",
        "    torch.nn.Dropout(0.3),\n",
        "    torch.nn.Linear(1024, training_dataset.num_classes()),\n",
        ")"
      ]
    },
    {
      "cell_type": "code",
      "execution_count": null,
      "metadata": {
        "id": "Poigfj1ti-gJ",
        "outputId": "2fd75bca-39ff-47a9-c0c9-95054fdd8bf3",
        "colab": {
          "base_uri": "https://localhost:8080/"
        }
      },
      "outputs": [
        {
          "output_type": "execute_result",
          "data": {
            "text/plain": [
              "EfficientNet(\n",
              "  (stem): Sequential(\n",
              "    (conv): Conv2d(3, 32, kernel_size=(3, 3), stride=(2, 2), padding=(1, 1), bias=False)\n",
              "    (bn): BatchNorm2d(32, eps=0.001, momentum=0.010000000000000009, affine=True, track_running_stats=True)\n",
              "    (activation): SiLU(inplace=True)\n",
              "  )\n",
              "  (layers): Sequential(\n",
              "    (0): Sequential(\n",
              "      (block0): MBConvBlock(\n",
              "        (depsep): Sequential(\n",
              "          (conv): Conv2d(32, 32, kernel_size=(3, 3), stride=(1, 1), padding=(1, 1), groups=32, bias=False)\n",
              "          (bn): BatchNorm2d(32, eps=0.001, momentum=0.010000000000000009, affine=True, track_running_stats=True)\n",
              "          (act): SiLU(inplace=True)\n",
              "        )\n",
              "        (se): SequentialSqueezeAndExcitation(\n",
              "          (squeeze): Linear(in_features=32, out_features=8, bias=True)\n",
              "          (expand): Linear(in_features=8, out_features=32, bias=True)\n",
              "          (activation): SiLU(inplace=True)\n",
              "          (sigmoid): Sigmoid()\n",
              "          (mul_a_quantizer): Identity()\n",
              "          (mul_b_quantizer): Identity()\n",
              "        )\n",
              "        (proj): Sequential(\n",
              "          (conv): Conv2d(32, 16, kernel_size=(1, 1), stride=(1, 1), bias=False)\n",
              "          (bn): BatchNorm2d(16, eps=0.001, momentum=0.010000000000000009, affine=True, track_running_stats=True)\n",
              "        )\n",
              "        (residual_quantizer): Identity()\n",
              "      )\n",
              "    )\n",
              "    (1): Sequential(\n",
              "      (block0): MBConvBlock(\n",
              "        (expand): Sequential(\n",
              "          (conv): Conv2d(16, 96, kernel_size=(1, 1), stride=(1, 1), bias=False)\n",
              "          (bn): BatchNorm2d(96, eps=0.001, momentum=0.010000000000000009, affine=True, track_running_stats=True)\n",
              "          (act): SiLU(inplace=True)\n",
              "        )\n",
              "        (depsep): Sequential(\n",
              "          (conv): Conv2d(96, 96, kernel_size=(3, 3), stride=(2, 2), padding=(1, 1), groups=96, bias=False)\n",
              "          (bn): BatchNorm2d(96, eps=0.001, momentum=0.010000000000000009, affine=True, track_running_stats=True)\n",
              "          (act): SiLU(inplace=True)\n",
              "        )\n",
              "        (se): SequentialSqueezeAndExcitation(\n",
              "          (squeeze): Linear(in_features=96, out_features=4, bias=True)\n",
              "          (expand): Linear(in_features=4, out_features=96, bias=True)\n",
              "          (activation): SiLU(inplace=True)\n",
              "          (sigmoid): Sigmoid()\n",
              "          (mul_a_quantizer): Identity()\n",
              "          (mul_b_quantizer): Identity()\n",
              "        )\n",
              "        (proj): Sequential(\n",
              "          (conv): Conv2d(96, 24, kernel_size=(1, 1), stride=(1, 1), bias=False)\n",
              "          (bn): BatchNorm2d(24, eps=0.001, momentum=0.010000000000000009, affine=True, track_running_stats=True)\n",
              "        )\n",
              "        (residual_quantizer): Identity()\n",
              "      )\n",
              "      (block1): MBConvBlock(\n",
              "        (expand): Sequential(\n",
              "          (conv): Conv2d(24, 144, kernel_size=(1, 1), stride=(1, 1), bias=False)\n",
              "          (bn): BatchNorm2d(144, eps=0.001, momentum=0.010000000000000009, affine=True, track_running_stats=True)\n",
              "          (act): SiLU(inplace=True)\n",
              "        )\n",
              "        (depsep): Sequential(\n",
              "          (conv): Conv2d(144, 144, kernel_size=(3, 3), stride=(1, 1), padding=(1, 1), groups=144, bias=False)\n",
              "          (bn): BatchNorm2d(144, eps=0.001, momentum=0.010000000000000009, affine=True, track_running_stats=True)\n",
              "          (act): SiLU(inplace=True)\n",
              "        )\n",
              "        (se): SequentialSqueezeAndExcitation(\n",
              "          (squeeze): Linear(in_features=144, out_features=6, bias=True)\n",
              "          (expand): Linear(in_features=6, out_features=144, bias=True)\n",
              "          (activation): SiLU(inplace=True)\n",
              "          (sigmoid): Sigmoid()\n",
              "          (mul_a_quantizer): Identity()\n",
              "          (mul_b_quantizer): Identity()\n",
              "        )\n",
              "        (proj): Sequential(\n",
              "          (conv): Conv2d(144, 24, kernel_size=(1, 1), stride=(1, 1), bias=False)\n",
              "          (bn): BatchNorm2d(24, eps=0.001, momentum=0.010000000000000009, affine=True, track_running_stats=True)\n",
              "        )\n",
              "        (residual_quantizer): Identity()\n",
              "      )\n",
              "    )\n",
              "    (2): Sequential(\n",
              "      (block0): MBConvBlock(\n",
              "        (expand): Sequential(\n",
              "          (conv): Conv2d(24, 144, kernel_size=(1, 1), stride=(1, 1), bias=False)\n",
              "          (bn): BatchNorm2d(144, eps=0.001, momentum=0.010000000000000009, affine=True, track_running_stats=True)\n",
              "          (act): SiLU(inplace=True)\n",
              "        )\n",
              "        (depsep): Sequential(\n",
              "          (conv): Conv2d(144, 144, kernel_size=(5, 5), stride=(2, 2), padding=(2, 2), groups=144, bias=False)\n",
              "          (bn): BatchNorm2d(144, eps=0.001, momentum=0.010000000000000009, affine=True, track_running_stats=True)\n",
              "          (act): SiLU(inplace=True)\n",
              "        )\n",
              "        (se): SequentialSqueezeAndExcitation(\n",
              "          (squeeze): Linear(in_features=144, out_features=6, bias=True)\n",
              "          (expand): Linear(in_features=6, out_features=144, bias=True)\n",
              "          (activation): SiLU(inplace=True)\n",
              "          (sigmoid): Sigmoid()\n",
              "          (mul_a_quantizer): Identity()\n",
              "          (mul_b_quantizer): Identity()\n",
              "        )\n",
              "        (proj): Sequential(\n",
              "          (conv): Conv2d(144, 40, kernel_size=(1, 1), stride=(1, 1), bias=False)\n",
              "          (bn): BatchNorm2d(40, eps=0.001, momentum=0.010000000000000009, affine=True, track_running_stats=True)\n",
              "        )\n",
              "        (residual_quantizer): Identity()\n",
              "      )\n",
              "      (block1): MBConvBlock(\n",
              "        (expand): Sequential(\n",
              "          (conv): Conv2d(40, 240, kernel_size=(1, 1), stride=(1, 1), bias=False)\n",
              "          (bn): BatchNorm2d(240, eps=0.001, momentum=0.010000000000000009, affine=True, track_running_stats=True)\n",
              "          (act): SiLU(inplace=True)\n",
              "        )\n",
              "        (depsep): Sequential(\n",
              "          (conv): Conv2d(240, 240, kernel_size=(5, 5), stride=(1, 1), padding=(2, 2), groups=240, bias=False)\n",
              "          (bn): BatchNorm2d(240, eps=0.001, momentum=0.010000000000000009, affine=True, track_running_stats=True)\n",
              "          (act): SiLU(inplace=True)\n",
              "        )\n",
              "        (se): SequentialSqueezeAndExcitation(\n",
              "          (squeeze): Linear(in_features=240, out_features=10, bias=True)\n",
              "          (expand): Linear(in_features=10, out_features=240, bias=True)\n",
              "          (activation): SiLU(inplace=True)\n",
              "          (sigmoid): Sigmoid()\n",
              "          (mul_a_quantizer): Identity()\n",
              "          (mul_b_quantizer): Identity()\n",
              "        )\n",
              "        (proj): Sequential(\n",
              "          (conv): Conv2d(240, 40, kernel_size=(1, 1), stride=(1, 1), bias=False)\n",
              "          (bn): BatchNorm2d(40, eps=0.001, momentum=0.010000000000000009, affine=True, track_running_stats=True)\n",
              "        )\n",
              "        (residual_quantizer): Identity()\n",
              "      )\n",
              "    )\n",
              "    (3): Sequential(\n",
              "      (block0): MBConvBlock(\n",
              "        (expand): Sequential(\n",
              "          (conv): Conv2d(40, 240, kernel_size=(1, 1), stride=(1, 1), bias=False)\n",
              "          (bn): BatchNorm2d(240, eps=0.001, momentum=0.010000000000000009, affine=True, track_running_stats=True)\n",
              "          (act): SiLU(inplace=True)\n",
              "        )\n",
              "        (depsep): Sequential(\n",
              "          (conv): Conv2d(240, 240, kernel_size=(3, 3), stride=(2, 2), padding=(1, 1), groups=240, bias=False)\n",
              "          (bn): BatchNorm2d(240, eps=0.001, momentum=0.010000000000000009, affine=True, track_running_stats=True)\n",
              "          (act): SiLU(inplace=True)\n",
              "        )\n",
              "        (se): SequentialSqueezeAndExcitation(\n",
              "          (squeeze): Linear(in_features=240, out_features=10, bias=True)\n",
              "          (expand): Linear(in_features=10, out_features=240, bias=True)\n",
              "          (activation): SiLU(inplace=True)\n",
              "          (sigmoid): Sigmoid()\n",
              "          (mul_a_quantizer): Identity()\n",
              "          (mul_b_quantizer): Identity()\n",
              "        )\n",
              "        (proj): Sequential(\n",
              "          (conv): Conv2d(240, 80, kernel_size=(1, 1), stride=(1, 1), bias=False)\n",
              "          (bn): BatchNorm2d(80, eps=0.001, momentum=0.010000000000000009, affine=True, track_running_stats=True)\n",
              "        )\n",
              "        (residual_quantizer): Identity()\n",
              "      )\n",
              "      (block1): MBConvBlock(\n",
              "        (expand): Sequential(\n",
              "          (conv): Conv2d(80, 480, kernel_size=(1, 1), stride=(1, 1), bias=False)\n",
              "          (bn): BatchNorm2d(480, eps=0.001, momentum=0.010000000000000009, affine=True, track_running_stats=True)\n",
              "          (act): SiLU(inplace=True)\n",
              "        )\n",
              "        (depsep): Sequential(\n",
              "          (conv): Conv2d(480, 480, kernel_size=(3, 3), stride=(1, 1), padding=(1, 1), groups=480, bias=False)\n",
              "          (bn): BatchNorm2d(480, eps=0.001, momentum=0.010000000000000009, affine=True, track_running_stats=True)\n",
              "          (act): SiLU(inplace=True)\n",
              "        )\n",
              "        (se): SequentialSqueezeAndExcitation(\n",
              "          (squeeze): Linear(in_features=480, out_features=20, bias=True)\n",
              "          (expand): Linear(in_features=20, out_features=480, bias=True)\n",
              "          (activation): SiLU(inplace=True)\n",
              "          (sigmoid): Sigmoid()\n",
              "          (mul_a_quantizer): Identity()\n",
              "          (mul_b_quantizer): Identity()\n",
              "        )\n",
              "        (proj): Sequential(\n",
              "          (conv): Conv2d(480, 80, kernel_size=(1, 1), stride=(1, 1), bias=False)\n",
              "          (bn): BatchNorm2d(80, eps=0.001, momentum=0.010000000000000009, affine=True, track_running_stats=True)\n",
              "        )\n",
              "        (residual_quantizer): Identity()\n",
              "      )\n",
              "      (block2): MBConvBlock(\n",
              "        (expand): Sequential(\n",
              "          (conv): Conv2d(80, 480, kernel_size=(1, 1), stride=(1, 1), bias=False)\n",
              "          (bn): BatchNorm2d(480, eps=0.001, momentum=0.010000000000000009, affine=True, track_running_stats=True)\n",
              "          (act): SiLU(inplace=True)\n",
              "        )\n",
              "        (depsep): Sequential(\n",
              "          (conv): Conv2d(480, 480, kernel_size=(3, 3), stride=(1, 1), padding=(1, 1), groups=480, bias=False)\n",
              "          (bn): BatchNorm2d(480, eps=0.001, momentum=0.010000000000000009, affine=True, track_running_stats=True)\n",
              "          (act): SiLU(inplace=True)\n",
              "        )\n",
              "        (se): SequentialSqueezeAndExcitation(\n",
              "          (squeeze): Linear(in_features=480, out_features=20, bias=True)\n",
              "          (expand): Linear(in_features=20, out_features=480, bias=True)\n",
              "          (activation): SiLU(inplace=True)\n",
              "          (sigmoid): Sigmoid()\n",
              "          (mul_a_quantizer): Identity()\n",
              "          (mul_b_quantizer): Identity()\n",
              "        )\n",
              "        (proj): Sequential(\n",
              "          (conv): Conv2d(480, 80, kernel_size=(1, 1), stride=(1, 1), bias=False)\n",
              "          (bn): BatchNorm2d(80, eps=0.001, momentum=0.010000000000000009, affine=True, track_running_stats=True)\n",
              "        )\n",
              "        (residual_quantizer): Identity()\n",
              "      )\n",
              "    )\n",
              "    (4): Sequential(\n",
              "      (block0): MBConvBlock(\n",
              "        (expand): Sequential(\n",
              "          (conv): Conv2d(80, 480, kernel_size=(1, 1), stride=(1, 1), bias=False)\n",
              "          (bn): BatchNorm2d(480, eps=0.001, momentum=0.010000000000000009, affine=True, track_running_stats=True)\n",
              "          (act): SiLU(inplace=True)\n",
              "        )\n",
              "        (depsep): Sequential(\n",
              "          (conv): Conv2d(480, 480, kernel_size=(5, 5), stride=(1, 1), padding=(2, 2), groups=480, bias=False)\n",
              "          (bn): BatchNorm2d(480, eps=0.001, momentum=0.010000000000000009, affine=True, track_running_stats=True)\n",
              "          (act): SiLU(inplace=True)\n",
              "        )\n",
              "        (se): SequentialSqueezeAndExcitation(\n",
              "          (squeeze): Linear(in_features=480, out_features=20, bias=True)\n",
              "          (expand): Linear(in_features=20, out_features=480, bias=True)\n",
              "          (activation): SiLU(inplace=True)\n",
              "          (sigmoid): Sigmoid()\n",
              "          (mul_a_quantizer): Identity()\n",
              "          (mul_b_quantizer): Identity()\n",
              "        )\n",
              "        (proj): Sequential(\n",
              "          (conv): Conv2d(480, 112, kernel_size=(1, 1), stride=(1, 1), bias=False)\n",
              "          (bn): BatchNorm2d(112, eps=0.001, momentum=0.010000000000000009, affine=True, track_running_stats=True)\n",
              "        )\n",
              "        (residual_quantizer): Identity()\n",
              "      )\n",
              "      (block1): MBConvBlock(\n",
              "        (expand): Sequential(\n",
              "          (conv): Conv2d(112, 672, kernel_size=(1, 1), stride=(1, 1), bias=False)\n",
              "          (bn): BatchNorm2d(672, eps=0.001, momentum=0.010000000000000009, affine=True, track_running_stats=True)\n",
              "          (act): SiLU(inplace=True)\n",
              "        )\n",
              "        (depsep): Sequential(\n",
              "          (conv): Conv2d(672, 672, kernel_size=(5, 5), stride=(1, 1), padding=(2, 2), groups=672, bias=False)\n",
              "          (bn): BatchNorm2d(672, eps=0.001, momentum=0.010000000000000009, affine=True, track_running_stats=True)\n",
              "          (act): SiLU(inplace=True)\n",
              "        )\n",
              "        (se): SequentialSqueezeAndExcitation(\n",
              "          (squeeze): Linear(in_features=672, out_features=28, bias=True)\n",
              "          (expand): Linear(in_features=28, out_features=672, bias=True)\n",
              "          (activation): SiLU(inplace=True)\n",
              "          (sigmoid): Sigmoid()\n",
              "          (mul_a_quantizer): Identity()\n",
              "          (mul_b_quantizer): Identity()\n",
              "        )\n",
              "        (proj): Sequential(\n",
              "          (conv): Conv2d(672, 112, kernel_size=(1, 1), stride=(1, 1), bias=False)\n",
              "          (bn): BatchNorm2d(112, eps=0.001, momentum=0.010000000000000009, affine=True, track_running_stats=True)\n",
              "        )\n",
              "        (residual_quantizer): Identity()\n",
              "      )\n",
              "      (block2): MBConvBlock(\n",
              "        (expand): Sequential(\n",
              "          (conv): Conv2d(112, 672, kernel_size=(1, 1), stride=(1, 1), bias=False)\n",
              "          (bn): BatchNorm2d(672, eps=0.001, momentum=0.010000000000000009, affine=True, track_running_stats=True)\n",
              "          (act): SiLU(inplace=True)\n",
              "        )\n",
              "        (depsep): Sequential(\n",
              "          (conv): Conv2d(672, 672, kernel_size=(5, 5), stride=(1, 1), padding=(2, 2), groups=672, bias=False)\n",
              "          (bn): BatchNorm2d(672, eps=0.001, momentum=0.010000000000000009, affine=True, track_running_stats=True)\n",
              "          (act): SiLU(inplace=True)\n",
              "        )\n",
              "        (se): SequentialSqueezeAndExcitation(\n",
              "          (squeeze): Linear(in_features=672, out_features=28, bias=True)\n",
              "          (expand): Linear(in_features=28, out_features=672, bias=True)\n",
              "          (activation): SiLU(inplace=True)\n",
              "          (sigmoid): Sigmoid()\n",
              "          (mul_a_quantizer): Identity()\n",
              "          (mul_b_quantizer): Identity()\n",
              "        )\n",
              "        (proj): Sequential(\n",
              "          (conv): Conv2d(672, 112, kernel_size=(1, 1), stride=(1, 1), bias=False)\n",
              "          (bn): BatchNorm2d(112, eps=0.001, momentum=0.010000000000000009, affine=True, track_running_stats=True)\n",
              "        )\n",
              "        (residual_quantizer): Identity()\n",
              "      )\n",
              "    )\n",
              "    (5): Sequential(\n",
              "      (block0): MBConvBlock(\n",
              "        (expand): Sequential(\n",
              "          (conv): Conv2d(112, 672, kernel_size=(1, 1), stride=(1, 1), bias=False)\n",
              "          (bn): BatchNorm2d(672, eps=0.001, momentum=0.010000000000000009, affine=True, track_running_stats=True)\n",
              "          (act): SiLU(inplace=True)\n",
              "        )\n",
              "        (depsep): Sequential(\n",
              "          (conv): Conv2d(672, 672, kernel_size=(5, 5), stride=(2, 2), padding=(2, 2), groups=672, bias=False)\n",
              "          (bn): BatchNorm2d(672, eps=0.001, momentum=0.010000000000000009, affine=True, track_running_stats=True)\n",
              "          (act): SiLU(inplace=True)\n",
              "        )\n",
              "        (se): SequentialSqueezeAndExcitation(\n",
              "          (squeeze): Linear(in_features=672, out_features=28, bias=True)\n",
              "          (expand): Linear(in_features=28, out_features=672, bias=True)\n",
              "          (activation): SiLU(inplace=True)\n",
              "          (sigmoid): Sigmoid()\n",
              "          (mul_a_quantizer): Identity()\n",
              "          (mul_b_quantizer): Identity()\n",
              "        )\n",
              "        (proj): Sequential(\n",
              "          (conv): Conv2d(672, 192, kernel_size=(1, 1), stride=(1, 1), bias=False)\n",
              "          (bn): BatchNorm2d(192, eps=0.001, momentum=0.010000000000000009, affine=True, track_running_stats=True)\n",
              "        )\n",
              "        (residual_quantizer): Identity()\n",
              "      )\n",
              "      (block1): MBConvBlock(\n",
              "        (expand): Sequential(\n",
              "          (conv): Conv2d(192, 1152, kernel_size=(1, 1), stride=(1, 1), bias=False)\n",
              "          (bn): BatchNorm2d(1152, eps=0.001, momentum=0.010000000000000009, affine=True, track_running_stats=True)\n",
              "          (act): SiLU(inplace=True)\n",
              "        )\n",
              "        (depsep): Sequential(\n",
              "          (conv): Conv2d(1152, 1152, kernel_size=(5, 5), stride=(1, 1), padding=(2, 2), groups=1152, bias=False)\n",
              "          (bn): BatchNorm2d(1152, eps=0.001, momentum=0.010000000000000009, affine=True, track_running_stats=True)\n",
              "          (act): SiLU(inplace=True)\n",
              "        )\n",
              "        (se): SequentialSqueezeAndExcitation(\n",
              "          (squeeze): Linear(in_features=1152, out_features=48, bias=True)\n",
              "          (expand): Linear(in_features=48, out_features=1152, bias=True)\n",
              "          (activation): SiLU(inplace=True)\n",
              "          (sigmoid): Sigmoid()\n",
              "          (mul_a_quantizer): Identity()\n",
              "          (mul_b_quantizer): Identity()\n",
              "        )\n",
              "        (proj): Sequential(\n",
              "          (conv): Conv2d(1152, 192, kernel_size=(1, 1), stride=(1, 1), bias=False)\n",
              "          (bn): BatchNorm2d(192, eps=0.001, momentum=0.010000000000000009, affine=True, track_running_stats=True)\n",
              "        )\n",
              "        (residual_quantizer): Identity()\n",
              "      )\n",
              "      (block2): MBConvBlock(\n",
              "        (expand): Sequential(\n",
              "          (conv): Conv2d(192, 1152, kernel_size=(1, 1), stride=(1, 1), bias=False)\n",
              "          (bn): BatchNorm2d(1152, eps=0.001, momentum=0.010000000000000009, affine=True, track_running_stats=True)\n",
              "          (act): SiLU(inplace=True)\n",
              "        )\n",
              "        (depsep): Sequential(\n",
              "          (conv): Conv2d(1152, 1152, kernel_size=(5, 5), stride=(1, 1), padding=(2, 2), groups=1152, bias=False)\n",
              "          (bn): BatchNorm2d(1152, eps=0.001, momentum=0.010000000000000009, affine=True, track_running_stats=True)\n",
              "          (act): SiLU(inplace=True)\n",
              "        )\n",
              "        (se): SequentialSqueezeAndExcitation(\n",
              "          (squeeze): Linear(in_features=1152, out_features=48, bias=True)\n",
              "          (expand): Linear(in_features=48, out_features=1152, bias=True)\n",
              "          (activation): SiLU(inplace=True)\n",
              "          (sigmoid): Sigmoid()\n",
              "          (mul_a_quantizer): Identity()\n",
              "          (mul_b_quantizer): Identity()\n",
              "        )\n",
              "        (proj): Sequential(\n",
              "          (conv): Conv2d(1152, 192, kernel_size=(1, 1), stride=(1, 1), bias=False)\n",
              "          (bn): BatchNorm2d(192, eps=0.001, momentum=0.010000000000000009, affine=True, track_running_stats=True)\n",
              "        )\n",
              "        (residual_quantizer): Identity()\n",
              "      )\n",
              "      (block3): MBConvBlock(\n",
              "        (expand): Sequential(\n",
              "          (conv): Conv2d(192, 1152, kernel_size=(1, 1), stride=(1, 1), bias=False)\n",
              "          (bn): BatchNorm2d(1152, eps=0.001, momentum=0.010000000000000009, affine=True, track_running_stats=True)\n",
              "          (act): SiLU(inplace=True)\n",
              "        )\n",
              "        (depsep): Sequential(\n",
              "          (conv): Conv2d(1152, 1152, kernel_size=(5, 5), stride=(1, 1), padding=(2, 2), groups=1152, bias=False)\n",
              "          (bn): BatchNorm2d(1152, eps=0.001, momentum=0.010000000000000009, affine=True, track_running_stats=True)\n",
              "          (act): SiLU(inplace=True)\n",
              "        )\n",
              "        (se): SequentialSqueezeAndExcitation(\n",
              "          (squeeze): Linear(in_features=1152, out_features=48, bias=True)\n",
              "          (expand): Linear(in_features=48, out_features=1152, bias=True)\n",
              "          (activation): SiLU(inplace=True)\n",
              "          (sigmoid): Sigmoid()\n",
              "          (mul_a_quantizer): Identity()\n",
              "          (mul_b_quantizer): Identity()\n",
              "        )\n",
              "        (proj): Sequential(\n",
              "          (conv): Conv2d(1152, 192, kernel_size=(1, 1), stride=(1, 1), bias=False)\n",
              "          (bn): BatchNorm2d(192, eps=0.001, momentum=0.010000000000000009, affine=True, track_running_stats=True)\n",
              "        )\n",
              "        (residual_quantizer): Identity()\n",
              "      )\n",
              "    )\n",
              "    (6): Sequential(\n",
              "      (block0): MBConvBlock(\n",
              "        (expand): Sequential(\n",
              "          (conv): Conv2d(192, 1152, kernel_size=(1, 1), stride=(1, 1), bias=False)\n",
              "          (bn): BatchNorm2d(1152, eps=0.001, momentum=0.010000000000000009, affine=True, track_running_stats=True)\n",
              "          (act): SiLU(inplace=True)\n",
              "        )\n",
              "        (depsep): Sequential(\n",
              "          (conv): Conv2d(1152, 1152, kernel_size=(3, 3), stride=(1, 1), padding=(1, 1), groups=1152, bias=False)\n",
              "          (bn): BatchNorm2d(1152, eps=0.001, momentum=0.010000000000000009, affine=True, track_running_stats=True)\n",
              "          (act): SiLU(inplace=True)\n",
              "        )\n",
              "        (se): SequentialSqueezeAndExcitation(\n",
              "          (squeeze): Linear(in_features=1152, out_features=48, bias=True)\n",
              "          (expand): Linear(in_features=48, out_features=1152, bias=True)\n",
              "          (activation): SiLU(inplace=True)\n",
              "          (sigmoid): Sigmoid()\n",
              "          (mul_a_quantizer): Identity()\n",
              "          (mul_b_quantizer): Identity()\n",
              "        )\n",
              "        (proj): Sequential(\n",
              "          (conv): Conv2d(1152, 320, kernel_size=(1, 1), stride=(1, 1), bias=False)\n",
              "          (bn): BatchNorm2d(320, eps=0.001, momentum=0.010000000000000009, affine=True, track_running_stats=True)\n",
              "        )\n",
              "        (residual_quantizer): Identity()\n",
              "      )\n",
              "    )\n",
              "  )\n",
              "  (features): Sequential(\n",
              "    (conv): Conv2d(320, 1280, kernel_size=(1, 1), stride=(1, 1), bias=False)\n",
              "    (bn): BatchNorm2d(1280, eps=0.001, momentum=0.010000000000000009, affine=True, track_running_stats=True)\n",
              "    (activation): SiLU(inplace=True)\n",
              "  )\n",
              "  (classifier): Sequential(\n",
              "    (0): AdaptiveAvgPool2d(output_size=1)\n",
              "    (1): Flatten(start_dim=1, end_dim=-1)\n",
              "    (2): Dropout(p=0.2, inplace=False)\n",
              "    (3): Linear(in_features=1280, out_features=512, bias=True)\n",
              "    (4): ReLU()\n",
              "    (5): Dropout(p=0.3, inplace=False)\n",
              "    (6): Linear(in_features=512, out_features=512, bias=True)\n",
              "    (7): ReLU()\n",
              "    (8): Linear(in_features=512, out_features=512, bias=True)\n",
              "    (9): ReLU()\n",
              "    (10): Dropout(p=0.3, inplace=False)\n",
              "    (11): Linear(in_features=512, out_features=8, bias=True)\n",
              "  )\n",
              ")"
            ]
          },
          "metadata": {},
          "execution_count": 79
        }
      ],
      "source": [
        "model"
      ]
    },
    {
      "cell_type": "code",
      "execution_count": null,
      "metadata": {
        "id": "Rmijagyri-gJ"
      },
      "outputs": [],
      "source": [
        "for name, param in model.named_parameters():\n",
        "    if 'classifier' in name:\n",
        "        param.requires_grad = True\n",
        "    else:\n",
        "        param.requires_grad = False"
      ]
    },
    {
      "cell_type": "code",
      "source": [
        "# model = torch.compile(model)"
      ],
      "metadata": {
        "id": "T_2xFpJj-Z-B"
      },
      "execution_count": null,
      "outputs": []
    },
    {
      "cell_type": "code",
      "execution_count": null,
      "metadata": {
        "id": "EqT-1mnai-gJ"
      },
      "outputs": [],
      "source": [
        "num_epochs = 40\n",
        "lr = 0.001\n",
        "\n",
        "model.to(device)\n",
        "\n",
        "criterion = torch.nn.CrossEntropyLoss()\n",
        "optimizer = torch.optim.Adam(model.classifier.parameters(), lr=lr, weight_decay=1e-4)\n",
        "\n",
        "# scheduler = torch.optim.lr_scheduler.CosineAnnealingLR(optimizer, T_max=3, eta_min=0.001)"
      ]
    },
    {
      "cell_type": "code",
      "execution_count": null,
      "metadata": {
        "id": "dfjBO4gsi-gJ",
        "outputId": "a002daa1-fe10-42b9-8ff1-33a28087f247",
        "colab": {
          "base_uri": "https://localhost:8080/",
          "height": 208,
          "referenced_widgets": [
            "5f1fd090bcaa48b48d4851b0e53dcbf8",
            "48efedb8dd8f41cf9c40c34bce0c5c95",
            "cbca670cf4804e2e97117277ef69b481",
            "78a570471c5347ffb5a7fc7fc5b849e4",
            "80f005fb317a4fbc9000f56d6f496fe3",
            "847200b5a6e64996b38f57ce334c6e0f",
            "cac27759bbff4a6b8c159c7be451aba0",
            "ab9d798d79594cb7912b9ec7b072d175"
          ]
        }
      },
      "outputs": [
        {
          "output_type": "display_data",
          "data": {
            "text/plain": [
              "<IPython.core.display.HTML object>"
            ],
            "text/html": [
              "Finishing last run (ID:1tmc7td2) before initializing another..."
            ]
          },
          "metadata": {}
        },
        {
          "output_type": "display_data",
          "data": {
            "text/plain": [
              "VBox(children=(Label(value='0.001 MB of 0.001 MB uploaded\\r'), FloatProgress(value=1.0, max=1.0)))"
            ],
            "application/vnd.jupyter.widget-view+json": {
              "version_major": 2,
              "version_minor": 0,
              "model_id": "5f1fd090bcaa48b48d4851b0e53dcbf8"
            }
          },
          "metadata": {}
        },
        {
          "output_type": "display_data",
          "data": {
            "text/plain": [
              "<IPython.core.display.HTML object>"
            ],
            "text/html": [
              " View run <strong style=\"color:#cdcd00\">iconic-spaceship-35</strong> at: <a href='https://wandb.ai/prince_/milan-project/runs/1tmc7td2' target=\"_blank\">https://wandb.ai/prince_/milan-project/runs/1tmc7td2</a><br/> View project at: <a href='https://wandb.ai/prince_/milan-project' target=\"_blank\">https://wandb.ai/prince_/milan-project</a><br/>Synced 5 W&B file(s), 0 media file(s), 0 artifact file(s) and 0 other file(s)"
            ]
          },
          "metadata": {}
        },
        {
          "output_type": "display_data",
          "data": {
            "text/plain": [
              "<IPython.core.display.HTML object>"
            ],
            "text/html": [
              "Find logs at: <code>./wandb/run-20240613_114233-1tmc7td2/logs</code>"
            ]
          },
          "metadata": {}
        },
        {
          "output_type": "display_data",
          "data": {
            "text/plain": [
              "<IPython.core.display.HTML object>"
            ],
            "text/html": [
              "Successfully finished last run (ID:1tmc7td2). Initializing new run:<br/>"
            ]
          },
          "metadata": {}
        },
        {
          "output_type": "display_data",
          "data": {
            "text/plain": [
              "<IPython.core.display.HTML object>"
            ],
            "text/html": [
              "Tracking run with wandb version 0.17.1"
            ]
          },
          "metadata": {}
        },
        {
          "output_type": "display_data",
          "data": {
            "text/plain": [
              "<IPython.core.display.HTML object>"
            ],
            "text/html": [
              "Run data is saved locally in <code>/content/wandb/run-20240613_115749-1ow2z7wi</code>"
            ]
          },
          "metadata": {}
        },
        {
          "output_type": "display_data",
          "data": {
            "text/plain": [
              "<IPython.core.display.HTML object>"
            ],
            "text/html": [
              "Syncing run <strong><a href='https://wandb.ai/prince_/milan-project/runs/1ow2z7wi' target=\"_blank\">tough-snowball-36</a></strong> to <a href='https://wandb.ai/prince_/milan-project' target=\"_blank\">Weights & Biases</a> (<a href='https://wandb.me/run' target=\"_blank\">docs</a>)<br/>"
            ]
          },
          "metadata": {}
        },
        {
          "output_type": "display_data",
          "data": {
            "text/plain": [
              "<IPython.core.display.HTML object>"
            ],
            "text/html": [
              " View project at <a href='https://wandb.ai/prince_/milan-project' target=\"_blank\">https://wandb.ai/prince_/milan-project</a>"
            ]
          },
          "metadata": {}
        },
        {
          "output_type": "display_data",
          "data": {
            "text/plain": [
              "<IPython.core.display.HTML object>"
            ],
            "text/html": [
              " View run at <a href='https://wandb.ai/prince_/milan-project/runs/1ow2z7wi' target=\"_blank\">https://wandb.ai/prince_/milan-project/runs/1ow2z7wi</a>"
            ]
          },
          "metadata": {}
        }
      ],
      "source": [
        "run = wandb.init(\n",
        "    # Set the project where this run will be logged\n",
        "    project=\"milan-project\",\n",
        "    notes=\"frozen; CALCULATE ENERGY; 3 layers; data augmentation\",\n",
        "    save_code=False,\n",
        "    # Track hyperparameters and run metadata\n",
        "    config={\n",
        "        \"learning_rate\": lr,\n",
        "        \"epochs\": num_epochs,\n",
        "        \"architecture\": \"efficientnet\",\n",
        "        \"dataset\": \"augmented\"\n",
        "    },\n",
        ")"
      ]
    },
    {
      "cell_type": "code",
      "execution_count": null,
      "metadata": {
        "id": "yGR6iP1Oi-gJ",
        "outputId": "2885a719-c860-47db-bf98-2b957bfd5f2c",
        "colab": {
          "base_uri": "https://localhost:8080/"
        }
      },
      "outputs": [
        {
          "output_type": "execute_result",
          "data": {
            "text/plain": [
              "[]"
            ]
          },
          "metadata": {},
          "execution_count": 84
        }
      ],
      "source": [
        "wandb.watch(model, log=\"all\")"
      ]
    },
    {
      "cell_type": "code",
      "source": [
        "from tqdm import tqdm"
      ],
      "metadata": {
        "id": "sKnsRFWpJxYv"
      },
      "execution_count": null,
      "outputs": []
    },
    {
      "cell_type": "code",
      "execution_count": null,
      "metadata": {
        "id": "bZF1rKEpi-gK"
      },
      "outputs": [],
      "source": [
        "def train_one_epoch(epoch, model, dataloader, criterion, optimizer, device):\n",
        "    model.train()\n",
        "\n",
        "    # if epoch == 6:\n",
        "    #     for param in model.parameters():\n",
        "    #         param.requires_grad = True\n",
        "\n",
        "    running_loss = 0.0\n",
        "    for inputs, labels in tqdm(dataloader):\n",
        "        inputs, labels = inputs.to(device, non_blocking=True), labels.to(device, non_blocking=True)\n",
        "        optimizer.zero_grad()\n",
        "        outputs = model(inputs)\n",
        "        loss = criterion(outputs, labels)\n",
        "        loss.backward()\n",
        "        optimizer.step()\n",
        "        running_loss += loss.item()\n",
        "\n",
        "    avg_loss = running_loss/len(dataloader)\n",
        "    print(f\"Epoch: [{epoch+1}], Training Loss: {avg_loss: .4f}\")\n",
        "    return avg_loss\n",
        "\n",
        "def validation(epoch, model, dataloader, criterion, device):\n",
        "    model.eval()\n",
        "    running_loss = 0.0\n",
        "    all_preds = []\n",
        "    all_labels = []\n",
        "    with torch.no_grad():\n",
        "        for inputs, labels in dataloader:\n",
        "            inputs, labels = inputs.to(device, non_blocking=True), labels.to(device, non_blocking=True)\n",
        "            outputs = model(inputs)\n",
        "            loss = criterion(outputs, labels)\n",
        "            running_loss += loss.item()\n",
        "            preds = torch.argmax(outputs, dim=1).cpu().numpy()\n",
        "            all_preds.extend(preds)\n",
        "            all_labels.extend(labels.cpu().numpy())\n",
        "    avg_loss = running_loss / len(dataloader)\n",
        "    accuracy = accuracy_score(all_labels, all_preds)\n",
        "    precision = precision_score(all_labels, all_preds, average='weighted')\n",
        "    recall = recall_score(all_labels, all_preds, average='weighted')\n",
        "    f1 = f1_score(all_labels, all_preds, average='weighted')\n",
        "    print(f\"Epoch: [{epoch+1}], Validation Loss: {avg_loss: .4f}, Accuracy: {accuracy: .4f}, Precision: {precision: .4f}, Recall: {recall: .4f}, F1 Score: {f1: .4f}\")\n",
        "    return avg_loss, accuracy, precision, recall, f1\n",
        "\n",
        "\n",
        "def test(model, dataloader, criterion, device):\n",
        "    model.eval()\n",
        "    running_loss = 0.0\n",
        "    all_preds = []\n",
        "    all_labels = []\n",
        "    with torch.no_grad():\n",
        "        for inputs, labels in dataloader:\n",
        "            inputs, labels = inputs.to(device, non_blocking=True), labels.to(device, non_blocking=True)\n",
        "            outputs = model(inputs)\n",
        "            loss = criterion(outputs, labels)\n",
        "            running_loss += loss.item()\n",
        "            preds = torch.argmax(outputs, dim=1).cpu().numpy()\n",
        "            all_preds.extend(preds)\n",
        "            all_labels.extend(labels.cpu().numpy())\n",
        "    avg_loss = running_loss / len(dataloader)\n",
        "    accuracy = accuracy_score(all_labels, all_preds)\n",
        "    precision = precision_score(all_labels, all_preds, average='weighted')\n",
        "    recall = recall_score(all_labels, all_preds, average='weighted')\n",
        "    f1 = f1_score(all_labels, all_preds, average='weighted')\n",
        "\n",
        "    cm = confusion_matrix(all_labels, all_preds)\n",
        "    plt.figure(figsize=(10, 8))\n",
        "    sns.heatmap(cm, annot=True, fmt='d', cmap='Blues', xticklabels=range(training_dataset.num_classes()), yticklabels=range(training_dataset.num_classes()))\n",
        "    plt.xlabel(\"Predicted\")\n",
        "    plt.ylabel(\"True\")\n",
        "    plt.title(\"Confusion matrix\")\n",
        "    plt.show\n",
        "\n",
        "    wandb.log({'test loss': avg_loss, 'accuracy': accuracy, 'precision': precision, 'recall': recall, 'f1 score': f1})\n",
        "    print(f\"Test Loss: {avg_loss: .4f}, Accuracy: {accuracy: .4f}, Precision: {precision: .4f}, Recall: {recall: .4f}, F1 Score: {f1: .4f}\")\n",
        "    return avg_loss, accuracy, precision, recall, f1"
      ]
    },
    {
      "cell_type": "code",
      "execution_count": null,
      "metadata": {
        "id": "2nq629jUi-gK",
        "outputId": "112abe45-4fc6-4856-a54e-72543eb0a20c",
        "colab": {
          "base_uri": "https://localhost:8080/"
        }
      },
      "outputs": [
        {
          "output_type": "stream",
          "name": "stderr",
          "text": [
            "100%|██████████| 33/33 [00:16<00:00,  2.05it/s]"
          ]
        },
        {
          "output_type": "stream",
          "name": "stdout",
          "text": [
            "Epoch: [1], Training Loss:  1.3425\n"
          ]
        },
        {
          "output_type": "stream",
          "name": "stderr",
          "text": [
            "\n",
            "/usr/local/lib/python3.10/dist-packages/sklearn/metrics/_classification.py:1344: UndefinedMetricWarning: Precision is ill-defined and being set to 0.0 in labels with no predicted samples. Use `zero_division` parameter to control this behavior.\n",
            "  _warn_prf(average, modifier, msg_start, len(result))\n"
          ]
        },
        {
          "output_type": "stream",
          "name": "stdout",
          "text": [
            "Epoch: [1], Validation Loss:  1.0023, Accuracy:  0.6250, Precision:  0.6133, Recall:  0.6250, F1 Score:  0.5996\n"
          ]
        },
        {
          "output_type": "stream",
          "name": "stderr",
          "text": [
            "100%|██████████| 33/33 [00:11<00:00,  2.83it/s]"
          ]
        },
        {
          "output_type": "stream",
          "name": "stdout",
          "text": [
            "Epoch: [2], Training Loss:  0.6492\n"
          ]
        },
        {
          "output_type": "stream",
          "name": "stderr",
          "text": [
            "\n"
          ]
        },
        {
          "output_type": "stream",
          "name": "stdout",
          "text": [
            "Epoch: [2], Validation Loss:  0.7694, Accuracy:  0.7031, Precision:  0.7478, Recall:  0.7031, F1 Score:  0.7019\n"
          ]
        },
        {
          "output_type": "stream",
          "name": "stderr",
          "text": [
            "100%|██████████| 33/33 [00:09<00:00,  3.40it/s]"
          ]
        },
        {
          "output_type": "stream",
          "name": "stdout",
          "text": [
            "Epoch: [3], Training Loss:  0.5057\n"
          ]
        },
        {
          "output_type": "stream",
          "name": "stderr",
          "text": [
            "\n"
          ]
        },
        {
          "output_type": "stream",
          "name": "stdout",
          "text": [
            "Epoch: [3], Validation Loss:  0.5083, Accuracy:  0.8125, Precision:  0.8330, Recall:  0.8125, F1 Score:  0.8170\n"
          ]
        },
        {
          "output_type": "stream",
          "name": "stderr",
          "text": [
            "100%|██████████| 33/33 [00:09<00:00,  3.59it/s]"
          ]
        },
        {
          "output_type": "stream",
          "name": "stdout",
          "text": [
            "Epoch: [4], Training Loss:  0.4481\n"
          ]
        },
        {
          "output_type": "stream",
          "name": "stderr",
          "text": [
            "\n"
          ]
        },
        {
          "output_type": "stream",
          "name": "stdout",
          "text": [
            "Epoch: [4], Validation Loss:  0.4395, Accuracy:  0.7969, Precision:  0.8110, Recall:  0.7969, F1 Score:  0.7988\n"
          ]
        },
        {
          "output_type": "stream",
          "name": "stderr",
          "text": [
            "100%|██████████| 33/33 [00:11<00:00,  2.83it/s]"
          ]
        },
        {
          "output_type": "stream",
          "name": "stdout",
          "text": [
            "Epoch: [5], Training Loss:  0.4525\n"
          ]
        },
        {
          "output_type": "stream",
          "name": "stderr",
          "text": [
            "\n"
          ]
        },
        {
          "output_type": "stream",
          "name": "stdout",
          "text": [
            "Epoch: [5], Validation Loss:  0.4675, Accuracy:  0.8359, Precision:  0.8336, Recall:  0.8359, F1 Score:  0.8331\n"
          ]
        },
        {
          "output_type": "stream",
          "name": "stderr",
          "text": [
            "100%|██████████| 33/33 [00:11<00:00,  2.87it/s]"
          ]
        },
        {
          "output_type": "stream",
          "name": "stdout",
          "text": [
            "Epoch: [6], Training Loss:  0.3772\n"
          ]
        },
        {
          "output_type": "stream",
          "name": "stderr",
          "text": [
            "\n"
          ]
        },
        {
          "output_type": "stream",
          "name": "stdout",
          "text": [
            "Epoch: [6], Validation Loss:  0.4258, Accuracy:  0.8516, Precision:  0.8694, Recall:  0.8516, F1 Score:  0.8436\n"
          ]
        },
        {
          "output_type": "stream",
          "name": "stderr",
          "text": [
            "100%|██████████| 33/33 [00:23<00:00,  1.39it/s]"
          ]
        },
        {
          "output_type": "stream",
          "name": "stdout",
          "text": [
            "Epoch: [7], Training Loss:  0.3627\n"
          ]
        },
        {
          "output_type": "stream",
          "name": "stderr",
          "text": [
            "\n"
          ]
        },
        {
          "output_type": "stream",
          "name": "stdout",
          "text": [
            "Epoch: [7], Validation Loss:  0.3754, Accuracy:  0.8750, Precision:  0.8770, Recall:  0.8750, F1 Score:  0.8742\n"
          ]
        },
        {
          "output_type": "stream",
          "name": "stderr",
          "text": [
            "100%|██████████| 33/33 [00:10<00:00,  3.15it/s]"
          ]
        },
        {
          "output_type": "stream",
          "name": "stdout",
          "text": [
            "Epoch: [8], Training Loss:  0.3096\n"
          ]
        },
        {
          "output_type": "stream",
          "name": "stderr",
          "text": [
            "\n"
          ]
        },
        {
          "output_type": "stream",
          "name": "stdout",
          "text": [
            "Epoch: [8], Validation Loss:  0.4278, Accuracy:  0.8359, Precision:  0.8405, Recall:  0.8359, F1 Score:  0.8278\n"
          ]
        },
        {
          "output_type": "stream",
          "name": "stderr",
          "text": [
            "100%|██████████| 33/33 [00:11<00:00,  2.86it/s]"
          ]
        },
        {
          "output_type": "stream",
          "name": "stdout",
          "text": [
            "Epoch: [9], Training Loss:  0.3450\n"
          ]
        },
        {
          "output_type": "stream",
          "name": "stderr",
          "text": [
            "\n"
          ]
        },
        {
          "output_type": "stream",
          "name": "stdout",
          "text": [
            "Epoch: [9], Validation Loss:  0.3961, Accuracy:  0.8203, Precision:  0.8424, Recall:  0.8203, F1 Score:  0.8196\n"
          ]
        },
        {
          "output_type": "stream",
          "name": "stderr",
          "text": [
            "100%|██████████| 33/33 [00:09<00:00,  3.43it/s]"
          ]
        },
        {
          "output_type": "stream",
          "name": "stdout",
          "text": [
            "Epoch: [10], Training Loss:  0.2748\n"
          ]
        },
        {
          "output_type": "stream",
          "name": "stderr",
          "text": [
            "\n"
          ]
        },
        {
          "output_type": "stream",
          "name": "stdout",
          "text": [
            "Epoch: [10], Validation Loss:  0.4202, Accuracy:  0.8516, Precision:  0.8602, Recall:  0.8516, F1 Score:  0.8518\n"
          ]
        },
        {
          "output_type": "stream",
          "name": "stderr",
          "text": [
            "100%|██████████| 33/33 [00:10<00:00,  3.15it/s]"
          ]
        },
        {
          "output_type": "stream",
          "name": "stdout",
          "text": [
            "Epoch: [11], Training Loss:  0.3054\n"
          ]
        },
        {
          "output_type": "stream",
          "name": "stderr",
          "text": [
            "\n"
          ]
        },
        {
          "output_type": "stream",
          "name": "stdout",
          "text": [
            "Epoch: [11], Validation Loss:  0.3600, Accuracy:  0.8750, Precision:  0.8881, Recall:  0.8750, F1 Score:  0.8759\n"
          ]
        },
        {
          "output_type": "stream",
          "name": "stderr",
          "text": [
            "100%|██████████| 33/33 [00:11<00:00,  2.76it/s]"
          ]
        },
        {
          "output_type": "stream",
          "name": "stdout",
          "text": [
            "Epoch: [12], Training Loss:  0.2876\n"
          ]
        },
        {
          "output_type": "stream",
          "name": "stderr",
          "text": [
            "\n"
          ]
        },
        {
          "output_type": "stream",
          "name": "stdout",
          "text": [
            "Epoch: [12], Validation Loss:  0.3843, Accuracy:  0.8750, Precision:  0.8843, Recall:  0.8750, F1 Score:  0.8737\n"
          ]
        },
        {
          "output_type": "stream",
          "name": "stderr",
          "text": [
            "100%|██████████| 33/33 [00:09<00:00,  3.33it/s]"
          ]
        },
        {
          "output_type": "stream",
          "name": "stdout",
          "text": [
            "Epoch: [13], Training Loss:  0.2692\n"
          ]
        },
        {
          "output_type": "stream",
          "name": "stderr",
          "text": [
            "\n"
          ]
        },
        {
          "output_type": "stream",
          "name": "stdout",
          "text": [
            "Epoch: [13], Validation Loss:  0.4138, Accuracy:  0.8672, Precision:  0.8938, Recall:  0.8672, F1 Score:  0.8669\n"
          ]
        },
        {
          "output_type": "stream",
          "name": "stderr",
          "text": [
            "100%|██████████| 33/33 [00:09<00:00,  3.48it/s]"
          ]
        },
        {
          "output_type": "stream",
          "name": "stdout",
          "text": [
            "Epoch: [14], Training Loss:  0.2122\n"
          ]
        },
        {
          "output_type": "stream",
          "name": "stderr",
          "text": [
            "\n"
          ]
        },
        {
          "output_type": "stream",
          "name": "stdout",
          "text": [
            "Epoch: [14], Validation Loss:  0.3433, Accuracy:  0.8828, Precision:  0.9100, Recall:  0.8828, F1 Score:  0.8860\n"
          ]
        },
        {
          "output_type": "stream",
          "name": "stderr",
          "text": [
            "100%|██████████| 33/33 [00:12<00:00,  2.72it/s]"
          ]
        },
        {
          "output_type": "stream",
          "name": "stdout",
          "text": [
            "Epoch: [15], Training Loss:  0.2661\n"
          ]
        },
        {
          "output_type": "stream",
          "name": "stderr",
          "text": [
            "\n"
          ]
        },
        {
          "output_type": "stream",
          "name": "stdout",
          "text": [
            "Epoch: [15], Validation Loss:  0.3189, Accuracy:  0.8828, Precision:  0.8860, Recall:  0.8828, F1 Score:  0.8823\n"
          ]
        },
        {
          "output_type": "stream",
          "name": "stderr",
          "text": [
            "100%|██████████| 33/33 [00:10<00:00,  3.06it/s]"
          ]
        },
        {
          "output_type": "stream",
          "name": "stdout",
          "text": [
            "Epoch: [16], Training Loss:  0.1977\n"
          ]
        },
        {
          "output_type": "stream",
          "name": "stderr",
          "text": [
            "\n"
          ]
        },
        {
          "output_type": "stream",
          "name": "stdout",
          "text": [
            "Epoch: [16], Validation Loss:  0.3538, Accuracy:  0.8906, Precision:  0.9126, Recall:  0.8906, F1 Score:  0.8910\n"
          ]
        },
        {
          "output_type": "stream",
          "name": "stderr",
          "text": [
            "100%|██████████| 33/33 [00:09<00:00,  3.65it/s]"
          ]
        },
        {
          "output_type": "stream",
          "name": "stdout",
          "text": [
            "Epoch: [17], Training Loss:  0.2446\n"
          ]
        },
        {
          "output_type": "stream",
          "name": "stderr",
          "text": [
            "\n"
          ]
        },
        {
          "output_type": "stream",
          "name": "stdout",
          "text": [
            "Epoch: [17], Validation Loss:  0.3625, Accuracy:  0.8750, Precision:  0.8915, Recall:  0.8750, F1 Score:  0.8744\n"
          ]
        },
        {
          "output_type": "stream",
          "name": "stderr",
          "text": [
            "100%|██████████| 33/33 [00:11<00:00,  2.92it/s]"
          ]
        },
        {
          "output_type": "stream",
          "name": "stdout",
          "text": [
            "Epoch: [18], Training Loss:  0.2172\n"
          ]
        },
        {
          "output_type": "stream",
          "name": "stderr",
          "text": [
            "\n"
          ]
        },
        {
          "output_type": "stream",
          "name": "stdout",
          "text": [
            "Epoch: [18], Validation Loss:  0.4005, Accuracy:  0.8672, Precision:  0.8697, Recall:  0.8672, F1 Score:  0.8660\n"
          ]
        },
        {
          "output_type": "stream",
          "name": "stderr",
          "text": [
            "100%|██████████| 33/33 [00:11<00:00,  2.85it/s]"
          ]
        },
        {
          "output_type": "stream",
          "name": "stdout",
          "text": [
            "Epoch: [19], Training Loss:  0.2570\n"
          ]
        },
        {
          "output_type": "stream",
          "name": "stderr",
          "text": [
            "\n"
          ]
        },
        {
          "output_type": "stream",
          "name": "stdout",
          "text": [
            "Epoch: [19], Validation Loss:  0.3966, Accuracy:  0.8672, Precision:  0.8671, Recall:  0.8672, F1 Score:  0.8650\n"
          ]
        },
        {
          "output_type": "stream",
          "name": "stderr",
          "text": [
            "100%|██████████| 33/33 [00:09<00:00,  3.34it/s]"
          ]
        },
        {
          "output_type": "stream",
          "name": "stdout",
          "text": [
            "Epoch: [20], Training Loss:  0.2118\n"
          ]
        },
        {
          "output_type": "stream",
          "name": "stderr",
          "text": [
            "\n"
          ]
        },
        {
          "output_type": "stream",
          "name": "stdout",
          "text": [
            "Epoch: [20], Validation Loss:  0.4762, Accuracy:  0.8594, Precision:  0.8629, Recall:  0.8594, F1 Score:  0.8580\n"
          ]
        },
        {
          "output_type": "stream",
          "name": "stderr",
          "text": [
            "100%|██████████| 33/33 [00:09<00:00,  3.51it/s]"
          ]
        },
        {
          "output_type": "stream",
          "name": "stdout",
          "text": [
            "Epoch: [21], Training Loss:  0.1628\n"
          ]
        },
        {
          "output_type": "stream",
          "name": "stderr",
          "text": [
            "\n"
          ]
        },
        {
          "output_type": "stream",
          "name": "stdout",
          "text": [
            "Epoch: [21], Validation Loss:  0.3892, Accuracy:  0.8906, Precision:  0.9055, Recall:  0.8906, F1 Score:  0.8909\n"
          ]
        },
        {
          "output_type": "stream",
          "name": "stderr",
          "text": [
            "100%|██████████| 33/33 [00:11<00:00,  2.80it/s]"
          ]
        },
        {
          "output_type": "stream",
          "name": "stdout",
          "text": [
            "Epoch: [22], Training Loss:  0.2139\n"
          ]
        },
        {
          "output_type": "stream",
          "name": "stderr",
          "text": [
            "\n"
          ]
        },
        {
          "output_type": "stream",
          "name": "stdout",
          "text": [
            "Epoch: [22], Validation Loss:  0.2945, Accuracy:  0.8906, Precision:  0.8989, Recall:  0.8906, F1 Score:  0.8931\n"
          ]
        },
        {
          "output_type": "stream",
          "name": "stderr",
          "text": [
            "100%|██████████| 33/33 [00:10<00:00,  3.03it/s]"
          ]
        },
        {
          "output_type": "stream",
          "name": "stdout",
          "text": [
            "Epoch: [23], Training Loss:  0.1750\n"
          ]
        },
        {
          "output_type": "stream",
          "name": "stderr",
          "text": [
            "\n"
          ]
        },
        {
          "output_type": "stream",
          "name": "stdout",
          "text": [
            "Epoch: [23], Validation Loss:  0.3763, Accuracy:  0.8750, Precision:  0.8698, Recall:  0.8750, F1 Score:  0.8700\n"
          ]
        },
        {
          "output_type": "stream",
          "name": "stderr",
          "text": [
            "100%|██████████| 33/33 [00:08<00:00,  3.84it/s]"
          ]
        },
        {
          "output_type": "stream",
          "name": "stdout",
          "text": [
            "Epoch: [24], Training Loss:  0.1887\n"
          ]
        },
        {
          "output_type": "stream",
          "name": "stderr",
          "text": [
            "\n"
          ]
        },
        {
          "output_type": "stream",
          "name": "stdout",
          "text": [
            "Epoch: [24], Validation Loss:  0.3854, Accuracy:  0.8672, Precision:  0.8870, Recall:  0.8672, F1 Score:  0.8696\n"
          ]
        },
        {
          "output_type": "stream",
          "name": "stderr",
          "text": [
            "100%|██████████| 33/33 [00:10<00:00,  3.02it/s]"
          ]
        },
        {
          "output_type": "stream",
          "name": "stdout",
          "text": [
            "Epoch: [25], Training Loss:  0.1703\n"
          ]
        },
        {
          "output_type": "stream",
          "name": "stderr",
          "text": [
            "\n"
          ]
        },
        {
          "output_type": "stream",
          "name": "stdout",
          "text": [
            "Epoch: [25], Validation Loss:  0.4302, Accuracy:  0.8828, Precision:  0.8810, Recall:  0.8828, F1 Score:  0.8807\n"
          ]
        },
        {
          "output_type": "stream",
          "name": "stderr",
          "text": [
            "100%|██████████| 33/33 [00:11<00:00,  2.80it/s]"
          ]
        },
        {
          "output_type": "stream",
          "name": "stdout",
          "text": [
            "Epoch: [26], Training Loss:  0.2191\n"
          ]
        },
        {
          "output_type": "stream",
          "name": "stderr",
          "text": [
            "\n"
          ]
        },
        {
          "output_type": "stream",
          "name": "stdout",
          "text": [
            "Epoch: [26], Validation Loss:  0.3514, Accuracy:  0.8906, Precision:  0.9007, Recall:  0.8906, F1 Score:  0.8918\n"
          ]
        },
        {
          "output_type": "stream",
          "name": "stderr",
          "text": [
            "100%|██████████| 33/33 [00:08<00:00,  3.75it/s]"
          ]
        },
        {
          "output_type": "stream",
          "name": "stdout",
          "text": [
            "Epoch: [27], Training Loss:  0.1519\n"
          ]
        },
        {
          "output_type": "stream",
          "name": "stderr",
          "text": [
            "\n"
          ]
        },
        {
          "output_type": "stream",
          "name": "stdout",
          "text": [
            "Epoch: [27], Validation Loss:  0.3518, Accuracy:  0.8906, Precision:  0.8950, Recall:  0.8906, F1 Score:  0.8892\n"
          ]
        },
        {
          "output_type": "stream",
          "name": "stderr",
          "text": [
            "100%|██████████| 33/33 [00:11<00:00,  2.91it/s]"
          ]
        },
        {
          "output_type": "stream",
          "name": "stdout",
          "text": [
            "Epoch: [28], Training Loss:  0.1607\n"
          ]
        },
        {
          "output_type": "stream",
          "name": "stderr",
          "text": [
            "\n"
          ]
        },
        {
          "output_type": "stream",
          "name": "stdout",
          "text": [
            "Epoch: [28], Validation Loss:  0.3831, Accuracy:  0.9062, Precision:  0.9079, Recall:  0.9062, F1 Score:  0.9059\n"
          ]
        },
        {
          "output_type": "stream",
          "name": "stderr",
          "text": [
            "100%|██████████| 33/33 [00:11<00:00,  2.82it/s]"
          ]
        },
        {
          "output_type": "stream",
          "name": "stdout",
          "text": [
            "Epoch: [29], Training Loss:  0.1735\n"
          ]
        },
        {
          "output_type": "stream",
          "name": "stderr",
          "text": [
            "\n"
          ]
        },
        {
          "output_type": "stream",
          "name": "stdout",
          "text": [
            "Epoch: [29], Validation Loss:  0.3629, Accuracy:  0.8906, Precision:  0.8916, Recall:  0.8906, F1 Score:  0.8886\n"
          ]
        },
        {
          "output_type": "stream",
          "name": "stderr",
          "text": [
            "100%|██████████| 33/33 [00:09<00:00,  3.57it/s]"
          ]
        },
        {
          "output_type": "stream",
          "name": "stdout",
          "text": [
            "Epoch: [30], Training Loss:  0.1479\n"
          ]
        },
        {
          "output_type": "stream",
          "name": "stderr",
          "text": [
            "\n"
          ]
        },
        {
          "output_type": "stream",
          "name": "stdout",
          "text": [
            "Epoch: [30], Validation Loss:  0.4425, Accuracy:  0.8906, Precision:  0.8988, Recall:  0.8906, F1 Score:  0.8920\n"
          ]
        },
        {
          "output_type": "stream",
          "name": "stderr",
          "text": [
            "100%|██████████| 33/33 [00:10<00:00,  3.11it/s]"
          ]
        },
        {
          "output_type": "stream",
          "name": "stdout",
          "text": [
            "Epoch: [31], Training Loss:  0.1648\n"
          ]
        },
        {
          "output_type": "stream",
          "name": "stderr",
          "text": [
            "\n"
          ]
        },
        {
          "output_type": "stream",
          "name": "stdout",
          "text": [
            "Epoch: [31], Validation Loss:  0.4059, Accuracy:  0.8906, Precision:  0.9020, Recall:  0.8906, F1 Score:  0.8913\n"
          ]
        },
        {
          "output_type": "stream",
          "name": "stderr",
          "text": [
            "100%|██████████| 33/33 [00:11<00:00,  2.88it/s]"
          ]
        },
        {
          "output_type": "stream",
          "name": "stdout",
          "text": [
            "Epoch: [32], Training Loss:  0.1605\n"
          ]
        },
        {
          "output_type": "stream",
          "name": "stderr",
          "text": [
            "\n"
          ]
        },
        {
          "output_type": "stream",
          "name": "stdout",
          "text": [
            "Epoch: [32], Validation Loss:  0.3627, Accuracy:  0.9062, Precision:  0.9133, Recall:  0.9062, F1 Score:  0.9066\n"
          ]
        },
        {
          "output_type": "stream",
          "name": "stderr",
          "text": [
            "100%|██████████| 33/33 [00:09<00:00,  3.39it/s]"
          ]
        },
        {
          "output_type": "stream",
          "name": "stdout",
          "text": [
            "Epoch: [33], Training Loss:  0.1532\n"
          ]
        },
        {
          "output_type": "stream",
          "name": "stderr",
          "text": [
            "\n"
          ]
        },
        {
          "output_type": "stream",
          "name": "stdout",
          "text": [
            "Epoch: [33], Validation Loss:  0.3895, Accuracy:  0.8906, Precision:  0.8928, Recall:  0.8906, F1 Score:  0.8899\n"
          ]
        },
        {
          "output_type": "stream",
          "name": "stderr",
          "text": [
            "100%|██████████| 33/33 [00:09<00:00,  3.53it/s]"
          ]
        },
        {
          "output_type": "stream",
          "name": "stdout",
          "text": [
            "Epoch: [34], Training Loss:  0.1542\n"
          ]
        },
        {
          "output_type": "stream",
          "name": "stderr",
          "text": [
            "\n"
          ]
        },
        {
          "output_type": "stream",
          "name": "stdout",
          "text": [
            "Epoch: [34], Validation Loss:  0.5422, Accuracy:  0.8984, Precision:  0.9028, Recall:  0.8984, F1 Score:  0.8974\n"
          ]
        },
        {
          "output_type": "stream",
          "name": "stderr",
          "text": [
            "100%|██████████| 33/33 [00:11<00:00,  2.89it/s]"
          ]
        },
        {
          "output_type": "stream",
          "name": "stdout",
          "text": [
            "Epoch: [35], Training Loss:  0.1735\n"
          ]
        },
        {
          "output_type": "stream",
          "name": "stderr",
          "text": [
            "\n"
          ]
        },
        {
          "output_type": "stream",
          "name": "stdout",
          "text": [
            "Epoch: [35], Validation Loss:  0.4086, Accuracy:  0.8828, Precision:  0.8932, Recall:  0.8828, F1 Score:  0.8800\n"
          ]
        },
        {
          "output_type": "stream",
          "name": "stderr",
          "text": [
            "100%|██████████| 33/33 [00:10<00:00,  3.00it/s]"
          ]
        },
        {
          "output_type": "stream",
          "name": "stdout",
          "text": [
            "Epoch: [36], Training Loss:  0.1609\n"
          ]
        },
        {
          "output_type": "stream",
          "name": "stderr",
          "text": [
            "\n"
          ]
        },
        {
          "output_type": "stream",
          "name": "stdout",
          "text": [
            "Epoch: [36], Validation Loss:  0.3148, Accuracy:  0.9297, Precision:  0.9305, Recall:  0.9297, F1 Score:  0.9296\n"
          ]
        },
        {
          "output_type": "stream",
          "name": "stderr",
          "text": [
            "100%|██████████| 33/33 [00:08<00:00,  3.85it/s]"
          ]
        },
        {
          "output_type": "stream",
          "name": "stdout",
          "text": [
            "Epoch: [37], Training Loss:  0.1473\n"
          ]
        },
        {
          "output_type": "stream",
          "name": "stderr",
          "text": [
            "\n"
          ]
        },
        {
          "output_type": "stream",
          "name": "stdout",
          "text": [
            "Epoch: [37], Validation Loss:  0.3475, Accuracy:  0.9062, Precision:  0.9054, Recall:  0.9062, F1 Score:  0.9030\n"
          ]
        },
        {
          "output_type": "stream",
          "name": "stderr",
          "text": [
            "100%|██████████| 33/33 [00:11<00:00,  2.92it/s]"
          ]
        },
        {
          "output_type": "stream",
          "name": "stdout",
          "text": [
            "Epoch: [38], Training Loss:  0.1816\n"
          ]
        },
        {
          "output_type": "stream",
          "name": "stderr",
          "text": [
            "\n"
          ]
        },
        {
          "output_type": "stream",
          "name": "stdout",
          "text": [
            "Epoch: [38], Validation Loss:  0.3383, Accuracy:  0.9375, Precision:  0.9372, Recall:  0.9375, F1 Score:  0.9355\n"
          ]
        },
        {
          "output_type": "stream",
          "name": "stderr",
          "text": [
            "100%|██████████| 33/33 [00:11<00:00,  2.93it/s]"
          ]
        },
        {
          "output_type": "stream",
          "name": "stdout",
          "text": [
            "Epoch: [39], Training Loss:  0.2092\n"
          ]
        },
        {
          "output_type": "stream",
          "name": "stderr",
          "text": [
            "\n"
          ]
        },
        {
          "output_type": "stream",
          "name": "stdout",
          "text": [
            "Epoch: [39], Validation Loss:  0.3096, Accuracy:  0.8750, Precision:  0.8807, Recall:  0.8750, F1 Score:  0.8768\n"
          ]
        },
        {
          "output_type": "stream",
          "name": "stderr",
          "text": [
            "100%|██████████| 33/33 [00:09<00:00,  3.55it/s]"
          ]
        },
        {
          "output_type": "stream",
          "name": "stdout",
          "text": [
            "Epoch: [40], Training Loss:  0.1395\n"
          ]
        },
        {
          "output_type": "stream",
          "name": "stderr",
          "text": [
            "\n"
          ]
        },
        {
          "output_type": "stream",
          "name": "stdout",
          "text": [
            "Epoch: [40], Validation Loss:  0.3351, Accuracy:  0.8828, Precision:  0.8838, Recall:  0.8828, F1 Score:  0.8827\n"
          ]
        }
      ],
      "source": [
        "import copy\n",
        "\n",
        "f1_best = float('-inf')\n",
        "best_model_state_dict = None\n",
        "for epoch in range(num_epochs):\n",
        "    train_one_epoch(epoch, model, train_dataloader, criterion, optimizer, device)\n",
        "    _, _, _, _, f1 = validation(epoch, model, val_dataloader, criterion, device)\n",
        "\n",
        "    if f1 > f1_best:\n",
        "        f1_best = f1\n",
        "        best_model_state_dict = copy.deepcopy(model.state_dict())\n",
        "\n",
        "if best_model_state_dict:\n",
        "    model.load_state_dict(best_model_state_dict)"
      ]
    },
    {
      "cell_type": "code",
      "execution_count": null,
      "metadata": {
        "id": "Vsw8uvqIi-gK",
        "outputId": "4b04af4a-2cf8-4919-dbf5-65e03364dcf6",
        "colab": {
          "base_uri": "https://localhost:8080/",
          "height": 753
        }
      },
      "outputs": [
        {
          "output_type": "stream",
          "name": "stdout",
          "text": [
            "Test Loss:  0.2161, Accuracy:  0.9000, Precision:  0.9035, Recall:  0.9000, F1 Score:  0.8937\n"
          ]
        },
        {
          "output_type": "execute_result",
          "data": {
            "text/plain": [
              "(0.21611259831115603, 0.9, 0.9035114180625017, 0.9, 0.8937408622114504)"
            ]
          },
          "metadata": {},
          "execution_count": 88
        },
        {
          "output_type": "display_data",
          "data": {
            "text/plain": [
              "<Figure size 1000x800 with 2 Axes>"
            ],
            "image/png": "[encoded data removed]"
          },
          "metadata": {}
        }
      ],
      "source": [
        "test(model, test_dataloader, criterion, device)"
      ]
    },
    {
      "cell_type": "code",
      "source": [
        "import numpy as np\n",
        "\n",
        "def calculate_energy(outputs):\n",
        "    return -torch.logsumexp(outputs, dim=1)\n",
        "\n",
        "def analyze_energy_distribution(model, dataloader, device):\n",
        "    model.eval()\n",
        "    energies = []\n",
        "    with torch.no_grad():\n",
        "        for inputs, _ in dataloader:\n",
        "            inputs = inputs.to(device)\n",
        "            outputs = model(inputs)\n",
        "            energy = calculate_energy(outputs)\n",
        "            energies.extend(energy.cpu().numpy())\n",
        "    return energies\n",
        "\n",
        "energies = analyze_energy_distribution(model, train_dataloader, device)\n",
        "\n",
        "energy_threshold = np.percentile(energies, 95)\n",
        "\n",
        "print(f\"Energy Threshold: {energy_threshold}\")"
      ],
      "metadata": {
        "colab": {
          "base_uri": "https://localhost:8080/"
        },
        "id": "bHOPYeQux7r3",
        "outputId": "93bdc720-67b6-4c3d-e04c-84947c445815"
      },
      "execution_count": null,
      "outputs": [
        {
          "output_type": "stream",
          "name": "stdout",
          "text": [
            "Energy Threshold: -3.7695096731185913\n"
          ]
        }
      ]
    },
    {
      "cell_type": "code",
      "execution_count": null,
      "metadata": {
        "id": "zRMi1MVxi-gK",
        "colab": {
          "base_uri": "https://localhost:8080/"
        },
        "outputId": "81941e9a-38a8-4dcf-dd87-c3e66069cfd4"
      },
      "outputs": [
        {
          "output_type": "execute_result",
          "data": {
            "text/plain": [
              "ArtifactManifestEntry(path='efficientnet.pth', digest='pOaHLGR7cD+Jg1b9y+lXCQ==', size=21074640, local_path='/root/.local/share/wandb/artifacts/staging/tmp68k_67hy', skip_cache=False)"
            ]
          },
          "metadata": {},
          "execution_count": 90
        }
      ],
      "source": [
        "model_name = 'efficientnet.pth'\n",
        "\n",
        "torch.save(model.state_dict(), model_name)\n",
        "model_artifact = wandb.Artifact('model', type='model')\n",
        "model_artifact.add_file(model_name)"
      ]
    },
    {
      "cell_type": "code",
      "execution_count": null,
      "metadata": {
        "id": "nHpDBBcki-gK",
        "outputId": "b4df934d-de6c-4cc5-ec2f-022e28d4a4a7",
        "colab": {
          "base_uri": "https://localhost:8080/"
        }
      },
      "outputs": [
        {
          "output_type": "execute_result",
          "data": {
            "text/plain": [
              "<Artifact model>"
            ]
          },
          "metadata": {},
          "execution_count": 91
        }
      ],
      "source": [
        "wandb.log_artifact(model_artifact)"
      ]
    },
    {
      "cell_type": "code",
      "source": [
        "import numpy as np\n",
        "\n",
        "def inference(model, image_path, device):\n",
        "    image = Image.open(image_path)\n",
        "\n",
        "    transform = A.Compose([\n",
        "        A.Normalize(mean=[0.485, 0.456, 0.406], std=[0.229, 0.224, 0.225]),\n",
        "        ToTensorV2()\n",
        "    ])\n",
        "\n",
        "    image = transform(image=np.array(image))['image']\n",
        "    image_tr = torch.tensor(image).unsqueeze(0).to(device)\n",
        "    with torch.inference_mode():\n",
        "        output = model(image_tr)\n",
        "        energy = calculate_energy(output)\n",
        "        if energy > energy_threshold:\n",
        "            print(f\"The class is of unknown origin\")\n",
        "            print(f\"Its energy is {energy}, but the threshold is {energy_threshold}\")\n",
        "            return\n",
        "        prob = torch.softmax(output, dim=1)\n",
        "        s, predicted_class = torch.max(prob,  1)\n",
        "        print(f\"Probability: {s}\")\n",
        "        print(f\"Predicted class: {predicted_class}\")\n",
        "        print(\"-------------------------------------\\n\")\n",
        "        return s\n",
        "\n",
        "tests_dir = \"/content/drive/MyDrive/test images\"\n",
        "\n",
        "avg = []\n",
        "\n",
        "for filename in os.listdir(tests_dir):\n",
        "    image_path = os.path.join(tests_dir, filename)\n",
        "    inference(model, image_path, device)\n",
        "    # avg.append(torch.tensor(s, dtype=torch.float32))\n",
        "\n",
        "# avg = torch.cat(avg)\n",
        "\n",
        "# print(f\"Avergae predicted probability: {torch.mean(avg)}\")\n"
      ],
      "metadata": {
        "colab": {
          "base_uri": "https://localhost:8080/"
        },
        "id": "1qzCGAZwfd7g",
        "outputId": "864eea28-943b-4294-c30b-07c349e07311"
      },
      "execution_count": null,
      "outputs": [
        {
          "output_type": "stream",
          "name": "stderr",
          "text": [
            "<ipython-input-92-5163442a5a24>:12: UserWarning: To copy construct from a tensor, it is recommended to use sourceTensor.clone().detach() or sourceTensor.clone().detach().requires_grad_(True), rather than torch.tensor(sourceTensor).\n",
            "  image_tr = torch.tensor(image).unsqueeze(0).to(device)\n"
          ]
        },
        {
          "output_type": "stream",
          "name": "stdout",
          "text": [
            "Probability: tensor([0.9963], device='cuda:0')\n",
            "Predicted class: tensor([0], device='cuda:0')\n",
            "-------------------------------------\n",
            "\n",
            "Probability: tensor([0.9907], device='cuda:0')\n",
            "Predicted class: tensor([6], device='cuda:0')\n",
            "-------------------------------------\n",
            "\n",
            "The class is of unknown origin\n",
            "Its energy is tensor([-1.2354], device='cuda:0'), but the threshold is -3.7695096731185913\n",
            "Probability: tensor([0.9699], device='cuda:0')\n",
            "Predicted class: tensor([6], device='cuda:0')\n",
            "-------------------------------------\n",
            "\n",
            "The class is of unknown origin\n",
            "Its energy is tensor([-3.5889], device='cuda:0'), but the threshold is -3.7695096731185913\n",
            "Probability: tensor([0.9838], device='cuda:0')\n",
            "Predicted class: tensor([2], device='cuda:0')\n",
            "-------------------------------------\n",
            "\n",
            "The class is of unknown origin\n",
            "Its energy is tensor([-2.7985], device='cuda:0'), but the threshold is -3.7695096731185913\n",
            "The class is of unknown origin\n",
            "Its energy is tensor([-2.8249], device='cuda:0'), but the threshold is -3.7695096731185913\n",
            "The class is of unknown origin\n",
            "Its energy is tensor([-2.8761], device='cuda:0'), but the threshold is -3.7695096731185913\n",
            "Probability: tensor([0.9916], device='cuda:0')\n",
            "Predicted class: tensor([6], device='cuda:0')\n",
            "-------------------------------------\n",
            "\n",
            "Probability: tensor([0.9969], device='cuda:0')\n",
            "Predicted class: tensor([2], device='cuda:0')\n",
            "-------------------------------------\n",
            "\n",
            "The class is of unknown origin\n",
            "Its energy is tensor([-2.2386], device='cuda:0'), but the threshold is -3.7695096731185913\n",
            "The class is of unknown origin\n",
            "Its energy is tensor([-2.1548], device='cuda:0'), but the threshold is -3.7695096731185913\n",
            "Probability: tensor([0.8573], device='cuda:0')\n",
            "Predicted class: tensor([6], device='cuda:0')\n",
            "-------------------------------------\n",
            "\n",
            "The class is of unknown origin\n",
            "Its energy is tensor([-1.7526], device='cuda:0'), but the threshold is -3.7695096731185913\n",
            "Probability: tensor([0.9869], device='cuda:0')\n",
            "Predicted class: tensor([6], device='cuda:0')\n",
            "-------------------------------------\n",
            "\n",
            "The class is of unknown origin\n",
            "Its energy is tensor([-3.4098], device='cuda:0'), but the threshold is -3.7695096731185913\n"
          ]
        }
      ]
    },
    {
      "cell_type": "code",
      "source": [
        "tests_dir = \"/content/drive/MyDrive/original(resized)/test/Anthracnose_Fungi\"\n",
        "\n",
        "avg = []\n",
        "for filename in os.listdir(tests_dir):\n",
        "    image_path = os.path.join(tests_dir, filename)\n",
        "    inference(model, image_path, device)\n",
        "#     avg.append(torch.tensor(s, dtype=torch.float32))\n",
        "\n",
        "# avg = torch.cat(avg)\n",
        "\n",
        "# print(f\"Avergae predicted probability: {torch.mean(avg)}\")"
      ],
      "metadata": {
        "colab": {
          "base_uri": "https://localhost:8080/"
        },
        "id": "SJjbKOAHFa9g",
        "outputId": "89d4e0ac-037b-4a75-a09a-8fade38e5676"
      },
      "execution_count": null,
      "outputs": [
        {
          "output_type": "stream",
          "name": "stderr",
          "text": [
            "<ipython-input-92-5163442a5a24>:12: UserWarning: To copy construct from a tensor, it is recommended to use sourceTensor.clone().detach() or sourceTensor.clone().detach().requires_grad_(True), rather than torch.tensor(sourceTensor).\n",
            "  image_tr = torch.tensor(image).unsqueeze(0).to(device)\n"
          ]
        },
        {
          "output_type": "stream",
          "name": "stdout",
          "text": [
            "The class is of unknown origin\n",
            "Its energy is tensor([-3.3248], device='cuda:0'), but the threshold is -3.7695096731185913\n",
            "Probability: tensor([0.9682], device='cuda:0')\n",
            "Predicted class: tensor([0], device='cuda:0')\n",
            "-------------------------------------\n",
            "\n",
            "The class is of unknown origin\n",
            "Its energy is tensor([-3.5822], device='cuda:0'), but the threshold is -3.7695096731185913\n",
            "The class is of unknown origin\n",
            "Its energy is tensor([-2.4417], device='cuda:0'), but the threshold is -3.7695096731185913\n",
            "The class is of unknown origin\n",
            "Its energy is tensor([-2.9247], device='cuda:0'), but the threshold is -3.7695096731185913\n",
            "Probability: tensor([0.8781], device='cuda:0')\n",
            "Predicted class: tensor([3], device='cuda:0')\n",
            "-------------------------------------\n",
            "\n",
            "The class is of unknown origin\n",
            "Its energy is tensor([-3.1851], device='cuda:0'), but the threshold is -3.7695096731185913\n",
            "Probability: tensor([0.9510], device='cuda:0')\n",
            "Predicted class: tensor([1], device='cuda:0')\n",
            "-------------------------------------\n",
            "\n",
            "Probability: tensor([0.8685], device='cuda:0')\n",
            "Predicted class: tensor([0], device='cuda:0')\n",
            "-------------------------------------\n",
            "\n",
            "Probability: tensor([0.9206], device='cuda:0')\n",
            "Predicted class: tensor([1], device='cuda:0')\n",
            "-------------------------------------\n",
            "\n",
            "The class is of unknown origin\n",
            "Its energy is tensor([-1.7321], device='cuda:0'), but the threshold is -3.7695096731185913\n",
            "Probability: tensor([0.9910], device='cuda:0')\n",
            "Predicted class: tensor([0], device='cuda:0')\n",
            "-------------------------------------\n",
            "\n",
            "Probability: tensor([0.9069], device='cuda:0')\n",
            "Predicted class: tensor([0], device='cuda:0')\n",
            "-------------------------------------\n",
            "\n",
            "The class is of unknown origin\n",
            "Its energy is tensor([-3.0366], device='cuda:0'), but the threshold is -3.7695096731185913\n",
            "Probability: tensor([0.9902], device='cuda:0')\n",
            "Predicted class: tensor([4], device='cuda:0')\n",
            "-------------------------------------\n",
            "\n",
            "Probability: tensor([0.9414], device='cuda:0')\n",
            "Predicted class: tensor([0], device='cuda:0')\n",
            "-------------------------------------\n",
            "\n"
          ]
        }
      ]
    },
    {
      "cell_type": "code",
      "source": [
        "notebook_name = \"/content/drive/MyDrive/Colab Notebooks/NN_resnet18_aug.ipynb\"\n",
        "with open(notebook_name) as f:\n",
        "    nb = nbformat.read(f, as_version=4)\n",
        "artifact = wandb.Artifact('notebook', type='notebook')\n",
        "artifact.add_file(notebook_name)\n",
        "wandb.log_artifact(artifact)"
      ],
      "metadata": {
        "colab": {
          "base_uri": "https://localhost:8080/"
        },
        "id": "Ofigpr4qMHnT",
        "outputId": "2dc3ff96-0ff2-4524-cf72-3b5b676f9d70"
      },
      "execution_count": null,
      "outputs": [
        {
          "output_type": "execute_result",
          "data": {
            "text/plain": [
              "<Artifact notebook>"
            ]
          },
          "metadata": {},
          "execution_count": 94
        }
      ]
    },
    {
      "cell_type": "code",
      "execution_count": null,
      "metadata": {
        "id": "264W0xoli-gK",
        "outputId": "bfb2d0e3-3b1a-423c-e297-5c2f864e08ff",
        "colab": {
          "base_uri": "https://localhost:8080/",
          "height": 288,
          "referenced_widgets": [
            "2d2766a968264a9e8d6d7bd4fa8496e3",
            "6be215ac9e7640098e2c8acba1364d40",
            "843fe35f50d2454ca291a123ecc01945",
            "43af70adc43e4c42a2213f75a44b30d2",
            "988b531887a14105a3928679d852a153",
            "e50ee56beed241d6abafa6e8f97c7956",
            "aa604a2004714dd3aed731e4511be80a",
            "885535af21d245aab76f433326aac5a3"
          ]
        }
      },
      "outputs": [
        {
          "output_type": "display_data",
          "data": {
            "text/plain": [
              "VBox(children=(Label(value='20.245 MB of 20.245 MB uploaded\\r'), FloatProgress(value=1.0, max=1.0)))"
            ],
            "application/vnd.jupyter.widget-view+json": {
              "version_major": 2,
              "version_minor": 0,
              "model_id": "2d2766a968264a9e8d6d7bd4fa8496e3"
            }
          },
          "metadata": {}
        },
        {
          "output_type": "display_data",
          "data": {
            "text/plain": [
              "<IPython.core.display.HTML object>"
            ],
            "text/html": [
              "<style>\n",
              "    table.wandb td:nth-child(1) { padding: 0 10px; text-align: left ; width: auto;} td:nth-child(2) {text-align: left ; width: 100%}\n",
              "    .wandb-row { display: flex; flex-direction: row; flex-wrap: wrap; justify-content: flex-start; width: 100% }\n",
              "    .wandb-col { display: flex; flex-direction: column; flex-basis: 100%; flex: 1; padding: 10px; }\n",
              "    </style>\n",
              "<div class=\"wandb-row\"><div class=\"wandb-col\"><h3>Run history:</h3><br/><table class=\"wandb\"><tr><td>accuracy</td><td>▁</td></tr><tr><td>f1 score</td><td>▁</td></tr><tr><td>precision</td><td>▁</td></tr><tr><td>recall</td><td>▁</td></tr><tr><td>test loss</td><td>▁</td></tr></table><br/></div><div class=\"wandb-col\"><h3>Run summary:</h3><br/><table class=\"wandb\"><tr><td>accuracy</td><td>0.9</td></tr><tr><td>f1 score</td><td>0.89374</td></tr><tr><td>precision</td><td>0.90351</td></tr><tr><td>recall</td><td>0.9</td></tr><tr><td>test loss</td><td>0.21611</td></tr></table><br/></div></div>"
            ]
          },
          "metadata": {}
        },
        {
          "output_type": "display_data",
          "data": {
            "text/plain": [
              "<IPython.core.display.HTML object>"
            ],
            "text/html": [
              " View run <strong style=\"color:#cdcd00\">tough-snowball-36</strong> at: <a href='https://wandb.ai/prince_/milan-project/runs/1ow2z7wi' target=\"_blank\">https://wandb.ai/prince_/milan-project/runs/1ow2z7wi</a><br/> View project at: <a href='https://wandb.ai/prince_/milan-project' target=\"_blank\">https://wandb.ai/prince_/milan-project</a><br/>Synced 5 W&B file(s), 0 media file(s), 2 artifact file(s) and 0 other file(s)"
            ]
          },
          "metadata": {}
        },
        {
          "output_type": "display_data",
          "data": {
            "text/plain": [
              "<IPython.core.display.HTML object>"
            ],
            "text/html": [
              "Find logs at: <code>./wandb/run-20240613_115749-1ow2z7wi/logs</code>"
            ]
          },
          "metadata": {}
        }
      ],
      "source": [
        "wandb.finish()"
      ]
    }
  ],
  "metadata": {
    "kernelspec": {
      "display_name": "Python 3",
      "name": "python3"
    },
    "language_info": {
      "codemirror_mode": {
        "name": "ipython",
        "version": 3
      },
      "file_extension": ".py",
      "mimetype": "text/x-python",
      "name": "python",
      "nbconvert_exporter": "python",
      "pygments_lexer": "ipython3",
      "version": "3.12.3"
    },
    "colab": {
      "provenance": [],
      "gpuType": "T4"
    },
    "accelerator": "GPU",
    "widgets": {
      "application/vnd.jupyter.widget-state+json": {
        "5f1fd090bcaa48b48d4851b0e53dcbf8": {
          "model_module": "@jupyter-widgets/controls",
          "model_name": "VBoxModel",
          "model_module_version": "1.5.0",
          "state": {
            "_dom_classes": [],
            "_model_module": "@jupyter-widgets/controls",
            "_model_module_version": "1.5.0",
            "_model_name": "VBoxModel",
            "_view_count": null,
            "_view_module": "@jupyter-widgets/controls",
            "_view_module_version": "1.5.0",
            "_view_name": "VBoxView",
            "box_style": "",
            "children": [
              "IPY_MODEL_48efedb8dd8f41cf9c40c34bce0c5c95",
              "IPY_MODEL_cbca670cf4804e2e97117277ef69b481"
            ],
            "layout": "IPY_MODEL_78a570471c5347ffb5a7fc7fc5b849e4"
          }
        },
        "48efedb8dd8f41cf9c40c34bce0c5c95": {
          "model_module": "@jupyter-widgets/controls",
          "model_name": "LabelModel",
          "model_module_version": "1.5.0",
          "state": {
            "_dom_classes": [],
            "_model_module": "@jupyter-widgets/controls",
            "_model_module_version": "1.5.0",
            "_model_name": "LabelModel",
            "_view_count": null,
            "_view_module": "@jupyter-widgets/controls",
            "_view_module_version": "1.5.0",
            "_view_name": "LabelView",
            "description": "",
            "description_tooltip": null,
            "layout": "IPY_MODEL_80f005fb317a4fbc9000f56d6f496fe3",
            "placeholder": "​",
            "style": "IPY_MODEL_847200b5a6e64996b38f57ce334c6e0f",
            "value": "0.022 MB of 0.022 MB uploaded\r"
          }
        },
        "cbca670cf4804e2e97117277ef69b481": {
          "model_module": "@jupyter-widgets/controls",
          "model_name": "FloatProgressModel",
          "model_module_version": "1.5.0",
          "state": {
            "_dom_classes": [],
            "_model_module": "@jupyter-widgets/controls",
            "_model_module_version": "1.5.0",
            "_model_name": "FloatProgressModel",
            "_view_count": null,
            "_view_module": "@jupyter-widgets/controls",
            "_view_module_version": "1.5.0",
            "_view_name": "ProgressView",
            "bar_style": "",
            "description": "",
            "description_tooltip": null,
            "layout": "IPY_MODEL_cac27759bbff4a6b8c159c7be451aba0",
            "max": 1,
            "min": 0,
            "orientation": "horizontal",
            "style": "IPY_MODEL_ab9d798d79594cb7912b9ec7b072d175",
            "value": 1
          }
        },
        "78a570471c5347ffb5a7fc7fc5b849e4": {
          "model_module": "@jupyter-widgets/base",
          "model_name": "LayoutModel",
          "model_module_version": "1.2.0",
          "state": {
            "_model_module": "@jupyter-widgets/base",
            "_model_module_version": "1.2.0",
            "_model_name": "LayoutModel",
            "_view_count": null,
            "_view_module": "@jupyter-widgets/base",
            "_view_module_version": "1.2.0",
            "_view_name": "LayoutView",
            "align_content": null,
            "align_items": null,
            "align_self": null,
            "border": null,
            "bottom": null,
            "display": null,
            "flex": null,
            "flex_flow": null,
            "grid_area": null,
            "grid_auto_columns": null,
            "grid_auto_flow": null,
            "grid_auto_rows": null,
            "grid_column": null,
            "grid_gap": null,
            "grid_row": null,
            "grid_template_areas": null,
            "grid_template_columns": null,
            "grid_template_rows": null,
            "height": null,
            "justify_content": null,
            "justify_items": null,
            "left": null,
            "margin": null,
            "max_height": null,
            "max_width": null,
            "min_height": null,
            "min_width": null,
            "object_fit": null,
            "object_position": null,
            "order": null,
            "overflow": null,
            "overflow_x": null,
            "overflow_y": null,
            "padding": null,
            "right": null,
            "top": null,
            "visibility": null,
            "width": null
          }
        },
        "80f005fb317a4fbc9000f56d6f496fe3": {
          "model_module": "@jupyter-widgets/base",
          "model_name": "LayoutModel",
          "model_module_version": "1.2.0",
          "state": {
            "_model_module": "@jupyter-widgets/base",
            "_model_module_version": "1.2.0",
            "_model_name": "LayoutModel",
            "_view_count": null,
            "_view_module": "@jupyter-widgets/base",
            "_view_module_version": "1.2.0",
            "_view_name": "LayoutView",
            "align_content": null,
            "align_items": null,
            "align_self": null,
            "border": null,
            "bottom": null,
            "display": null,
            "flex": null,
            "flex_flow": null,
            "grid_area": null,
            "grid_auto_columns": null,
            "grid_auto_flow": null,
            "grid_auto_rows": null,
            "grid_column": null,
            "grid_gap": null,
            "grid_row": null,
            "grid_template_areas": null,
            "grid_template_columns": null,
            "grid_template_rows": null,
            "height": null,
            "justify_content": null,
            "justify_items": null,
            "left": null,
            "margin": null,
            "max_height": null,
            "max_width": null,
            "min_height": null,
            "min_width": null,
            "object_fit": null,
            "object_position": null,
            "order": null,
            "overflow": null,
            "overflow_x": null,
            "overflow_y": null,
            "padding": null,
            "right": null,
            "top": null,
            "visibility": null,
            "width": null
          }
        },
        "847200b5a6e64996b38f57ce334c6e0f": {
          "model_module": "@jupyter-widgets/controls",
          "model_name": "DescriptionStyleModel",
          "model_module_version": "1.5.0",
          "state": {
            "_model_module": "@jupyter-widgets/controls",
            "_model_module_version": "1.5.0",
            "_model_name": "DescriptionStyleModel",
            "_view_count": null,
            "_view_module": "@jupyter-widgets/base",
            "_view_module_version": "1.2.0",
            "_view_name": "StyleView",
            "description_width": ""
          }
        },
        "cac27759bbff4a6b8c159c7be451aba0": {
          "model_module": "@jupyter-widgets/base",
          "model_name": "LayoutModel",
          "model_module_version": "1.2.0",
          "state": {
            "_model_module": "@jupyter-widgets/base",
            "_model_module_version": "1.2.0",
            "_model_name": "LayoutModel",
            "_view_count": null,
            "_view_module": "@jupyter-widgets/base",
            "_view_module_version": "1.2.0",
            "_view_name": "LayoutView",
            "align_content": null,
            "align_items": null,
            "align_self": null,
            "border": null,
            "bottom": null,
            "display": null,
            "flex": null,
            "flex_flow": null,
            "grid_area": null,
            "grid_auto_columns": null,
            "grid_auto_flow": null,
            "grid_auto_rows": null,
            "grid_column": null,
            "grid_gap": null,
            "grid_row": null,
            "grid_template_areas": null,
            "grid_template_columns": null,
            "grid_template_rows": null,
            "height": null,
            "justify_content": null,
            "justify_items": null,
            "left": null,
            "margin": null,
            "max_height": null,
            "max_width": null,
            "min_height": null,
            "min_width": null,
            "object_fit": null,
            "object_position": null,
            "order": null,
            "overflow": null,
            "overflow_x": null,
            "overflow_y": null,
            "padding": null,
            "right": null,
            "top": null,
            "visibility": null,
            "width": null
          }
        },
        "ab9d798d79594cb7912b9ec7b072d175": {
          "model_module": "@jupyter-widgets/controls",
          "model_name": "ProgressStyleModel",
          "model_module_version": "1.5.0",
          "state": {
            "_model_module": "@jupyter-widgets/controls",
            "_model_module_version": "1.5.0",
            "_model_name": "ProgressStyleModel",
            "_view_count": null,
            "_view_module": "@jupyter-widgets/base",
            "_view_module_version": "1.2.0",
            "_view_name": "StyleView",
            "bar_color": null,
            "description_width": ""
          }
        },
        "2d2766a968264a9e8d6d7bd4fa8496e3": {
          "model_module": "@jupyter-widgets/controls",
          "model_name": "VBoxModel",
          "model_module_version": "1.5.0",
          "state": {
            "_dom_classes": [],
            "_model_module": "@jupyter-widgets/controls",
            "_model_module_version": "1.5.0",
            "_model_name": "VBoxModel",
            "_view_count": null,
            "_view_module": "@jupyter-widgets/controls",
            "_view_module_version": "1.5.0",
            "_view_name": "VBoxView",
            "box_style": "",
            "children": [
              "IPY_MODEL_6be215ac9e7640098e2c8acba1364d40",
              "IPY_MODEL_843fe35f50d2454ca291a123ecc01945"
            ],
            "layout": "IPY_MODEL_43af70adc43e4c42a2213f75a44b30d2"
          }
        },
        "6be215ac9e7640098e2c8acba1364d40": {
          "model_module": "@jupyter-widgets/controls",
          "model_name": "LabelModel",
          "model_module_version": "1.5.0",
          "state": {
            "_dom_classes": [],
            "_model_module": "@jupyter-widgets/controls",
            "_model_module_version": "1.5.0",
            "_model_name": "LabelModel",
            "_view_count": null,
            "_view_module": "@jupyter-widgets/controls",
            "_view_module_version": "1.5.0",
            "_view_name": "LabelView",
            "description": "",
            "description_tooltip": null,
            "layout": "IPY_MODEL_988b531887a14105a3928679d852a153",
            "placeholder": "​",
            "style": "IPY_MODEL_e50ee56beed241d6abafa6e8f97c7956",
            "value": "20.654 MB of 20.654 MB uploaded\r"
          }
        },
        "843fe35f50d2454ca291a123ecc01945": {
          "model_module": "@jupyter-widgets/controls",
          "model_name": "FloatProgressModel",
          "model_module_version": "1.5.0",
          "state": {
            "_dom_classes": [],
            "_model_module": "@jupyter-widgets/controls",
            "_model_module_version": "1.5.0",
            "_model_name": "FloatProgressModel",
            "_view_count": null,
            "_view_module": "@jupyter-widgets/controls",
            "_view_module_version": "1.5.0",
            "_view_name": "ProgressView",
            "bar_style": "",
            "description": "",
            "description_tooltip": null,
            "layout": "IPY_MODEL_aa604a2004714dd3aed731e4511be80a",
            "max": 1,
            "min": 0,
            "orientation": "horizontal",
            "style": "IPY_MODEL_885535af21d245aab76f433326aac5a3",
            "value": 1
          }
        },
        "43af70adc43e4c42a2213f75a44b30d2": {
          "model_module": "@jupyter-widgets/base",
          "model_name": "LayoutModel",
          "model_module_version": "1.2.0",
          "state": {
            "_model_module": "@jupyter-widgets/base",
            "_model_module_version": "1.2.0",
            "_model_name": "LayoutModel",
            "_view_count": null,
            "_view_module": "@jupyter-widgets/base",
            "_view_module_version": "1.2.0",
            "_view_name": "LayoutView",
            "align_content": null,
            "align_items": null,
            "align_self": null,
            "border": null,
            "bottom": null,
            "display": null,
            "flex": null,
            "flex_flow": null,
            "grid_area": null,
            "grid_auto_columns": null,
            "grid_auto_flow": null,
            "grid_auto_rows": null,
            "grid_column": null,
            "grid_gap": null,
            "grid_row": null,
            "grid_template_areas": null,
            "grid_template_columns": null,
            "grid_template_rows": null,
            "height": null,
            "justify_content": null,
            "justify_items": null,
            "left": null,
            "margin": null,
            "max_height": null,
            "max_width": null,
            "min_height": null,
            "min_width": null,
            "object_fit": null,
            "object_position": null,
            "order": null,
            "overflow": null,
            "overflow_x": null,
            "overflow_y": null,
            "padding": null,
            "right": null,
            "top": null,
            "visibility": null,
            "width": null
          }
        },
        "988b531887a14105a3928679d852a153": {
          "model_module": "@jupyter-widgets/base",
          "model_name": "LayoutModel",
          "model_module_version": "1.2.0",
          "state": {
            "_model_module": "@jupyter-widgets/base",
            "_model_module_version": "1.2.0",
            "_model_name": "LayoutModel",
            "_view_count": null,
            "_view_module": "@jupyter-widgets/base",
            "_view_module_version": "1.2.0",
            "_view_name": "LayoutView",
            "align_content": null,
            "align_items": null,
            "align_self": null,
            "border": null,
            "bottom": null,
            "display": null,
            "flex": null,
            "flex_flow": null,
            "grid_area": null,
            "grid_auto_columns": null,
            "grid_auto_flow": null,
            "grid_auto_rows": null,
            "grid_column": null,
            "grid_gap": null,
            "grid_row": null,
            "grid_template_areas": null,
            "grid_template_columns": null,
            "grid_template_rows": null,
            "height": null,
            "justify_content": null,
            "justify_items": null,
            "left": null,
            "margin": null,
            "max_height": null,
            "max_width": null,
            "min_height": null,
            "min_width": null,
            "object_fit": null,
            "object_position": null,
            "order": null,
            "overflow": null,
            "overflow_x": null,
            "overflow_y": null,
            "padding": null,
            "right": null,
            "top": null,
            "visibility": null,
            "width": null
          }
        },
        "e50ee56beed241d6abafa6e8f97c7956": {
          "model_module": "@jupyter-widgets/controls",
          "model_name": "DescriptionStyleModel",
          "model_module_version": "1.5.0",
          "state": {
            "_model_module": "@jupyter-widgets/controls",
            "_model_module_version": "1.5.0",
            "_model_name": "DescriptionStyleModel",
            "_view_count": null,
            "_view_module": "@jupyter-widgets/base",
            "_view_module_version": "1.2.0",
            "_view_name": "StyleView",
            "description_width": ""
          }
        },
        "aa604a2004714dd3aed731e4511be80a": {
          "model_module": "@jupyter-widgets/base",
          "model_name": "LayoutModel",
          "model_module_version": "1.2.0",
          "state": {
            "_model_module": "@jupyter-widgets/base",
            "_model_module_version": "1.2.0",
            "_model_name": "LayoutModel",
            "_view_count": null,
            "_view_module": "@jupyter-widgets/base",
            "_view_module_version": "1.2.0",
            "_view_name": "LayoutView",
            "align_content": null,
            "align_items": null,
            "align_self": null,
            "border": null,
            "bottom": null,
            "display": null,
            "flex": null,
            "flex_flow": null,
            "grid_area": null,
            "grid_auto_columns": null,
            "grid_auto_flow": null,
            "grid_auto_rows": null,
            "grid_column": null,
            "grid_gap": null,
            "grid_row": null,
            "grid_template_areas": null,
            "grid_template_columns": null,
            "grid_template_rows": null,
            "height": null,
            "justify_content": null,
            "justify_items": null,
            "left": null,
            "margin": null,
            "max_height": null,
            "max_width": null,
            "min_height": null,
            "min_width": null,
            "object_fit": null,
            "object_position": null,
            "order": null,
            "overflow": null,
            "overflow_x": null,
            "overflow_y": null,
            "padding": null,
            "right": null,
            "top": null,
            "visibility": null,
            "width": null
          }
        },
        "885535af21d245aab76f433326aac5a3": {
          "model_module": "@jupyter-widgets/controls",
          "model_name": "ProgressStyleModel",
          "model_module_version": "1.5.0",
          "state": {
            "_model_module": "@jupyter-widgets/controls",
            "_model_module_version": "1.5.0",
            "_model_name": "ProgressStyleModel",
            "_view_count": null,
            "_view_module": "@jupyter-widgets/base",
            "_view_module_version": "1.2.0",
            "_view_name": "StyleView",
            "bar_color": null,
            "description_width": ""
          }
        }
      }
    }
  },
  "nbformat": 4,
  "nbformat_minor": 0
}