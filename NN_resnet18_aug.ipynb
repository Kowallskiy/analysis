{
  "cells": [
    {
      "cell_type": "code",
      "source": [
        "!pip install albumentations wandb nbformat opencv-python-headless"
      ],
      "metadata": {
        "colab": {
          "base_uri": "https://localhost:8080/"
        },
        "id": "bGcNdMwQi_UL",
        "outputId": "eb3619ca-e66f-47a6-d859-537db1567637"
      },
      "execution_count": null,
      "outputs": [
        {
          "output_type": "stream",
          "name": "stdout",
          "text": [
            "Requirement already satisfied: albumentations in /usr/local/lib/python3.10/dist-packages (1.3.1)\n",
            "Collecting wandb\n",
            "  Downloading wandb-0.17.1-py3-none-manylinux_2_5_x86_64.manylinux1_x86_64.manylinux_2_17_x86_64.manylinux2014_x86_64.whl (6.8 MB)\n",
            "\u001b[2K     \u001b[90m━━━━━━━━━━━━━━━━━━━━━━━━━━━━━━━━━━━━━━━━\u001b[0m \u001b[32m6.8/6.8 MB\u001b[0m \u001b[31m15.2 MB/s\u001b[0m eta \u001b[36m0:00:00\u001b[0m\n",
            "\u001b[?25hRequirement already satisfied: nbformat in /usr/local/lib/python3.10/dist-packages (5.10.4)\n",
            "Requirement already satisfied: opencv-python-headless in /usr/local/lib/python3.10/dist-packages (4.10.0.82)\n",
            "Requirement already satisfied: numpy>=1.11.1 in /usr/local/lib/python3.10/dist-packages (from albumentations) (1.25.2)\n",
            "Requirement already satisfied: scipy>=1.1.0 in /usr/local/lib/python3.10/dist-packages (from albumentations) (1.11.4)\n",
            "Requirement already satisfied: scikit-image>=0.16.1 in /usr/local/lib/python3.10/dist-packages (from albumentations) (0.19.3)\n",
            "Requirement already satisfied: PyYAML in /usr/local/lib/python3.10/dist-packages (from albumentations) (6.0.1)\n",
            "Requirement already satisfied: qudida>=0.0.4 in /usr/local/lib/python3.10/dist-packages (from albumentations) (0.0.4)\n",
            "Requirement already satisfied: click!=8.0.0,>=7.1 in /usr/local/lib/python3.10/dist-packages (from wandb) (8.1.7)\n",
            "Collecting docker-pycreds>=0.4.0 (from wandb)\n",
            "  Downloading docker_pycreds-0.4.0-py2.py3-none-any.whl (9.0 kB)\n",
            "Collecting gitpython!=3.1.29,>=1.0.0 (from wandb)\n",
            "  Downloading GitPython-3.1.43-py3-none-any.whl (207 kB)\n",
            "\u001b[2K     \u001b[90m━━━━━━━━━━━━━━━━━━━━━━━━━━━━━━━━━━━━━━━━\u001b[0m \u001b[32m207.3/207.3 kB\u001b[0m \u001b[31m11.2 MB/s\u001b[0m eta \u001b[36m0:00:00\u001b[0m\n",
            "\u001b[?25hRequirement already satisfied: platformdirs in /usr/local/lib/python3.10/dist-packages (from wandb) (4.2.2)\n",
            "Requirement already satisfied: protobuf!=4.21.0,<6,>=3.19.0 in /usr/local/lib/python3.10/dist-packages (from wandb) (3.20.3)\n",
            "Requirement already satisfied: psutil>=5.0.0 in /usr/local/lib/python3.10/dist-packages (from wandb) (5.9.5)\n",
            "Requirement already satisfied: requests<3,>=2.0.0 in /usr/local/lib/python3.10/dist-packages (from wandb) (2.31.0)\n",
            "Collecting sentry-sdk>=1.0.0 (from wandb)\n",
            "  Downloading sentry_sdk-2.5.1-py2.py3-none-any.whl (289 kB)\n",
            "\u001b[2K     \u001b[90m━━━━━━━━━━━━━━━━━━━━━━━━━━━━━━━━━━━━━━━━\u001b[0m \u001b[32m289.6/289.6 kB\u001b[0m \u001b[31m12.3 MB/s\u001b[0m eta \u001b[36m0:00:00\u001b[0m\n",
            "\u001b[?25hCollecting setproctitle (from wandb)\n",
            "  Downloading setproctitle-1.3.3-cp310-cp310-manylinux_2_5_x86_64.manylinux1_x86_64.manylinux_2_17_x86_64.manylinux2014_x86_64.whl (30 kB)\n",
            "Requirement already satisfied: setuptools in /usr/local/lib/python3.10/dist-packages (from wandb) (67.7.2)\n",
            "Requirement already satisfied: fastjsonschema>=2.15 in /usr/local/lib/python3.10/dist-packages (from nbformat) (2.19.1)\n",
            "Requirement already satisfied: jsonschema>=2.6 in /usr/local/lib/python3.10/dist-packages (from nbformat) (4.19.2)\n",
            "Requirement already satisfied: jupyter-core!=5.0.*,>=4.12 in /usr/local/lib/python3.10/dist-packages (from nbformat) (5.7.2)\n",
            "Requirement already satisfied: traitlets>=5.1 in /usr/local/lib/python3.10/dist-packages (from nbformat) (5.7.1)\n",
            "Requirement already satisfied: six>=1.4.0 in /usr/local/lib/python3.10/dist-packages (from docker-pycreds>=0.4.0->wandb) (1.16.0)\n",
            "Collecting gitdb<5,>=4.0.1 (from gitpython!=3.1.29,>=1.0.0->wandb)\n",
            "  Downloading gitdb-4.0.11-py3-none-any.whl (62 kB)\n",
            "\u001b[2K     \u001b[90m━━━━━━━━━━━━━━━━━━━━━━━━━━━━━━━━━━━━━━━━\u001b[0m \u001b[32m62.7/62.7 kB\u001b[0m \u001b[31m5.2 MB/s\u001b[0m eta \u001b[36m0:00:00\u001b[0m\n",
            "\u001b[?25hRequirement already satisfied: attrs>=22.2.0 in /usr/local/lib/python3.10/dist-packages (from jsonschema>=2.6->nbformat) (23.2.0)\n",
            "Requirement already satisfied: jsonschema-specifications>=2023.03.6 in /usr/local/lib/python3.10/dist-packages (from jsonschema>=2.6->nbformat) (2023.12.1)\n",
            "Requirement already satisfied: referencing>=0.28.4 in /usr/local/lib/python3.10/dist-packages (from jsonschema>=2.6->nbformat) (0.35.1)\n",
            "Requirement already satisfied: rpds-py>=0.7.1 in /usr/local/lib/python3.10/dist-packages (from jsonschema>=2.6->nbformat) (0.18.1)\n",
            "Requirement already satisfied: scikit-learn>=0.19.1 in /usr/local/lib/python3.10/dist-packages (from qudida>=0.0.4->albumentations) (1.2.2)\n",
            "Requirement already satisfied: typing-extensions in /usr/local/lib/python3.10/dist-packages (from qudida>=0.0.4->albumentations) (4.12.2)\n",
            "Requirement already satisfied: charset-normalizer<4,>=2 in /usr/local/lib/python3.10/dist-packages (from requests<3,>=2.0.0->wandb) (3.3.2)\n",
            "Requirement already satisfied: idna<4,>=2.5 in /usr/local/lib/python3.10/dist-packages (from requests<3,>=2.0.0->wandb) (3.7)\n",
            "Requirement already satisfied: urllib3<3,>=1.21.1 in /usr/local/lib/python3.10/dist-packages (from requests<3,>=2.0.0->wandb) (2.0.7)\n",
            "Requirement already satisfied: certifi>=2017.4.17 in /usr/local/lib/python3.10/dist-packages (from requests<3,>=2.0.0->wandb) (2024.6.2)\n",
            "Requirement already satisfied: networkx>=2.2 in /usr/local/lib/python3.10/dist-packages (from scikit-image>=0.16.1->albumentations) (3.3)\n",
            "Requirement already satisfied: pillow!=7.1.0,!=7.1.1,!=8.3.0,>=6.1.0 in /usr/local/lib/python3.10/dist-packages (from scikit-image>=0.16.1->albumentations) (9.4.0)\n",
            "Requirement already satisfied: imageio>=2.4.1 in /usr/local/lib/python3.10/dist-packages (from scikit-image>=0.16.1->albumentations) (2.31.6)\n",
            "Requirement already satisfied: tifffile>=2019.7.26 in /usr/local/lib/python3.10/dist-packages (from scikit-image>=0.16.1->albumentations) (2024.5.22)\n",
            "Requirement already satisfied: PyWavelets>=1.1.1 in /usr/local/lib/python3.10/dist-packages (from scikit-image>=0.16.1->albumentations) (1.6.0)\n",
            "Requirement already satisfied: packaging>=20.0 in /usr/local/lib/python3.10/dist-packages (from scikit-image>=0.16.1->albumentations) (24.1)\n",
            "Collecting smmap<6,>=3.0.1 (from gitdb<5,>=4.0.1->gitpython!=3.1.29,>=1.0.0->wandb)\n",
            "  Downloading smmap-5.0.1-py3-none-any.whl (24 kB)\n",
            "Requirement already satisfied: joblib>=1.1.1 in /usr/local/lib/python3.10/dist-packages (from scikit-learn>=0.19.1->qudida>=0.0.4->albumentations) (1.4.2)\n",
            "Requirement already satisfied: threadpoolctl>=2.0.0 in /usr/local/lib/python3.10/dist-packages (from scikit-learn>=0.19.1->qudida>=0.0.4->albumentations) (3.5.0)\n",
            "Installing collected packages: smmap, setproctitle, sentry-sdk, docker-pycreds, gitdb, gitpython, wandb\n",
            "Successfully installed docker-pycreds-0.4.0 gitdb-4.0.11 gitpython-3.1.43 sentry-sdk-2.5.1 setproctitle-1.3.3 smmap-5.0.1 wandb-0.17.1\n"
          ]
        }
      ]
    },
    {
      "cell_type": "code",
      "source": [
        "from google.colab import drive\n",
        "drive.mount('/content/drive')"
      ],
      "metadata": {
        "colab": {
          "base_uri": "https://localhost:8080/"
        },
        "id": "6Q4bqy3wHrbp",
        "outputId": "03cbb1bc-3ba5-4a48-b09d-acb0b74f92f4"
      },
      "execution_count": null,
      "outputs": [
        {
          "output_type": "stream",
          "name": "stdout",
          "text": [
            "Mounted at /content/drive\n"
          ]
        }
      ]
    },
    {
      "cell_type": "code",
      "execution_count": null,
      "metadata": {
        "id": "9zVxzWzni-gF"
      },
      "outputs": [],
      "source": [
        "import torch\n",
        "from torchvision import transforms, datasets\n",
        "from torch.utils.data import Dataset, DataLoader\n",
        "from sklearn.metrics import accuracy_score, precision_score, recall_score, f1_score, confusion_matrix\n",
        "import albumentations as A\n",
        "from albumentations.pytorch import ToTensorV2\n",
        "from PIL import Image\n",
        "import matplotlib.pyplot as plt\n",
        "import seaborn as sns\n",
        "import wandb\n",
        "import nbformat\n",
        "import cv2\n",
        "\n",
        "from collections import Counter\n",
        "import logging\n",
        "import os"
      ]
    },
    {
      "cell_type": "code",
      "execution_count": null,
      "metadata": {
        "id": "0GKCKdpKi-gH",
        "outputId": "58860269-deb2-4a72-9bff-cf243d26d5e7",
        "colab": {
          "base_uri": "https://localhost:8080/",
          "height": 121
        }
      },
      "outputs": [
        {
          "output_type": "display_data",
          "data": {
            "text/plain": [
              "<IPython.core.display.Javascript object>"
            ],
            "application/javascript": [
              "\n",
              "        window._wandbApiKey = new Promise((resolve, reject) => {\n",
              "            function loadScript(url) {\n",
              "            return new Promise(function(resolve, reject) {\n",
              "                let newScript = document.createElement(\"script\");\n",
              "                newScript.onerror = reject;\n",
              "                newScript.onload = resolve;\n",
              "                document.body.appendChild(newScript);\n",
              "                newScript.src = url;\n",
              "            });\n",
              "            }\n",
              "            loadScript(\"https://cdn.jsdelivr.net/npm/postmate/build/postmate.min.js\").then(() => {\n",
              "            const iframe = document.createElement('iframe')\n",
              "            iframe.style.cssText = \"width:0;height:0;border:none\"\n",
              "            document.body.appendChild(iframe)\n",
              "            const handshake = new Postmate({\n",
              "                container: iframe,\n",
              "                url: 'https://wandb.ai/authorize'\n",
              "            });\n",
              "            const timeout = setTimeout(() => reject(\"Couldn't auto authenticate\"), 5000)\n",
              "            handshake.then(function(child) {\n",
              "                child.on('authorize', data => {\n",
              "                    clearTimeout(timeout)\n",
              "                    resolve(data)\n",
              "                });\n",
              "            });\n",
              "            })\n",
              "        });\n",
              "    "
            ]
          },
          "metadata": {}
        },
        {
          "output_type": "stream",
          "name": "stderr",
          "text": [
            "\u001b[34m\u001b[1mwandb\u001b[0m: Logging into wandb.ai. (Learn how to deploy a W&B server locally: https://wandb.me/wandb-server)\n",
            "\u001b[34m\u001b[1mwandb\u001b[0m: You can find your API key in your browser here: https://wandb.ai/authorize\n",
            "wandb: Paste an API key from your profile and hit enter, or press ctrl+c to quit:"
          ]
        },
        {
          "name": "stdout",
          "output_type": "stream",
          "text": [
            " ··········\n"
          ]
        },
        {
          "output_type": "stream",
          "name": "stderr",
          "text": [
            "\u001b[34m\u001b[1mwandb\u001b[0m: Appending key for api.wandb.ai to your netrc file: /root/.netrc\n"
          ]
        },
        {
          "output_type": "execute_result",
          "data": {
            "text/plain": [
              "True"
            ]
          },
          "metadata": {},
          "execution_count": 4
        }
      ],
      "source": [
        "wandb.login()"
      ]
    },
    {
      "cell_type": "code",
      "execution_count": null,
      "metadata": {
        "id": "qQngjiRgi-gH",
        "outputId": "8b66b58d-39af-4cce-e9ed-decf7b280ec7",
        "colab": {
          "base_uri": "https://localhost:8080/"
        }
      },
      "outputs": [
        {
          "output_type": "stream",
          "name": "stderr",
          "text": [
            "/usr/local/lib/python3.10/dist-packages/torch/hub.py:293: UserWarning: You are about to download and run code from an untrusted repository. In a future release, this won't be allowed. To add the repository to your trusted list, change the command to {calling_fn}(..., trust_repo=False) and a command prompt will appear asking for an explicit confirmation of trust, or load(..., trust_repo=True), which will assume that the prompt is to be answered with 'yes'. You can also use load(..., trust_repo='check') which will only prompt for confirmation if the repo is not already trusted. This will eventually be the default behaviour\n",
            "  warnings.warn(\n",
            "Downloading: \"https://github.com/NVIDIA/DeepLearningExamples/zipball/torchhub\" to /root/.cache/torch/hub/torchhub.zip\n",
            "/root/.cache/torch/hub/NVIDIA_DeepLearningExamples_torchhub/PyTorch/Classification/ConvNets/image_classification/models/common.py:13: UserWarning: pytorch_quantization module not found, quantization will not be available\n",
            "  warnings.warn(\n",
            "/root/.cache/torch/hub/NVIDIA_DeepLearningExamples_torchhub/PyTorch/Classification/ConvNets/image_classification/models/efficientnet.py:17: UserWarning: pytorch_quantization module not found, quantization will not be available\n",
            "  warnings.warn(\n",
            "Downloading: \"https://api.ngc.nvidia.com/v2/models/nvidia/efficientnet_b0_pyt_amp/versions/20.12.0/files/nvidia_efficientnet-b0_210412.pth\" to /root/.cache/torch/hub/checkpoints/nvidia_efficientnet-b0_210412.pth\n",
            "100%|██████████| 20.5M/20.5M [00:00<00:00, 147MB/s] \n"
          ]
        }
      ],
      "source": [
        "model = torch.hub.load('NVIDIA/DeepLearningExamples:torchhub', 'nvidia_efficientnet_b0', pretrained=True)"
      ]
    },
    {
      "cell_type": "code",
      "execution_count": null,
      "metadata": {
        "id": "vwR7go0li-gI"
      },
      "outputs": [],
      "source": [
        "data_transforms = {\n",
        "    \"train\": A.Compose([\n",
        "        A.HorizontalFlip(p=0.5),\n",
        "        A.VerticalFlip(p=0.5),\n",
        "        A.RandomRotate90(p=0.3),\n",
        "        A.RandomBrightnessContrast(brightness_limit=(-0.15,0.15), contrast_limit=(-0.15, 0.15), p=0.3),\n",
        "        #A.HueSaturationValue(hue_shift_limit=10, sat_shift_limit=30, val_shift_limit=20, p=0.2),\n",
        "        A.GaussNoise(var_limit=(10, 50), p=0.1),\n",
        "        A.CLAHE(clip_limit=(1,3), tile_grid_size=(8, 8), p=0.3),\n",
        "        #A.RandomCrop(224, 224, 0.3),  # RandomCrop to introduce variability\n",
        "        # A.CenterCrop(height=config['crop'], width=config['crop']),\n",
        "        # choose mean and std based on pre-trained model specification.\n",
        "        A.Normalize(mean=[0.485, 0.456, 0.406], std=[0.229, 0.224, 0.225]),\n",
        "        ToTensorV2(),\n",
        "    ]),\n",
        "    \"validation\": A.Compose([\n",
        "        A.Normalize(mean=[0.485, 0.456, 0.406], std=[0.229, 0.224, 0.225]),\n",
        "        ToTensorV2(),\n",
        "    ]),\n",
        "    \"test\": A.Compose([\n",
        "        A.Normalize(mean=[0.485, 0.456, 0.406], std=[0.229, 0.224, 0.225]),\n",
        "        ToTensorV2(),\n",
        "    ])\n",
        "}\n"
      ]
    },
    {
      "cell_type": "code",
      "execution_count": null,
      "metadata": {
        "id": "Q9KfQNNBi-gI"
      },
      "outputs": [],
      "source": [
        "class CustomDataset(Dataset):\n",
        "    def __init__(self, dir_root, split, transform=None, resize=None):\n",
        "        self.dir_root = dir_root\n",
        "        self.split = split\n",
        "        self.transform = transform\n",
        "        self.resize = resize\n",
        "        self.data = []\n",
        "        self.targets = []\n",
        "        self.class_names = []\n",
        "\n",
        "        data_dir = os.path.join(dir_root, split)\n",
        "\n",
        "        class_directories = sorted(os.listdir(data_dir))\n",
        "        for class_idx, class_dir in enumerate(class_directories):\n",
        "            class_path = os.path.join(data_dir, class_dir)\n",
        "            self.class_names.append(class_dir)\n",
        "\n",
        "            for img_name in os.listdir(class_path):\n",
        "                img_path = os.path.join(class_path, img_name)\n",
        "                self.data.append(img_path)\n",
        "                self.targets.append(class_idx)\n",
        "\n",
        "        self.class_idx_to_name = {idx: name for idx, name in enumerate(self.class_names)}\n",
        "\n",
        "    def __len__(self):\n",
        "        return len(self.data)\n",
        "\n",
        "    def __getitem__(self, idx):\n",
        "        img_path = self.data[idx]\n",
        "        target = self.targets[idx]\n",
        "\n",
        "        try:\n",
        "            image = cv2.imread(img_path)\n",
        "\n",
        "            if self.resize:\n",
        "                image = cv2.resize(image, (self.resize, self.resize))\n",
        "\n",
        "            if self.transform:\n",
        "                image = self.transform(image=image)['image']\n",
        "\n",
        "            return image, target\n",
        "\n",
        "        except Exception as e:\n",
        "            print(f\"Error loading image: {e}\")\n",
        "            return None, None\n",
        "\n",
        "    def num_classes(self):\n",
        "        return len(self.class_names)\n",
        "\n",
        "    def get_class_name(self, class_idx):\n",
        "        return self.class_idx_to_name.get(class_idx)\n",
        "\n",
        "    def get_class_names(self):\n",
        "        return self.class_names\n",
        "\n",
        "    def class_idx_to_name_dict(self):\n",
        "        return self.class_idx_to_name\n",
        "\n",
        "    def get_classes_frequencies(self):\n",
        "        return dict(Counter(self.targets))"
      ]
    },
    {
      "cell_type": "code",
      "execution_count": null,
      "metadata": {
        "id": "QjHdWlwfi-gI"
      },
      "outputs": [],
      "source": [
        "data_directory = \"/content/drive/MyDrive/original(resized)\""
      ]
    },
    {
      "cell_type": "code",
      "execution_count": null,
      "metadata": {
        "id": "0pIwzZxYi-gI"
      },
      "outputs": [],
      "source": [
        "training_dataset = CustomDataset(dir_root=data_directory, split='train', transform=data_transforms['train'])\n",
        "validation_dataset = CustomDataset(dir_root=data_directory, split='validation', transform=data_transforms['validation'])\n",
        "test_dataset = CustomDataset(dir_root=data_directory, split='test', transform=data_transforms['test'])"
      ]
    },
    {
      "cell_type": "code",
      "source": [
        "print(training_dataset.num_classes())\n",
        "print(training_dataset.get_class_names())\n",
        "print(training_dataset.get_classes_frequencies())"
      ],
      "metadata": {
        "colab": {
          "base_uri": "https://localhost:8080/"
        },
        "id": "HrjdnsGTIezJ",
        "outputId": "29ac3449-bb2d-4898-a6e0-d55c77e64c0e"
      },
      "execution_count": null,
      "outputs": [
        {
          "output_type": "stream",
          "name": "stdout",
          "text": [
            "8\n",
            "['Anthracnose_Fungi', 'Bacterial_Wilt_Bacteria', 'Belly_Rot_Fungi', 'Downy_Mildew_Fungi', 'Gummy_Stem_Blight_Fungi', 'Healthy_Crop_Cucumber', 'Healthy_Crop_Leaf', 'Pythium_Fruit_Rot_Fungi']\n",
            "{0: 128, 1: 128, 2: 128, 3: 128, 4: 128, 5: 128, 6: 128, 7: 135}\n"
          ]
        }
      ]
    },
    {
      "cell_type": "code",
      "execution_count": null,
      "metadata": {
        "id": "k-zVt95ni-gI"
      },
      "outputs": [],
      "source": [
        "# pin_memory=Ture allows faster transfer of data from host (CPU) to device (GPU) memory\n",
        "train_dataloader = DataLoader(training_dataset, batch_size=32, shuffle=True, num_workers=2, pin_memory=True)\n",
        "val_dataloader = DataLoader(validation_dataset, batch_size=32, shuffle=False, num_workers=2, pin_memory=True)\n",
        "test_dataloader = DataLoader(test_dataset, batch_size=32, shuffle=False, num_workers=2, pin_memory=True)"
      ]
    },
    {
      "cell_type": "code",
      "execution_count": null,
      "metadata": {
        "id": "bFCPc25ai-gJ"
      },
      "outputs": [],
      "source": [
        "device = torch.device(\"cuda\" if torch.cuda.is_available() else 'cpu')"
      ]
    },
    {
      "cell_type": "code",
      "execution_count": null,
      "metadata": {
        "id": "fnLeoZpli-gJ",
        "outputId": "cc2c4c1c-42d4-4dfa-86fd-16161673e205",
        "colab": {
          "base_uri": "https://localhost:8080/"
        }
      },
      "outputs": [
        {
          "output_type": "execute_result",
          "data": {
            "text/plain": [
              "EfficientNet(\n",
              "  (stem): Sequential(\n",
              "    (conv): Conv2d(3, 32, kernel_size=(3, 3), stride=(2, 2), padding=(1, 1), bias=False)\n",
              "    (bn): BatchNorm2d(32, eps=0.001, momentum=0.010000000000000009, affine=True, track_running_stats=True)\n",
              "    (activation): SiLU(inplace=True)\n",
              "  )\n",
              "  (layers): Sequential(\n",
              "    (0): Sequential(\n",
              "      (block0): MBConvBlock(\n",
              "        (depsep): Sequential(\n",
              "          (conv): Conv2d(32, 32, kernel_size=(3, 3), stride=(1, 1), padding=(1, 1), groups=32, bias=False)\n",
              "          (bn): BatchNorm2d(32, eps=0.001, momentum=0.010000000000000009, affine=True, track_running_stats=True)\n",
              "          (act): SiLU(inplace=True)\n",
              "        )\n",
              "        (se): SequentialSqueezeAndExcitation(\n",
              "          (squeeze): Linear(in_features=32, out_features=8, bias=True)\n",
              "          (expand): Linear(in_features=8, out_features=32, bias=True)\n",
              "          (activation): SiLU(inplace=True)\n",
              "          (sigmoid): Sigmoid()\n",
              "          (mul_a_quantizer): Identity()\n",
              "          (mul_b_quantizer): Identity()\n",
              "        )\n",
              "        (proj): Sequential(\n",
              "          (conv): Conv2d(32, 16, kernel_size=(1, 1), stride=(1, 1), bias=False)\n",
              "          (bn): BatchNorm2d(16, eps=0.001, momentum=0.010000000000000009, affine=True, track_running_stats=True)\n",
              "        )\n",
              "        (residual_quantizer): Identity()\n",
              "      )\n",
              "    )\n",
              "    (1): Sequential(\n",
              "      (block0): MBConvBlock(\n",
              "        (expand): Sequential(\n",
              "          (conv): Conv2d(16, 96, kernel_size=(1, 1), stride=(1, 1), bias=False)\n",
              "          (bn): BatchNorm2d(96, eps=0.001, momentum=0.010000000000000009, affine=True, track_running_stats=True)\n",
              "          (act): SiLU(inplace=True)\n",
              "        )\n",
              "        (depsep): Sequential(\n",
              "          (conv): Conv2d(96, 96, kernel_size=(3, 3), stride=(2, 2), padding=(1, 1), groups=96, bias=False)\n",
              "          (bn): BatchNorm2d(96, eps=0.001, momentum=0.010000000000000009, affine=True, track_running_stats=True)\n",
              "          (act): SiLU(inplace=True)\n",
              "        )\n",
              "        (se): SequentialSqueezeAndExcitation(\n",
              "          (squeeze): Linear(in_features=96, out_features=4, bias=True)\n",
              "          (expand): Linear(in_features=4, out_features=96, bias=True)\n",
              "          (activation): SiLU(inplace=True)\n",
              "          (sigmoid): Sigmoid()\n",
              "          (mul_a_quantizer): Identity()\n",
              "          (mul_b_quantizer): Identity()\n",
              "        )\n",
              "        (proj): Sequential(\n",
              "          (conv): Conv2d(96, 24, kernel_size=(1, 1), stride=(1, 1), bias=False)\n",
              "          (bn): BatchNorm2d(24, eps=0.001, momentum=0.010000000000000009, affine=True, track_running_stats=True)\n",
              "        )\n",
              "        (residual_quantizer): Identity()\n",
              "      )\n",
              "      (block1): MBConvBlock(\n",
              "        (expand): Sequential(\n",
              "          (conv): Conv2d(24, 144, kernel_size=(1, 1), stride=(1, 1), bias=False)\n",
              "          (bn): BatchNorm2d(144, eps=0.001, momentum=0.010000000000000009, affine=True, track_running_stats=True)\n",
              "          (act): SiLU(inplace=True)\n",
              "        )\n",
              "        (depsep): Sequential(\n",
              "          (conv): Conv2d(144, 144, kernel_size=(3, 3), stride=(1, 1), padding=(1, 1), groups=144, bias=False)\n",
              "          (bn): BatchNorm2d(144, eps=0.001, momentum=0.010000000000000009, affine=True, track_running_stats=True)\n",
              "          (act): SiLU(inplace=True)\n",
              "        )\n",
              "        (se): SequentialSqueezeAndExcitation(\n",
              "          (squeeze): Linear(in_features=144, out_features=6, bias=True)\n",
              "          (expand): Linear(in_features=6, out_features=144, bias=True)\n",
              "          (activation): SiLU(inplace=True)\n",
              "          (sigmoid): Sigmoid()\n",
              "          (mul_a_quantizer): Identity()\n",
              "          (mul_b_quantizer): Identity()\n",
              "        )\n",
              "        (proj): Sequential(\n",
              "          (conv): Conv2d(144, 24, kernel_size=(1, 1), stride=(1, 1), bias=False)\n",
              "          (bn): BatchNorm2d(24, eps=0.001, momentum=0.010000000000000009, affine=True, track_running_stats=True)\n",
              "        )\n",
              "        (residual_quantizer): Identity()\n",
              "      )\n",
              "    )\n",
              "    (2): Sequential(\n",
              "      (block0): MBConvBlock(\n",
              "        (expand): Sequential(\n",
              "          (conv): Conv2d(24, 144, kernel_size=(1, 1), stride=(1, 1), bias=False)\n",
              "          (bn): BatchNorm2d(144, eps=0.001, momentum=0.010000000000000009, affine=True, track_running_stats=True)\n",
              "          (act): SiLU(inplace=True)\n",
              "        )\n",
              "        (depsep): Sequential(\n",
              "          (conv): Conv2d(144, 144, kernel_size=(5, 5), stride=(2, 2), padding=(2, 2), groups=144, bias=False)\n",
              "          (bn): BatchNorm2d(144, eps=0.001, momentum=0.010000000000000009, affine=True, track_running_stats=True)\n",
              "          (act): SiLU(inplace=True)\n",
              "        )\n",
              "        (se): SequentialSqueezeAndExcitation(\n",
              "          (squeeze): Linear(in_features=144, out_features=6, bias=True)\n",
              "          (expand): Linear(in_features=6, out_features=144, bias=True)\n",
              "          (activation): SiLU(inplace=True)\n",
              "          (sigmoid): Sigmoid()\n",
              "          (mul_a_quantizer): Identity()\n",
              "          (mul_b_quantizer): Identity()\n",
              "        )\n",
              "        (proj): Sequential(\n",
              "          (conv): Conv2d(144, 40, kernel_size=(1, 1), stride=(1, 1), bias=False)\n",
              "          (bn): BatchNorm2d(40, eps=0.001, momentum=0.010000000000000009, affine=True, track_running_stats=True)\n",
              "        )\n",
              "        (residual_quantizer): Identity()\n",
              "      )\n",
              "      (block1): MBConvBlock(\n",
              "        (expand): Sequential(\n",
              "          (conv): Conv2d(40, 240, kernel_size=(1, 1), stride=(1, 1), bias=False)\n",
              "          (bn): BatchNorm2d(240, eps=0.001, momentum=0.010000000000000009, affine=True, track_running_stats=True)\n",
              "          (act): SiLU(inplace=True)\n",
              "        )\n",
              "        (depsep): Sequential(\n",
              "          (conv): Conv2d(240, 240, kernel_size=(5, 5), stride=(1, 1), padding=(2, 2), groups=240, bias=False)\n",
              "          (bn): BatchNorm2d(240, eps=0.001, momentum=0.010000000000000009, affine=True, track_running_stats=True)\n",
              "          (act): SiLU(inplace=True)\n",
              "        )\n",
              "        (se): SequentialSqueezeAndExcitation(\n",
              "          (squeeze): Linear(in_features=240, out_features=10, bias=True)\n",
              "          (expand): Linear(in_features=10, out_features=240, bias=True)\n",
              "          (activation): SiLU(inplace=True)\n",
              "          (sigmoid): Sigmoid()\n",
              "          (mul_a_quantizer): Identity()\n",
              "          (mul_b_quantizer): Identity()\n",
              "        )\n",
              "        (proj): Sequential(\n",
              "          (conv): Conv2d(240, 40, kernel_size=(1, 1), stride=(1, 1), bias=False)\n",
              "          (bn): BatchNorm2d(40, eps=0.001, momentum=0.010000000000000009, affine=True, track_running_stats=True)\n",
              "        )\n",
              "        (residual_quantizer): Identity()\n",
              "      )\n",
              "    )\n",
              "    (3): Sequential(\n",
              "      (block0): MBConvBlock(\n",
              "        (expand): Sequential(\n",
              "          (conv): Conv2d(40, 240, kernel_size=(1, 1), stride=(1, 1), bias=False)\n",
              "          (bn): BatchNorm2d(240, eps=0.001, momentum=0.010000000000000009, affine=True, track_running_stats=True)\n",
              "          (act): SiLU(inplace=True)\n",
              "        )\n",
              "        (depsep): Sequential(\n",
              "          (conv): Conv2d(240, 240, kernel_size=(3, 3), stride=(2, 2), padding=(1, 1), groups=240, bias=False)\n",
              "          (bn): BatchNorm2d(240, eps=0.001, momentum=0.010000000000000009, affine=True, track_running_stats=True)\n",
              "          (act): SiLU(inplace=True)\n",
              "        )\n",
              "        (se): SequentialSqueezeAndExcitation(\n",
              "          (squeeze): Linear(in_features=240, out_features=10, bias=True)\n",
              "          (expand): Linear(in_features=10, out_features=240, bias=True)\n",
              "          (activation): SiLU(inplace=True)\n",
              "          (sigmoid): Sigmoid()\n",
              "          (mul_a_quantizer): Identity()\n",
              "          (mul_b_quantizer): Identity()\n",
              "        )\n",
              "        (proj): Sequential(\n",
              "          (conv): Conv2d(240, 80, kernel_size=(1, 1), stride=(1, 1), bias=False)\n",
              "          (bn): BatchNorm2d(80, eps=0.001, momentum=0.010000000000000009, affine=True, track_running_stats=True)\n",
              "        )\n",
              "        (residual_quantizer): Identity()\n",
              "      )\n",
              "      (block1): MBConvBlock(\n",
              "        (expand): Sequential(\n",
              "          (conv): Conv2d(80, 480, kernel_size=(1, 1), stride=(1, 1), bias=False)\n",
              "          (bn): BatchNorm2d(480, eps=0.001, momentum=0.010000000000000009, affine=True, track_running_stats=True)\n",
              "          (act): SiLU(inplace=True)\n",
              "        )\n",
              "        (depsep): Sequential(\n",
              "          (conv): Conv2d(480, 480, kernel_size=(3, 3), stride=(1, 1), padding=(1, 1), groups=480, bias=False)\n",
              "          (bn): BatchNorm2d(480, eps=0.001, momentum=0.010000000000000009, affine=True, track_running_stats=True)\n",
              "          (act): SiLU(inplace=True)\n",
              "        )\n",
              "        (se): SequentialSqueezeAndExcitation(\n",
              "          (squeeze): Linear(in_features=480, out_features=20, bias=True)\n",
              "          (expand): Linear(in_features=20, out_features=480, bias=True)\n",
              "          (activation): SiLU(inplace=True)\n",
              "          (sigmoid): Sigmoid()\n",
              "          (mul_a_quantizer): Identity()\n",
              "          (mul_b_quantizer): Identity()\n",
              "        )\n",
              "        (proj): Sequential(\n",
              "          (conv): Conv2d(480, 80, kernel_size=(1, 1), stride=(1, 1), bias=False)\n",
              "          (bn): BatchNorm2d(80, eps=0.001, momentum=0.010000000000000009, affine=True, track_running_stats=True)\n",
              "        )\n",
              "        (residual_quantizer): Identity()\n",
              "      )\n",
              "      (block2): MBConvBlock(\n",
              "        (expand): Sequential(\n",
              "          (conv): Conv2d(80, 480, kernel_size=(1, 1), stride=(1, 1), bias=False)\n",
              "          (bn): BatchNorm2d(480, eps=0.001, momentum=0.010000000000000009, affine=True, track_running_stats=True)\n",
              "          (act): SiLU(inplace=True)\n",
              "        )\n",
              "        (depsep): Sequential(\n",
              "          (conv): Conv2d(480, 480, kernel_size=(3, 3), stride=(1, 1), padding=(1, 1), groups=480, bias=False)\n",
              "          (bn): BatchNorm2d(480, eps=0.001, momentum=0.010000000000000009, affine=True, track_running_stats=True)\n",
              "          (act): SiLU(inplace=True)\n",
              "        )\n",
              "        (se): SequentialSqueezeAndExcitation(\n",
              "          (squeeze): Linear(in_features=480, out_features=20, bias=True)\n",
              "          (expand): Linear(in_features=20, out_features=480, bias=True)\n",
              "          (activation): SiLU(inplace=True)\n",
              "          (sigmoid): Sigmoid()\n",
              "          (mul_a_quantizer): Identity()\n",
              "          (mul_b_quantizer): Identity()\n",
              "        )\n",
              "        (proj): Sequential(\n",
              "          (conv): Conv2d(480, 80, kernel_size=(1, 1), stride=(1, 1), bias=False)\n",
              "          (bn): BatchNorm2d(80, eps=0.001, momentum=0.010000000000000009, affine=True, track_running_stats=True)\n",
              "        )\n",
              "        (residual_quantizer): Identity()\n",
              "      )\n",
              "    )\n",
              "    (4): Sequential(\n",
              "      (block0): MBConvBlock(\n",
              "        (expand): Sequential(\n",
              "          (conv): Conv2d(80, 480, kernel_size=(1, 1), stride=(1, 1), bias=False)\n",
              "          (bn): BatchNorm2d(480, eps=0.001, momentum=0.010000000000000009, affine=True, track_running_stats=True)\n",
              "          (act): SiLU(inplace=True)\n",
              "        )\n",
              "        (depsep): Sequential(\n",
              "          (conv): Conv2d(480, 480, kernel_size=(5, 5), stride=(1, 1), padding=(2, 2), groups=480, bias=False)\n",
              "          (bn): BatchNorm2d(480, eps=0.001, momentum=0.010000000000000009, affine=True, track_running_stats=True)\n",
              "          (act): SiLU(inplace=True)\n",
              "        )\n",
              "        (se): SequentialSqueezeAndExcitation(\n",
              "          (squeeze): Linear(in_features=480, out_features=20, bias=True)\n",
              "          (expand): Linear(in_features=20, out_features=480, bias=True)\n",
              "          (activation): SiLU(inplace=True)\n",
              "          (sigmoid): Sigmoid()\n",
              "          (mul_a_quantizer): Identity()\n",
              "          (mul_b_quantizer): Identity()\n",
              "        )\n",
              "        (proj): Sequential(\n",
              "          (conv): Conv2d(480, 112, kernel_size=(1, 1), stride=(1, 1), bias=False)\n",
              "          (bn): BatchNorm2d(112, eps=0.001, momentum=0.010000000000000009, affine=True, track_running_stats=True)\n",
              "        )\n",
              "        (residual_quantizer): Identity()\n",
              "      )\n",
              "      (block1): MBConvBlock(\n",
              "        (expand): Sequential(\n",
              "          (conv): Conv2d(112, 672, kernel_size=(1, 1), stride=(1, 1), bias=False)\n",
              "          (bn): BatchNorm2d(672, eps=0.001, momentum=0.010000000000000009, affine=True, track_running_stats=True)\n",
              "          (act): SiLU(inplace=True)\n",
              "        )\n",
              "        (depsep): Sequential(\n",
              "          (conv): Conv2d(672, 672, kernel_size=(5, 5), stride=(1, 1), padding=(2, 2), groups=672, bias=False)\n",
              "          (bn): BatchNorm2d(672, eps=0.001, momentum=0.010000000000000009, affine=True, track_running_stats=True)\n",
              "          (act): SiLU(inplace=True)\n",
              "        )\n",
              "        (se): SequentialSqueezeAndExcitation(\n",
              "          (squeeze): Linear(in_features=672, out_features=28, bias=True)\n",
              "          (expand): Linear(in_features=28, out_features=672, bias=True)\n",
              "          (activation): SiLU(inplace=True)\n",
              "          (sigmoid): Sigmoid()\n",
              "          (mul_a_quantizer): Identity()\n",
              "          (mul_b_quantizer): Identity()\n",
              "        )\n",
              "        (proj): Sequential(\n",
              "          (conv): Conv2d(672, 112, kernel_size=(1, 1), stride=(1, 1), bias=False)\n",
              "          (bn): BatchNorm2d(112, eps=0.001, momentum=0.010000000000000009, affine=True, track_running_stats=True)\n",
              "        )\n",
              "        (residual_quantizer): Identity()\n",
              "      )\n",
              "      (block2): MBConvBlock(\n",
              "        (expand): Sequential(\n",
              "          (conv): Conv2d(112, 672, kernel_size=(1, 1), stride=(1, 1), bias=False)\n",
              "          (bn): BatchNorm2d(672, eps=0.001, momentum=0.010000000000000009, affine=True, track_running_stats=True)\n",
              "          (act): SiLU(inplace=True)\n",
              "        )\n",
              "        (depsep): Sequential(\n",
              "          (conv): Conv2d(672, 672, kernel_size=(5, 5), stride=(1, 1), padding=(2, 2), groups=672, bias=False)\n",
              "          (bn): BatchNorm2d(672, eps=0.001, momentum=0.010000000000000009, affine=True, track_running_stats=True)\n",
              "          (act): SiLU(inplace=True)\n",
              "        )\n",
              "        (se): SequentialSqueezeAndExcitation(\n",
              "          (squeeze): Linear(in_features=672, out_features=28, bias=True)\n",
              "          (expand): Linear(in_features=28, out_features=672, bias=True)\n",
              "          (activation): SiLU(inplace=True)\n",
              "          (sigmoid): Sigmoid()\n",
              "          (mul_a_quantizer): Identity()\n",
              "          (mul_b_quantizer): Identity()\n",
              "        )\n",
              "        (proj): Sequential(\n",
              "          (conv): Conv2d(672, 112, kernel_size=(1, 1), stride=(1, 1), bias=False)\n",
              "          (bn): BatchNorm2d(112, eps=0.001, momentum=0.010000000000000009, affine=True, track_running_stats=True)\n",
              "        )\n",
              "        (residual_quantizer): Identity()\n",
              "      )\n",
              "    )\n",
              "    (5): Sequential(\n",
              "      (block0): MBConvBlock(\n",
              "        (expand): Sequential(\n",
              "          (conv): Conv2d(112, 672, kernel_size=(1, 1), stride=(1, 1), bias=False)\n",
              "          (bn): BatchNorm2d(672, eps=0.001, momentum=0.010000000000000009, affine=True, track_running_stats=True)\n",
              "          (act): SiLU(inplace=True)\n",
              "        )\n",
              "        (depsep): Sequential(\n",
              "          (conv): Conv2d(672, 672, kernel_size=(5, 5), stride=(2, 2), padding=(2, 2), groups=672, bias=False)\n",
              "          (bn): BatchNorm2d(672, eps=0.001, momentum=0.010000000000000009, affine=True, track_running_stats=True)\n",
              "          (act): SiLU(inplace=True)\n",
              "        )\n",
              "        (se): SequentialSqueezeAndExcitation(\n",
              "          (squeeze): Linear(in_features=672, out_features=28, bias=True)\n",
              "          (expand): Linear(in_features=28, out_features=672, bias=True)\n",
              "          (activation): SiLU(inplace=True)\n",
              "          (sigmoid): Sigmoid()\n",
              "          (mul_a_quantizer): Identity()\n",
              "          (mul_b_quantizer): Identity()\n",
              "        )\n",
              "        (proj): Sequential(\n",
              "          (conv): Conv2d(672, 192, kernel_size=(1, 1), stride=(1, 1), bias=False)\n",
              "          (bn): BatchNorm2d(192, eps=0.001, momentum=0.010000000000000009, affine=True, track_running_stats=True)\n",
              "        )\n",
              "        (residual_quantizer): Identity()\n",
              "      )\n",
              "      (block1): MBConvBlock(\n",
              "        (expand): Sequential(\n",
              "          (conv): Conv2d(192, 1152, kernel_size=(1, 1), stride=(1, 1), bias=False)\n",
              "          (bn): BatchNorm2d(1152, eps=0.001, momentum=0.010000000000000009, affine=True, track_running_stats=True)\n",
              "          (act): SiLU(inplace=True)\n",
              "        )\n",
              "        (depsep): Sequential(\n",
              "          (conv): Conv2d(1152, 1152, kernel_size=(5, 5), stride=(1, 1), padding=(2, 2), groups=1152, bias=False)\n",
              "          (bn): BatchNorm2d(1152, eps=0.001, momentum=0.010000000000000009, affine=True, track_running_stats=True)\n",
              "          (act): SiLU(inplace=True)\n",
              "        )\n",
              "        (se): SequentialSqueezeAndExcitation(\n",
              "          (squeeze): Linear(in_features=1152, out_features=48, bias=True)\n",
              "          (expand): Linear(in_features=48, out_features=1152, bias=True)\n",
              "          (activation): SiLU(inplace=True)\n",
              "          (sigmoid): Sigmoid()\n",
              "          (mul_a_quantizer): Identity()\n",
              "          (mul_b_quantizer): Identity()\n",
              "        )\n",
              "        (proj): Sequential(\n",
              "          (conv): Conv2d(1152, 192, kernel_size=(1, 1), stride=(1, 1), bias=False)\n",
              "          (bn): BatchNorm2d(192, eps=0.001, momentum=0.010000000000000009, affine=True, track_running_stats=True)\n",
              "        )\n",
              "        (residual_quantizer): Identity()\n",
              "      )\n",
              "      (block2): MBConvBlock(\n",
              "        (expand): Sequential(\n",
              "          (conv): Conv2d(192, 1152, kernel_size=(1, 1), stride=(1, 1), bias=False)\n",
              "          (bn): BatchNorm2d(1152, eps=0.001, momentum=0.010000000000000009, affine=True, track_running_stats=True)\n",
              "          (act): SiLU(inplace=True)\n",
              "        )\n",
              "        (depsep): Sequential(\n",
              "          (conv): Conv2d(1152, 1152, kernel_size=(5, 5), stride=(1, 1), padding=(2, 2), groups=1152, bias=False)\n",
              "          (bn): BatchNorm2d(1152, eps=0.001, momentum=0.010000000000000009, affine=True, track_running_stats=True)\n",
              "          (act): SiLU(inplace=True)\n",
              "        )\n",
              "        (se): SequentialSqueezeAndExcitation(\n",
              "          (squeeze): Linear(in_features=1152, out_features=48, bias=True)\n",
              "          (expand): Linear(in_features=48, out_features=1152, bias=True)\n",
              "          (activation): SiLU(inplace=True)\n",
              "          (sigmoid): Sigmoid()\n",
              "          (mul_a_quantizer): Identity()\n",
              "          (mul_b_quantizer): Identity()\n",
              "        )\n",
              "        (proj): Sequential(\n",
              "          (conv): Conv2d(1152, 192, kernel_size=(1, 1), stride=(1, 1), bias=False)\n",
              "          (bn): BatchNorm2d(192, eps=0.001, momentum=0.010000000000000009, affine=True, track_running_stats=True)\n",
              "        )\n",
              "        (residual_quantizer): Identity()\n",
              "      )\n",
              "      (block3): MBConvBlock(\n",
              "        (expand): Sequential(\n",
              "          (conv): Conv2d(192, 1152, kernel_size=(1, 1), stride=(1, 1), bias=False)\n",
              "          (bn): BatchNorm2d(1152, eps=0.001, momentum=0.010000000000000009, affine=True, track_running_stats=True)\n",
              "          (act): SiLU(inplace=True)\n",
              "        )\n",
              "        (depsep): Sequential(\n",
              "          (conv): Conv2d(1152, 1152, kernel_size=(5, 5), stride=(1, 1), padding=(2, 2), groups=1152, bias=False)\n",
              "          (bn): BatchNorm2d(1152, eps=0.001, momentum=0.010000000000000009, affine=True, track_running_stats=True)\n",
              "          (act): SiLU(inplace=True)\n",
              "        )\n",
              "        (se): SequentialSqueezeAndExcitation(\n",
              "          (squeeze): Linear(in_features=1152, out_features=48, bias=True)\n",
              "          (expand): Linear(in_features=48, out_features=1152, bias=True)\n",
              "          (activation): SiLU(inplace=True)\n",
              "          (sigmoid): Sigmoid()\n",
              "          (mul_a_quantizer): Identity()\n",
              "          (mul_b_quantizer): Identity()\n",
              "        )\n",
              "        (proj): Sequential(\n",
              "          (conv): Conv2d(1152, 192, kernel_size=(1, 1), stride=(1, 1), bias=False)\n",
              "          (bn): BatchNorm2d(192, eps=0.001, momentum=0.010000000000000009, affine=True, track_running_stats=True)\n",
              "        )\n",
              "        (residual_quantizer): Identity()\n",
              "      )\n",
              "    )\n",
              "    (6): Sequential(\n",
              "      (block0): MBConvBlock(\n",
              "        (expand): Sequential(\n",
              "          (conv): Conv2d(192, 1152, kernel_size=(1, 1), stride=(1, 1), bias=False)\n",
              "          (bn): BatchNorm2d(1152, eps=0.001, momentum=0.010000000000000009, affine=True, track_running_stats=True)\n",
              "          (act): SiLU(inplace=True)\n",
              "        )\n",
              "        (depsep): Sequential(\n",
              "          (conv): Conv2d(1152, 1152, kernel_size=(3, 3), stride=(1, 1), padding=(1, 1), groups=1152, bias=False)\n",
              "          (bn): BatchNorm2d(1152, eps=0.001, momentum=0.010000000000000009, affine=True, track_running_stats=True)\n",
              "          (act): SiLU(inplace=True)\n",
              "        )\n",
              "        (se): SequentialSqueezeAndExcitation(\n",
              "          (squeeze): Linear(in_features=1152, out_features=48, bias=True)\n",
              "          (expand): Linear(in_features=48, out_features=1152, bias=True)\n",
              "          (activation): SiLU(inplace=True)\n",
              "          (sigmoid): Sigmoid()\n",
              "          (mul_a_quantizer): Identity()\n",
              "          (mul_b_quantizer): Identity()\n",
              "        )\n",
              "        (proj): Sequential(\n",
              "          (conv): Conv2d(1152, 320, kernel_size=(1, 1), stride=(1, 1), bias=False)\n",
              "          (bn): BatchNorm2d(320, eps=0.001, momentum=0.010000000000000009, affine=True, track_running_stats=True)\n",
              "        )\n",
              "        (residual_quantizer): Identity()\n",
              "      )\n",
              "    )\n",
              "  )\n",
              "  (features): Sequential(\n",
              "    (conv): Conv2d(320, 1280, kernel_size=(1, 1), stride=(1, 1), bias=False)\n",
              "    (bn): BatchNorm2d(1280, eps=0.001, momentum=0.010000000000000009, affine=True, track_running_stats=True)\n",
              "    (activation): SiLU(inplace=True)\n",
              "  )\n",
              "  (classifier): Sequential(\n",
              "    (pooling): AdaptiveAvgPool2d(output_size=1)\n",
              "    (squeeze): Flatten()\n",
              "    (dropout): Dropout(p=0.2, inplace=False)\n",
              "    (fc): Linear(in_features=1280, out_features=1000, bias=True)\n",
              "  )\n",
              ")"
            ]
          },
          "metadata": {},
          "execution_count": 14
        }
      ],
      "source": [
        "model"
      ]
    },
    {
      "cell_type": "code",
      "execution_count": null,
      "metadata": {
        "id": "CYWw3HPDi-gJ"
      },
      "outputs": [],
      "source": [
        "in_features = model.classifier.fc.in_features\n",
        "\n",
        "model.classifier = torch.nn.Sequential(\n",
        "    torch.nn.AdaptiveAvgPool2d(output_size=1),\n",
        "    torch.nn.Flatten(),\n",
        "    torch.nn.Dropout(0.2, inplace=False),\n",
        "    torch.nn.Linear(in_features=in_features, out_features=512),\n",
        "    torch.nn.ReLU(),\n",
        "    torch.nn.Dropout(0.3),\n",
        "    torch.nn.Linear(512, 512),\n",
        "    torch.nn.ReLU(),\n",
        "    torch.nn.Dropout(0.3),\n",
        "    torch.nn.Linear(512, training_dataset.num_classes()),\n",
        ")"
      ]
    },
    {
      "cell_type": "code",
      "execution_count": null,
      "metadata": {
        "id": "Poigfj1ti-gJ",
        "outputId": "2f5d6abe-9d45-4d65-a0c1-9ff8ad3fe949",
        "colab": {
          "base_uri": "https://localhost:8080/"
        }
      },
      "outputs": [
        {
          "output_type": "execute_result",
          "data": {
            "text/plain": [
              "EfficientNet(\n",
              "  (stem): Sequential(\n",
              "    (conv): Conv2d(3, 32, kernel_size=(3, 3), stride=(2, 2), padding=(1, 1), bias=False)\n",
              "    (bn): BatchNorm2d(32, eps=0.001, momentum=0.010000000000000009, affine=True, track_running_stats=True)\n",
              "    (activation): SiLU(inplace=True)\n",
              "  )\n",
              "  (layers): Sequential(\n",
              "    (0): Sequential(\n",
              "      (block0): MBConvBlock(\n",
              "        (depsep): Sequential(\n",
              "          (conv): Conv2d(32, 32, kernel_size=(3, 3), stride=(1, 1), padding=(1, 1), groups=32, bias=False)\n",
              "          (bn): BatchNorm2d(32, eps=0.001, momentum=0.010000000000000009, affine=True, track_running_stats=True)\n",
              "          (act): SiLU(inplace=True)\n",
              "        )\n",
              "        (se): SequentialSqueezeAndExcitation(\n",
              "          (squeeze): Linear(in_features=32, out_features=8, bias=True)\n",
              "          (expand): Linear(in_features=8, out_features=32, bias=True)\n",
              "          (activation): SiLU(inplace=True)\n",
              "          (sigmoid): Sigmoid()\n",
              "          (mul_a_quantizer): Identity()\n",
              "          (mul_b_quantizer): Identity()\n",
              "        )\n",
              "        (proj): Sequential(\n",
              "          (conv): Conv2d(32, 16, kernel_size=(1, 1), stride=(1, 1), bias=False)\n",
              "          (bn): BatchNorm2d(16, eps=0.001, momentum=0.010000000000000009, affine=True, track_running_stats=True)\n",
              "        )\n",
              "        (residual_quantizer): Identity()\n",
              "      )\n",
              "    )\n",
              "    (1): Sequential(\n",
              "      (block0): MBConvBlock(\n",
              "        (expand): Sequential(\n",
              "          (conv): Conv2d(16, 96, kernel_size=(1, 1), stride=(1, 1), bias=False)\n",
              "          (bn): BatchNorm2d(96, eps=0.001, momentum=0.010000000000000009, affine=True, track_running_stats=True)\n",
              "          (act): SiLU(inplace=True)\n",
              "        )\n",
              "        (depsep): Sequential(\n",
              "          (conv): Conv2d(96, 96, kernel_size=(3, 3), stride=(2, 2), padding=(1, 1), groups=96, bias=False)\n",
              "          (bn): BatchNorm2d(96, eps=0.001, momentum=0.010000000000000009, affine=True, track_running_stats=True)\n",
              "          (act): SiLU(inplace=True)\n",
              "        )\n",
              "        (se): SequentialSqueezeAndExcitation(\n",
              "          (squeeze): Linear(in_features=96, out_features=4, bias=True)\n",
              "          (expand): Linear(in_features=4, out_features=96, bias=True)\n",
              "          (activation): SiLU(inplace=True)\n",
              "          (sigmoid): Sigmoid()\n",
              "          (mul_a_quantizer): Identity()\n",
              "          (mul_b_quantizer): Identity()\n",
              "        )\n",
              "        (proj): Sequential(\n",
              "          (conv): Conv2d(96, 24, kernel_size=(1, 1), stride=(1, 1), bias=False)\n",
              "          (bn): BatchNorm2d(24, eps=0.001, momentum=0.010000000000000009, affine=True, track_running_stats=True)\n",
              "        )\n",
              "        (residual_quantizer): Identity()\n",
              "      )\n",
              "      (block1): MBConvBlock(\n",
              "        (expand): Sequential(\n",
              "          (conv): Conv2d(24, 144, kernel_size=(1, 1), stride=(1, 1), bias=False)\n",
              "          (bn): BatchNorm2d(144, eps=0.001, momentum=0.010000000000000009, affine=True, track_running_stats=True)\n",
              "          (act): SiLU(inplace=True)\n",
              "        )\n",
              "        (depsep): Sequential(\n",
              "          (conv): Conv2d(144, 144, kernel_size=(3, 3), stride=(1, 1), padding=(1, 1), groups=144, bias=False)\n",
              "          (bn): BatchNorm2d(144, eps=0.001, momentum=0.010000000000000009, affine=True, track_running_stats=True)\n",
              "          (act): SiLU(inplace=True)\n",
              "        )\n",
              "        (se): SequentialSqueezeAndExcitation(\n",
              "          (squeeze): Linear(in_features=144, out_features=6, bias=True)\n",
              "          (expand): Linear(in_features=6, out_features=144, bias=True)\n",
              "          (activation): SiLU(inplace=True)\n",
              "          (sigmoid): Sigmoid()\n",
              "          (mul_a_quantizer): Identity()\n",
              "          (mul_b_quantizer): Identity()\n",
              "        )\n",
              "        (proj): Sequential(\n",
              "          (conv): Conv2d(144, 24, kernel_size=(1, 1), stride=(1, 1), bias=False)\n",
              "          (bn): BatchNorm2d(24, eps=0.001, momentum=0.010000000000000009, affine=True, track_running_stats=True)\n",
              "        )\n",
              "        (residual_quantizer): Identity()\n",
              "      )\n",
              "    )\n",
              "    (2): Sequential(\n",
              "      (block0): MBConvBlock(\n",
              "        (expand): Sequential(\n",
              "          (conv): Conv2d(24, 144, kernel_size=(1, 1), stride=(1, 1), bias=False)\n",
              "          (bn): BatchNorm2d(144, eps=0.001, momentum=0.010000000000000009, affine=True, track_running_stats=True)\n",
              "          (act): SiLU(inplace=True)\n",
              "        )\n",
              "        (depsep): Sequential(\n",
              "          (conv): Conv2d(144, 144, kernel_size=(5, 5), stride=(2, 2), padding=(2, 2), groups=144, bias=False)\n",
              "          (bn): BatchNorm2d(144, eps=0.001, momentum=0.010000000000000009, affine=True, track_running_stats=True)\n",
              "          (act): SiLU(inplace=True)\n",
              "        )\n",
              "        (se): SequentialSqueezeAndExcitation(\n",
              "          (squeeze): Linear(in_features=144, out_features=6, bias=True)\n",
              "          (expand): Linear(in_features=6, out_features=144, bias=True)\n",
              "          (activation): SiLU(inplace=True)\n",
              "          (sigmoid): Sigmoid()\n",
              "          (mul_a_quantizer): Identity()\n",
              "          (mul_b_quantizer): Identity()\n",
              "        )\n",
              "        (proj): Sequential(\n",
              "          (conv): Conv2d(144, 40, kernel_size=(1, 1), stride=(1, 1), bias=False)\n",
              "          (bn): BatchNorm2d(40, eps=0.001, momentum=0.010000000000000009, affine=True, track_running_stats=True)\n",
              "        )\n",
              "        (residual_quantizer): Identity()\n",
              "      )\n",
              "      (block1): MBConvBlock(\n",
              "        (expand): Sequential(\n",
              "          (conv): Conv2d(40, 240, kernel_size=(1, 1), stride=(1, 1), bias=False)\n",
              "          (bn): BatchNorm2d(240, eps=0.001, momentum=0.010000000000000009, affine=True, track_running_stats=True)\n",
              "          (act): SiLU(inplace=True)\n",
              "        )\n",
              "        (depsep): Sequential(\n",
              "          (conv): Conv2d(240, 240, kernel_size=(5, 5), stride=(1, 1), padding=(2, 2), groups=240, bias=False)\n",
              "          (bn): BatchNorm2d(240, eps=0.001, momentum=0.010000000000000009, affine=True, track_running_stats=True)\n",
              "          (act): SiLU(inplace=True)\n",
              "        )\n",
              "        (se): SequentialSqueezeAndExcitation(\n",
              "          (squeeze): Linear(in_features=240, out_features=10, bias=True)\n",
              "          (expand): Linear(in_features=10, out_features=240, bias=True)\n",
              "          (activation): SiLU(inplace=True)\n",
              "          (sigmoid): Sigmoid()\n",
              "          (mul_a_quantizer): Identity()\n",
              "          (mul_b_quantizer): Identity()\n",
              "        )\n",
              "        (proj): Sequential(\n",
              "          (conv): Conv2d(240, 40, kernel_size=(1, 1), stride=(1, 1), bias=False)\n",
              "          (bn): BatchNorm2d(40, eps=0.001, momentum=0.010000000000000009, affine=True, track_running_stats=True)\n",
              "        )\n",
              "        (residual_quantizer): Identity()\n",
              "      )\n",
              "    )\n",
              "    (3): Sequential(\n",
              "      (block0): MBConvBlock(\n",
              "        (expand): Sequential(\n",
              "          (conv): Conv2d(40, 240, kernel_size=(1, 1), stride=(1, 1), bias=False)\n",
              "          (bn): BatchNorm2d(240, eps=0.001, momentum=0.010000000000000009, affine=True, track_running_stats=True)\n",
              "          (act): SiLU(inplace=True)\n",
              "        )\n",
              "        (depsep): Sequential(\n",
              "          (conv): Conv2d(240, 240, kernel_size=(3, 3), stride=(2, 2), padding=(1, 1), groups=240, bias=False)\n",
              "          (bn): BatchNorm2d(240, eps=0.001, momentum=0.010000000000000009, affine=True, track_running_stats=True)\n",
              "          (act): SiLU(inplace=True)\n",
              "        )\n",
              "        (se): SequentialSqueezeAndExcitation(\n",
              "          (squeeze): Linear(in_features=240, out_features=10, bias=True)\n",
              "          (expand): Linear(in_features=10, out_features=240, bias=True)\n",
              "          (activation): SiLU(inplace=True)\n",
              "          (sigmoid): Sigmoid()\n",
              "          (mul_a_quantizer): Identity()\n",
              "          (mul_b_quantizer): Identity()\n",
              "        )\n",
              "        (proj): Sequential(\n",
              "          (conv): Conv2d(240, 80, kernel_size=(1, 1), stride=(1, 1), bias=False)\n",
              "          (bn): BatchNorm2d(80, eps=0.001, momentum=0.010000000000000009, affine=True, track_running_stats=True)\n",
              "        )\n",
              "        (residual_quantizer): Identity()\n",
              "      )\n",
              "      (block1): MBConvBlock(\n",
              "        (expand): Sequential(\n",
              "          (conv): Conv2d(80, 480, kernel_size=(1, 1), stride=(1, 1), bias=False)\n",
              "          (bn): BatchNorm2d(480, eps=0.001, momentum=0.010000000000000009, affine=True, track_running_stats=True)\n",
              "          (act): SiLU(inplace=True)\n",
              "        )\n",
              "        (depsep): Sequential(\n",
              "          (conv): Conv2d(480, 480, kernel_size=(3, 3), stride=(1, 1), padding=(1, 1), groups=480, bias=False)\n",
              "          (bn): BatchNorm2d(480, eps=0.001, momentum=0.010000000000000009, affine=True, track_running_stats=True)\n",
              "          (act): SiLU(inplace=True)\n",
              "        )\n",
              "        (se): SequentialSqueezeAndExcitation(\n",
              "          (squeeze): Linear(in_features=480, out_features=20, bias=True)\n",
              "          (expand): Linear(in_features=20, out_features=480, bias=True)\n",
              "          (activation): SiLU(inplace=True)\n",
              "          (sigmoid): Sigmoid()\n",
              "          (mul_a_quantizer): Identity()\n",
              "          (mul_b_quantizer): Identity()\n",
              "        )\n",
              "        (proj): Sequential(\n",
              "          (conv): Conv2d(480, 80, kernel_size=(1, 1), stride=(1, 1), bias=False)\n",
              "          (bn): BatchNorm2d(80, eps=0.001, momentum=0.010000000000000009, affine=True, track_running_stats=True)\n",
              "        )\n",
              "        (residual_quantizer): Identity()\n",
              "      )\n",
              "      (block2): MBConvBlock(\n",
              "        (expand): Sequential(\n",
              "          (conv): Conv2d(80, 480, kernel_size=(1, 1), stride=(1, 1), bias=False)\n",
              "          (bn): BatchNorm2d(480, eps=0.001, momentum=0.010000000000000009, affine=True, track_running_stats=True)\n",
              "          (act): SiLU(inplace=True)\n",
              "        )\n",
              "        (depsep): Sequential(\n",
              "          (conv): Conv2d(480, 480, kernel_size=(3, 3), stride=(1, 1), padding=(1, 1), groups=480, bias=False)\n",
              "          (bn): BatchNorm2d(480, eps=0.001, momentum=0.010000000000000009, affine=True, track_running_stats=True)\n",
              "          (act): SiLU(inplace=True)\n",
              "        )\n",
              "        (se): SequentialSqueezeAndExcitation(\n",
              "          (squeeze): Linear(in_features=480, out_features=20, bias=True)\n",
              "          (expand): Linear(in_features=20, out_features=480, bias=True)\n",
              "          (activation): SiLU(inplace=True)\n",
              "          (sigmoid): Sigmoid()\n",
              "          (mul_a_quantizer): Identity()\n",
              "          (mul_b_quantizer): Identity()\n",
              "        )\n",
              "        (proj): Sequential(\n",
              "          (conv): Conv2d(480, 80, kernel_size=(1, 1), stride=(1, 1), bias=False)\n",
              "          (bn): BatchNorm2d(80, eps=0.001, momentum=0.010000000000000009, affine=True, track_running_stats=True)\n",
              "        )\n",
              "        (residual_quantizer): Identity()\n",
              "      )\n",
              "    )\n",
              "    (4): Sequential(\n",
              "      (block0): MBConvBlock(\n",
              "        (expand): Sequential(\n",
              "          (conv): Conv2d(80, 480, kernel_size=(1, 1), stride=(1, 1), bias=False)\n",
              "          (bn): BatchNorm2d(480, eps=0.001, momentum=0.010000000000000009, affine=True, track_running_stats=True)\n",
              "          (act): SiLU(inplace=True)\n",
              "        )\n",
              "        (depsep): Sequential(\n",
              "          (conv): Conv2d(480, 480, kernel_size=(5, 5), stride=(1, 1), padding=(2, 2), groups=480, bias=False)\n",
              "          (bn): BatchNorm2d(480, eps=0.001, momentum=0.010000000000000009, affine=True, track_running_stats=True)\n",
              "          (act): SiLU(inplace=True)\n",
              "        )\n",
              "        (se): SequentialSqueezeAndExcitation(\n",
              "          (squeeze): Linear(in_features=480, out_features=20, bias=True)\n",
              "          (expand): Linear(in_features=20, out_features=480, bias=True)\n",
              "          (activation): SiLU(inplace=True)\n",
              "          (sigmoid): Sigmoid()\n",
              "          (mul_a_quantizer): Identity()\n",
              "          (mul_b_quantizer): Identity()\n",
              "        )\n",
              "        (proj): Sequential(\n",
              "          (conv): Conv2d(480, 112, kernel_size=(1, 1), stride=(1, 1), bias=False)\n",
              "          (bn): BatchNorm2d(112, eps=0.001, momentum=0.010000000000000009, affine=True, track_running_stats=True)\n",
              "        )\n",
              "        (residual_quantizer): Identity()\n",
              "      )\n",
              "      (block1): MBConvBlock(\n",
              "        (expand): Sequential(\n",
              "          (conv): Conv2d(112, 672, kernel_size=(1, 1), stride=(1, 1), bias=False)\n",
              "          (bn): BatchNorm2d(672, eps=0.001, momentum=0.010000000000000009, affine=True, track_running_stats=True)\n",
              "          (act): SiLU(inplace=True)\n",
              "        )\n",
              "        (depsep): Sequential(\n",
              "          (conv): Conv2d(672, 672, kernel_size=(5, 5), stride=(1, 1), padding=(2, 2), groups=672, bias=False)\n",
              "          (bn): BatchNorm2d(672, eps=0.001, momentum=0.010000000000000009, affine=True, track_running_stats=True)\n",
              "          (act): SiLU(inplace=True)\n",
              "        )\n",
              "        (se): SequentialSqueezeAndExcitation(\n",
              "          (squeeze): Linear(in_features=672, out_features=28, bias=True)\n",
              "          (expand): Linear(in_features=28, out_features=672, bias=True)\n",
              "          (activation): SiLU(inplace=True)\n",
              "          (sigmoid): Sigmoid()\n",
              "          (mul_a_quantizer): Identity()\n",
              "          (mul_b_quantizer): Identity()\n",
              "        )\n",
              "        (proj): Sequential(\n",
              "          (conv): Conv2d(672, 112, kernel_size=(1, 1), stride=(1, 1), bias=False)\n",
              "          (bn): BatchNorm2d(112, eps=0.001, momentum=0.010000000000000009, affine=True, track_running_stats=True)\n",
              "        )\n",
              "        (residual_quantizer): Identity()\n",
              "      )\n",
              "      (block2): MBConvBlock(\n",
              "        (expand): Sequential(\n",
              "          (conv): Conv2d(112, 672, kernel_size=(1, 1), stride=(1, 1), bias=False)\n",
              "          (bn): BatchNorm2d(672, eps=0.001, momentum=0.010000000000000009, affine=True, track_running_stats=True)\n",
              "          (act): SiLU(inplace=True)\n",
              "        )\n",
              "        (depsep): Sequential(\n",
              "          (conv): Conv2d(672, 672, kernel_size=(5, 5), stride=(1, 1), padding=(2, 2), groups=672, bias=False)\n",
              "          (bn): BatchNorm2d(672, eps=0.001, momentum=0.010000000000000009, affine=True, track_running_stats=True)\n",
              "          (act): SiLU(inplace=True)\n",
              "        )\n",
              "        (se): SequentialSqueezeAndExcitation(\n",
              "          (squeeze): Linear(in_features=672, out_features=28, bias=True)\n",
              "          (expand): Linear(in_features=28, out_features=672, bias=True)\n",
              "          (activation): SiLU(inplace=True)\n",
              "          (sigmoid): Sigmoid()\n",
              "          (mul_a_quantizer): Identity()\n",
              "          (mul_b_quantizer): Identity()\n",
              "        )\n",
              "        (proj): Sequential(\n",
              "          (conv): Conv2d(672, 112, kernel_size=(1, 1), stride=(1, 1), bias=False)\n",
              "          (bn): BatchNorm2d(112, eps=0.001, momentum=0.010000000000000009, affine=True, track_running_stats=True)\n",
              "        )\n",
              "        (residual_quantizer): Identity()\n",
              "      )\n",
              "    )\n",
              "    (5): Sequential(\n",
              "      (block0): MBConvBlock(\n",
              "        (expand): Sequential(\n",
              "          (conv): Conv2d(112, 672, kernel_size=(1, 1), stride=(1, 1), bias=False)\n",
              "          (bn): BatchNorm2d(672, eps=0.001, momentum=0.010000000000000009, affine=True, track_running_stats=True)\n",
              "          (act): SiLU(inplace=True)\n",
              "        )\n",
              "        (depsep): Sequential(\n",
              "          (conv): Conv2d(672, 672, kernel_size=(5, 5), stride=(2, 2), padding=(2, 2), groups=672, bias=False)\n",
              "          (bn): BatchNorm2d(672, eps=0.001, momentum=0.010000000000000009, affine=True, track_running_stats=True)\n",
              "          (act): SiLU(inplace=True)\n",
              "        )\n",
              "        (se): SequentialSqueezeAndExcitation(\n",
              "          (squeeze): Linear(in_features=672, out_features=28, bias=True)\n",
              "          (expand): Linear(in_features=28, out_features=672, bias=True)\n",
              "          (activation): SiLU(inplace=True)\n",
              "          (sigmoid): Sigmoid()\n",
              "          (mul_a_quantizer): Identity()\n",
              "          (mul_b_quantizer): Identity()\n",
              "        )\n",
              "        (proj): Sequential(\n",
              "          (conv): Conv2d(672, 192, kernel_size=(1, 1), stride=(1, 1), bias=False)\n",
              "          (bn): BatchNorm2d(192, eps=0.001, momentum=0.010000000000000009, affine=True, track_running_stats=True)\n",
              "        )\n",
              "        (residual_quantizer): Identity()\n",
              "      )\n",
              "      (block1): MBConvBlock(\n",
              "        (expand): Sequential(\n",
              "          (conv): Conv2d(192, 1152, kernel_size=(1, 1), stride=(1, 1), bias=False)\n",
              "          (bn): BatchNorm2d(1152, eps=0.001, momentum=0.010000000000000009, affine=True, track_running_stats=True)\n",
              "          (act): SiLU(inplace=True)\n",
              "        )\n",
              "        (depsep): Sequential(\n",
              "          (conv): Conv2d(1152, 1152, kernel_size=(5, 5), stride=(1, 1), padding=(2, 2), groups=1152, bias=False)\n",
              "          (bn): BatchNorm2d(1152, eps=0.001, momentum=0.010000000000000009, affine=True, track_running_stats=True)\n",
              "          (act): SiLU(inplace=True)\n",
              "        )\n",
              "        (se): SequentialSqueezeAndExcitation(\n",
              "          (squeeze): Linear(in_features=1152, out_features=48, bias=True)\n",
              "          (expand): Linear(in_features=48, out_features=1152, bias=True)\n",
              "          (activation): SiLU(inplace=True)\n",
              "          (sigmoid): Sigmoid()\n",
              "          (mul_a_quantizer): Identity()\n",
              "          (mul_b_quantizer): Identity()\n",
              "        )\n",
              "        (proj): Sequential(\n",
              "          (conv): Conv2d(1152, 192, kernel_size=(1, 1), stride=(1, 1), bias=False)\n",
              "          (bn): BatchNorm2d(192, eps=0.001, momentum=0.010000000000000009, affine=True, track_running_stats=True)\n",
              "        )\n",
              "        (residual_quantizer): Identity()\n",
              "      )\n",
              "      (block2): MBConvBlock(\n",
              "        (expand): Sequential(\n",
              "          (conv): Conv2d(192, 1152, kernel_size=(1, 1), stride=(1, 1), bias=False)\n",
              "          (bn): BatchNorm2d(1152, eps=0.001, momentum=0.010000000000000009, affine=True, track_running_stats=True)\n",
              "          (act): SiLU(inplace=True)\n",
              "        )\n",
              "        (depsep): Sequential(\n",
              "          (conv): Conv2d(1152, 1152, kernel_size=(5, 5), stride=(1, 1), padding=(2, 2), groups=1152, bias=False)\n",
              "          (bn): BatchNorm2d(1152, eps=0.001, momentum=0.010000000000000009, affine=True, track_running_stats=True)\n",
              "          (act): SiLU(inplace=True)\n",
              "        )\n",
              "        (se): SequentialSqueezeAndExcitation(\n",
              "          (squeeze): Linear(in_features=1152, out_features=48, bias=True)\n",
              "          (expand): Linear(in_features=48, out_features=1152, bias=True)\n",
              "          (activation): SiLU(inplace=True)\n",
              "          (sigmoid): Sigmoid()\n",
              "          (mul_a_quantizer): Identity()\n",
              "          (mul_b_quantizer): Identity()\n",
              "        )\n",
              "        (proj): Sequential(\n",
              "          (conv): Conv2d(1152, 192, kernel_size=(1, 1), stride=(1, 1), bias=False)\n",
              "          (bn): BatchNorm2d(192, eps=0.001, momentum=0.010000000000000009, affine=True, track_running_stats=True)\n",
              "        )\n",
              "        (residual_quantizer): Identity()\n",
              "      )\n",
              "      (block3): MBConvBlock(\n",
              "        (expand): Sequential(\n",
              "          (conv): Conv2d(192, 1152, kernel_size=(1, 1), stride=(1, 1), bias=False)\n",
              "          (bn): BatchNorm2d(1152, eps=0.001, momentum=0.010000000000000009, affine=True, track_running_stats=True)\n",
              "          (act): SiLU(inplace=True)\n",
              "        )\n",
              "        (depsep): Sequential(\n",
              "          (conv): Conv2d(1152, 1152, kernel_size=(5, 5), stride=(1, 1), padding=(2, 2), groups=1152, bias=False)\n",
              "          (bn): BatchNorm2d(1152, eps=0.001, momentum=0.010000000000000009, affine=True, track_running_stats=True)\n",
              "          (act): SiLU(inplace=True)\n",
              "        )\n",
              "        (se): SequentialSqueezeAndExcitation(\n",
              "          (squeeze): Linear(in_features=1152, out_features=48, bias=True)\n",
              "          (expand): Linear(in_features=48, out_features=1152, bias=True)\n",
              "          (activation): SiLU(inplace=True)\n",
              "          (sigmoid): Sigmoid()\n",
              "          (mul_a_quantizer): Identity()\n",
              "          (mul_b_quantizer): Identity()\n",
              "        )\n",
              "        (proj): Sequential(\n",
              "          (conv): Conv2d(1152, 192, kernel_size=(1, 1), stride=(1, 1), bias=False)\n",
              "          (bn): BatchNorm2d(192, eps=0.001, momentum=0.010000000000000009, affine=True, track_running_stats=True)\n",
              "        )\n",
              "        (residual_quantizer): Identity()\n",
              "      )\n",
              "    )\n",
              "    (6): Sequential(\n",
              "      (block0): MBConvBlock(\n",
              "        (expand): Sequential(\n",
              "          (conv): Conv2d(192, 1152, kernel_size=(1, 1), stride=(1, 1), bias=False)\n",
              "          (bn): BatchNorm2d(1152, eps=0.001, momentum=0.010000000000000009, affine=True, track_running_stats=True)\n",
              "          (act): SiLU(inplace=True)\n",
              "        )\n",
              "        (depsep): Sequential(\n",
              "          (conv): Conv2d(1152, 1152, kernel_size=(3, 3), stride=(1, 1), padding=(1, 1), groups=1152, bias=False)\n",
              "          (bn): BatchNorm2d(1152, eps=0.001, momentum=0.010000000000000009, affine=True, track_running_stats=True)\n",
              "          (act): SiLU(inplace=True)\n",
              "        )\n",
              "        (se): SequentialSqueezeAndExcitation(\n",
              "          (squeeze): Linear(in_features=1152, out_features=48, bias=True)\n",
              "          (expand): Linear(in_features=48, out_features=1152, bias=True)\n",
              "          (activation): SiLU(inplace=True)\n",
              "          (sigmoid): Sigmoid()\n",
              "          (mul_a_quantizer): Identity()\n",
              "          (mul_b_quantizer): Identity()\n",
              "        )\n",
              "        (proj): Sequential(\n",
              "          (conv): Conv2d(1152, 320, kernel_size=(1, 1), stride=(1, 1), bias=False)\n",
              "          (bn): BatchNorm2d(320, eps=0.001, momentum=0.010000000000000009, affine=True, track_running_stats=True)\n",
              "        )\n",
              "        (residual_quantizer): Identity()\n",
              "      )\n",
              "    )\n",
              "  )\n",
              "  (features): Sequential(\n",
              "    (conv): Conv2d(320, 1280, kernel_size=(1, 1), stride=(1, 1), bias=False)\n",
              "    (bn): BatchNorm2d(1280, eps=0.001, momentum=0.010000000000000009, affine=True, track_running_stats=True)\n",
              "    (activation): SiLU(inplace=True)\n",
              "  )\n",
              "  (classifier): Sequential(\n",
              "    (0): AdaptiveAvgPool2d(output_size=1)\n",
              "    (1): Flatten(start_dim=1, end_dim=-1)\n",
              "    (2): Dropout(p=0.2, inplace=False)\n",
              "    (3): Linear(in_features=1280, out_features=512, bias=True)\n",
              "    (4): ReLU()\n",
              "    (5): Dropout(p=0.3, inplace=False)\n",
              "    (6): Linear(in_features=512, out_features=512, bias=True)\n",
              "    (7): ReLU()\n",
              "    (8): Dropout(p=0.3, inplace=False)\n",
              "    (9): Linear(in_features=512, out_features=8, bias=True)\n",
              "  )\n",
              ")"
            ]
          },
          "metadata": {},
          "execution_count": 16
        }
      ],
      "source": [
        "model"
      ]
    },
    {
      "cell_type": "code",
      "execution_count": null,
      "metadata": {
        "id": "Rmijagyri-gJ"
      },
      "outputs": [],
      "source": [
        "for name, param in model.named_parameters():\n",
        "    if 'classifier' in name:\n",
        "        param.requires_grad = True\n",
        "    else:\n",
        "        param.requires_grad = False"
      ]
    },
    {
      "cell_type": "code",
      "source": [
        "# model = torch.compile(model)"
      ],
      "metadata": {
        "id": "T_2xFpJj-Z-B"
      },
      "execution_count": null,
      "outputs": []
    },
    {
      "cell_type": "code",
      "execution_count": null,
      "metadata": {
        "id": "EqT-1mnai-gJ"
      },
      "outputs": [],
      "source": [
        "num_epochs = 40\n",
        "lr = 0.001\n",
        "\n",
        "model.to(device)\n",
        "\n",
        "criterion = torch.nn.CrossEntropyLoss()\n",
        "optimizer = torch.optim.Adam(model.classifier.parameters(), lr=lr, weight_decay=1e-4)\n",
        "\n",
        "# scheduler = torch.optim.lr_scheduler.CosineAnnealingLR(optimizer, T_max=3, eta_min=0.001)"
      ]
    },
    {
      "cell_type": "code",
      "execution_count": null,
      "metadata": {
        "id": "dfjBO4gsi-gJ",
        "outputId": "bda8a494-08f8-4157-b401-e2fb89fabd95",
        "colab": {
          "base_uri": "https://localhost:8080/",
          "height": 121
        }
      },
      "outputs": [
        {
          "output_type": "stream",
          "name": "stderr",
          "text": [
            "\u001b[34m\u001b[1mwandb\u001b[0m: Currently logged in as: \u001b[33mprince_\u001b[0m. Use \u001b[1m`wandb login --relogin`\u001b[0m to force relogin\n"
          ]
        },
        {
          "output_type": "display_data",
          "data": {
            "text/plain": [
              "<IPython.core.display.HTML object>"
            ],
            "text/html": [
              "Tracking run with wandb version 0.17.1"
            ]
          },
          "metadata": {}
        },
        {
          "output_type": "display_data",
          "data": {
            "text/plain": [
              "<IPython.core.display.HTML object>"
            ],
            "text/html": [
              "Run data is saved locally in <code>/content/wandb/run-20240615_061311-6oy6trcd</code>"
            ]
          },
          "metadata": {}
        },
        {
          "output_type": "display_data",
          "data": {
            "text/plain": [
              "<IPython.core.display.HTML object>"
            ],
            "text/html": [
              "Syncing run <strong><a href='https://wandb.ai/prince_/milan-project/runs/6oy6trcd' target=\"_blank\">distinctive-gorge-37</a></strong> to <a href='https://wandb.ai/prince_/milan-project' target=\"_blank\">Weights & Biases</a> (<a href='https://wandb.me/run' target=\"_blank\">docs</a>)<br/>"
            ]
          },
          "metadata": {}
        },
        {
          "output_type": "display_data",
          "data": {
            "text/plain": [
              "<IPython.core.display.HTML object>"
            ],
            "text/html": [
              " View project at <a href='https://wandb.ai/prince_/milan-project' target=\"_blank\">https://wandb.ai/prince_/milan-project</a>"
            ]
          },
          "metadata": {}
        },
        {
          "output_type": "display_data",
          "data": {
            "text/plain": [
              "<IPython.core.display.HTML object>"
            ],
            "text/html": [
              " View run at <a href='https://wandb.ai/prince_/milan-project/runs/6oy6trcd' target=\"_blank\">https://wandb.ai/prince_/milan-project/runs/6oy6trcd</a>"
            ]
          },
          "metadata": {}
        }
      ],
      "source": [
        "run = wandb.init(\n",
        "    # Set the project where this run will be logged\n",
        "    project=\"milan-project\",\n",
        "    notes=\"frozen; CALCULATE ENERGY; 3 layers; data augmentation\",\n",
        "    save_code=False,\n",
        "    # Track hyperparameters and run metadata\n",
        "    config={\n",
        "        \"learning_rate\": lr,\n",
        "        \"epochs\": num_epochs,\n",
        "        \"architecture\": \"efficientnet\",\n",
        "        \"dataset\": \"augmented\"\n",
        "    },\n",
        ")"
      ]
    },
    {
      "cell_type": "code",
      "execution_count": null,
      "metadata": {
        "id": "yGR6iP1Oi-gJ",
        "outputId": "2885a719-c860-47db-bf98-2b957bfd5f2c",
        "colab": {
          "base_uri": "https://localhost:8080/"
        }
      },
      "outputs": [
        {
          "output_type": "execute_result",
          "data": {
            "text/plain": [
              "[]"
            ]
          },
          "metadata": {},
          "execution_count": 84
        }
      ],
      "source": [
        "wandb.watch(model, log=\"all\")"
      ]
    },
    {
      "cell_type": "code",
      "source": [
        "from tqdm import tqdm"
      ],
      "metadata": {
        "id": "sKnsRFWpJxYv"
      },
      "execution_count": null,
      "outputs": []
    },
    {
      "cell_type": "code",
      "execution_count": null,
      "metadata": {
        "id": "bZF1rKEpi-gK"
      },
      "outputs": [],
      "source": [
        "def train_one_epoch(epoch, model, dataloader, criterion, optimizer, device):\n",
        "    model.train()\n",
        "\n",
        "    # if epoch == 6:\n",
        "    #     for param in model.parameters():\n",
        "    #         param.requires_grad = True\n",
        "\n",
        "    running_loss = 0.0\n",
        "    for inputs, labels in tqdm(dataloader):\n",
        "        # non_blocking=True allows to transfer data asynchroneously between CPU and GPU\n",
        "        # it means non_blocking allows to excetue other lines of code without finishing for this line of code to finish\n",
        "        inputs, labels = inputs.to(device, non_blocking=True), labels.to(device, non_blocking=True)\n",
        "        optimizer.zero_grad()\n",
        "        outputs = model(inputs)\n",
        "        loss = criterion(outputs, labels)\n",
        "        loss.backward()\n",
        "        optimizer.step()\n",
        "        running_loss += loss.item()\n",
        "\n",
        "    avg_loss = running_loss/len(dataloader)\n",
        "    print(f\"Epoch: [{epoch+1}], Training Loss: {avg_loss: .4f}\")\n",
        "    return avg_loss\n",
        "\n",
        "def validation(epoch, model, dataloader, criterion, device):\n",
        "    model.eval()\n",
        "    running_loss = 0.0\n",
        "    all_preds = []\n",
        "    all_labels = []\n",
        "    with torch.no_grad():\n",
        "        for inputs, labels in dataloader:\n",
        "            inputs, labels = inputs.to(device, non_blocking=True), labels.to(device, non_blocking=True)\n",
        "            outputs = model(inputs)\n",
        "            loss = criterion(outputs, labels)\n",
        "            running_loss += loss.item()\n",
        "            preds = torch.argmax(outputs, dim=1).cpu().numpy()\n",
        "            all_preds.extend(preds)\n",
        "            all_labels.extend(labels.cpu().numpy())\n",
        "    avg_loss = running_loss / len(dataloader)\n",
        "    accuracy = accuracy_score(all_labels, all_preds)\n",
        "    precision = precision_score(all_labels, all_preds, average='weighted')\n",
        "    recall = recall_score(all_labels, all_preds, average='weighted')\n",
        "    f1 = f1_score(all_labels, all_preds, average='weighted')\n",
        "    print(f\"Epoch: [{epoch+1}], Validation Loss: {avg_loss: .4f}, Accuracy: {accuracy: .4f}, Precision: {precision: .4f}, Recall: {recall: .4f}, F1 Score: {f1: .4f}\")\n",
        "    return avg_loss, accuracy, precision, recall, f1\n",
        "\n",
        "\n",
        "def test(model, dataloader, criterion, device):\n",
        "    model.eval()\n",
        "    running_loss = 0.0\n",
        "    all_preds = []\n",
        "    all_labels = []\n",
        "    with torch.no_grad():\n",
        "        for inputs, labels in dataloader:\n",
        "            inputs, labels = inputs.to(device, non_blocking=True), labels.to(device, non_blocking=True)\n",
        "            outputs = model(inputs)\n",
        "            loss = criterion(outputs, labels)\n",
        "            running_loss += loss.item()\n",
        "            preds = torch.argmax(outputs, dim=1).cpu().numpy()\n",
        "            all_preds.extend(preds)\n",
        "            all_labels.extend(labels.cpu().numpy())\n",
        "    avg_loss = running_loss / len(dataloader)\n",
        "    accuracy = accuracy_score(all_labels, all_preds)\n",
        "    precision = precision_score(all_labels, all_preds, average='weighted')\n",
        "    recall = recall_score(all_labels, all_preds, average='weighted')\n",
        "    f1 = f1_score(all_labels, all_preds, average='weighted')\n",
        "\n",
        "    cm = confusion_matrix(all_labels, all_preds)\n",
        "    plt.figure(figsize=(10, 8))\n",
        "    sns.heatmap(cm, annot=True, fmt='d', cmap='Blues', xticklabels=range(training_dataset.num_classes()), yticklabels=range(training_dataset.num_classes()))\n",
        "    plt.xlabel(\"Predicted\")\n",
        "    plt.ylabel(\"True\")\n",
        "    plt.title(\"Confusion matrix\")\n",
        "    plt.show\n",
        "\n",
        "    wandb.log({'test loss': avg_loss, 'accuracy': accuracy, 'precision': precision, 'recall': recall, 'f1 score': f1})\n",
        "    print(f\"Test Loss: {avg_loss: .4f}, Accuracy: {accuracy: .4f}, Precision: {precision: .4f}, Recall: {recall: .4f}, F1 Score: {f1: .4f}\")\n",
        "    return avg_loss, accuracy, precision, recall, f1"
      ]
    },
    {
      "cell_type": "code",
      "execution_count": null,
      "metadata": {
        "id": "2nq629jUi-gK",
        "outputId": "73b5cccd-e0e0-49d1-96a6-c4849d6aa4aa",
        "colab": {
          "base_uri": "https://localhost:8080/"
        }
      },
      "outputs": [
        {
          "output_type": "stream",
          "name": "stderr",
          "text": [
            "100%|██████████| 33/33 [03:07<00:00,  5.68s/it]"
          ]
        },
        {
          "output_type": "stream",
          "name": "stdout",
          "text": [
            "Epoch: [1], Training Loss:  1.2814\n"
          ]
        },
        {
          "output_type": "stream",
          "name": "stderr",
          "text": [
            "\n"
          ]
        },
        {
          "output_type": "stream",
          "name": "stdout",
          "text": [
            "Epoch: [1], Validation Loss:  1.0831, Accuracy:  0.5703, Precision:  0.6437, Recall:  0.5703, F1 Score:  0.5395\n"
          ]
        },
        {
          "output_type": "stream",
          "name": "stderr",
          "text": [
            "100%|██████████| 33/33 [00:09<00:00,  3.41it/s]"
          ]
        },
        {
          "output_type": "stream",
          "name": "stdout",
          "text": [
            "Epoch: [2], Training Loss:  0.6595\n"
          ]
        },
        {
          "output_type": "stream",
          "name": "stderr",
          "text": [
            "\n"
          ]
        },
        {
          "output_type": "stream",
          "name": "stdout",
          "text": [
            "Epoch: [2], Validation Loss:  0.8818, Accuracy:  0.6719, Precision:  0.7201, Recall:  0.6719, F1 Score:  0.6625\n"
          ]
        },
        {
          "output_type": "stream",
          "name": "stderr",
          "text": [
            "100%|██████████| 33/33 [00:07<00:00,  4.43it/s]"
          ]
        },
        {
          "output_type": "stream",
          "name": "stdout",
          "text": [
            "Epoch: [3], Training Loss:  0.4818\n"
          ]
        },
        {
          "output_type": "stream",
          "name": "stderr",
          "text": [
            "\n"
          ]
        },
        {
          "output_type": "stream",
          "name": "stdout",
          "text": [
            "Epoch: [3], Validation Loss:  0.5756, Accuracy:  0.7578, Precision:  0.7756, Recall:  0.7578, F1 Score:  0.7569\n"
          ]
        },
        {
          "output_type": "stream",
          "name": "stderr",
          "text": [
            "100%|██████████| 33/33 [00:09<00:00,  3.42it/s]"
          ]
        },
        {
          "output_type": "stream",
          "name": "stdout",
          "text": [
            "Epoch: [4], Training Loss:  0.3880\n"
          ]
        },
        {
          "output_type": "stream",
          "name": "stderr",
          "text": [
            "\n"
          ]
        },
        {
          "output_type": "stream",
          "name": "stdout",
          "text": [
            "Epoch: [4], Validation Loss:  0.4311, Accuracy:  0.8125, Precision:  0.8120, Recall:  0.8125, F1 Score:  0.7985\n"
          ]
        },
        {
          "output_type": "stream",
          "name": "stderr",
          "text": [
            "100%|██████████| 33/33 [00:08<00:00,  3.97it/s]"
          ]
        },
        {
          "output_type": "stream",
          "name": "stdout",
          "text": [
            "Epoch: [5], Training Loss:  0.4063\n"
          ]
        },
        {
          "output_type": "stream",
          "name": "stderr",
          "text": [
            "\n"
          ]
        },
        {
          "output_type": "stream",
          "name": "stdout",
          "text": [
            "Epoch: [5], Validation Loss:  0.3954, Accuracy:  0.8281, Precision:  0.8255, Recall:  0.8281, F1 Score:  0.8213\n"
          ]
        },
        {
          "output_type": "stream",
          "name": "stderr",
          "text": [
            "100%|██████████| 33/33 [00:08<00:00,  4.08it/s]"
          ]
        },
        {
          "output_type": "stream",
          "name": "stdout",
          "text": [
            "Epoch: [6], Training Loss:  0.4397\n"
          ]
        },
        {
          "output_type": "stream",
          "name": "stderr",
          "text": [
            "\n"
          ]
        },
        {
          "output_type": "stream",
          "name": "stdout",
          "text": [
            "Epoch: [6], Validation Loss:  0.3666, Accuracy:  0.8516, Precision:  0.8477, Recall:  0.8516, F1 Score:  0.8458\n"
          ]
        },
        {
          "output_type": "stream",
          "name": "stderr",
          "text": [
            "100%|██████████| 33/33 [00:10<00:00,  3.12it/s]"
          ]
        },
        {
          "output_type": "stream",
          "name": "stdout",
          "text": [
            "Epoch: [7], Training Loss:  0.3805\n"
          ]
        },
        {
          "output_type": "stream",
          "name": "stderr",
          "text": [
            "\n"
          ]
        },
        {
          "output_type": "stream",
          "name": "stdout",
          "text": [
            "Epoch: [7], Validation Loss:  0.3257, Accuracy:  0.8516, Precision:  0.8544, Recall:  0.8516, F1 Score:  0.8509\n"
          ]
        },
        {
          "output_type": "stream",
          "name": "stderr",
          "text": [
            "100%|██████████| 33/33 [00:07<00:00,  4.24it/s]"
          ]
        },
        {
          "output_type": "stream",
          "name": "stdout",
          "text": [
            "Epoch: [8], Training Loss:  0.3163\n"
          ]
        },
        {
          "output_type": "stream",
          "name": "stderr",
          "text": [
            "\n"
          ]
        },
        {
          "output_type": "stream",
          "name": "stdout",
          "text": [
            "Epoch: [8], Validation Loss:  0.3001, Accuracy:  0.8984, Precision:  0.9003, Recall:  0.8984, F1 Score:  0.8966\n"
          ]
        },
        {
          "output_type": "stream",
          "name": "stderr",
          "text": [
            "100%|██████████| 33/33 [00:08<00:00,  3.79it/s]"
          ]
        },
        {
          "output_type": "stream",
          "name": "stdout",
          "text": [
            "Epoch: [9], Training Loss:  0.3093\n"
          ]
        },
        {
          "output_type": "stream",
          "name": "stderr",
          "text": [
            "\n"
          ]
        },
        {
          "output_type": "stream",
          "name": "stdout",
          "text": [
            "Epoch: [9], Validation Loss:  0.3161, Accuracy:  0.8828, Precision:  0.8953, Recall:  0.8828, F1 Score:  0.8813\n"
          ]
        },
        {
          "output_type": "stream",
          "name": "stderr",
          "text": [
            "100%|██████████| 33/33 [00:09<00:00,  3.39it/s]"
          ]
        },
        {
          "output_type": "stream",
          "name": "stdout",
          "text": [
            "Epoch: [10], Training Loss:  0.3263\n"
          ]
        },
        {
          "output_type": "stream",
          "name": "stderr",
          "text": [
            "\n"
          ]
        },
        {
          "output_type": "stream",
          "name": "stdout",
          "text": [
            "Epoch: [10], Validation Loss:  0.2936, Accuracy:  0.8984, Precision:  0.9045, Recall:  0.8984, F1 Score:  0.8978\n"
          ]
        },
        {
          "output_type": "stream",
          "name": "stderr",
          "text": [
            "100%|██████████| 33/33 [00:07<00:00,  4.42it/s]"
          ]
        },
        {
          "output_type": "stream",
          "name": "stdout",
          "text": [
            "Epoch: [11], Training Loss:  0.3093\n"
          ]
        },
        {
          "output_type": "stream",
          "name": "stderr",
          "text": [
            "\n"
          ]
        },
        {
          "output_type": "stream",
          "name": "stdout",
          "text": [
            "Epoch: [11], Validation Loss:  0.2718, Accuracy:  0.9141, Precision:  0.9165, Recall:  0.9141, F1 Score:  0.9139\n"
          ]
        },
        {
          "output_type": "stream",
          "name": "stderr",
          "text": [
            "100%|██████████| 33/33 [00:10<00:00,  3.27it/s]"
          ]
        },
        {
          "output_type": "stream",
          "name": "stdout",
          "text": [
            "Epoch: [12], Training Loss:  0.2693\n"
          ]
        },
        {
          "output_type": "stream",
          "name": "stderr",
          "text": [
            "\n"
          ]
        },
        {
          "output_type": "stream",
          "name": "stdout",
          "text": [
            "Epoch: [12], Validation Loss:  0.2906, Accuracy:  0.8906, Precision:  0.9076, Recall:  0.8906, F1 Score:  0.8930\n"
          ]
        },
        {
          "output_type": "stream",
          "name": "stderr",
          "text": [
            "100%|██████████| 33/33 [00:08<00:00,  3.95it/s]"
          ]
        },
        {
          "output_type": "stream",
          "name": "stdout",
          "text": [
            "Epoch: [13], Training Loss:  0.2570\n"
          ]
        },
        {
          "output_type": "stream",
          "name": "stderr",
          "text": [
            "\n"
          ]
        },
        {
          "output_type": "stream",
          "name": "stdout",
          "text": [
            "Epoch: [13], Validation Loss:  0.2869, Accuracy:  0.8906, Precision:  0.8942, Recall:  0.8906, F1 Score:  0.8903\n"
          ]
        },
        {
          "output_type": "stream",
          "name": "stderr",
          "text": [
            "100%|██████████| 33/33 [00:08<00:00,  3.98it/s]"
          ]
        },
        {
          "output_type": "stream",
          "name": "stdout",
          "text": [
            "Epoch: [14], Training Loss:  0.2509\n"
          ]
        },
        {
          "output_type": "stream",
          "name": "stderr",
          "text": [
            "\n"
          ]
        },
        {
          "output_type": "stream",
          "name": "stdout",
          "text": [
            "Epoch: [14], Validation Loss:  0.2933, Accuracy:  0.8984, Precision:  0.9060, Recall:  0.8984, F1 Score:  0.8988\n"
          ]
        },
        {
          "output_type": "stream",
          "name": "stderr",
          "text": [
            "100%|██████████| 33/33 [00:10<00:00,  3.25it/s]"
          ]
        },
        {
          "output_type": "stream",
          "name": "stdout",
          "text": [
            "Epoch: [15], Training Loss:  0.2681\n"
          ]
        },
        {
          "output_type": "stream",
          "name": "stderr",
          "text": [
            "\n"
          ]
        },
        {
          "output_type": "stream",
          "name": "stdout",
          "text": [
            "Epoch: [15], Validation Loss:  0.2908, Accuracy:  0.8906, Precision:  0.9103, Recall:  0.8906, F1 Score:  0.8926\n"
          ]
        },
        {
          "output_type": "stream",
          "name": "stderr",
          "text": [
            "100%|██████████| 33/33 [00:09<00:00,  3.42it/s]"
          ]
        },
        {
          "output_type": "stream",
          "name": "stdout",
          "text": [
            "Epoch: [16], Training Loss:  0.2110\n"
          ]
        },
        {
          "output_type": "stream",
          "name": "stderr",
          "text": [
            "\n"
          ]
        },
        {
          "output_type": "stream",
          "name": "stdout",
          "text": [
            "Epoch: [16], Validation Loss:  0.2711, Accuracy:  0.8750, Precision:  0.8795, Recall:  0.8750, F1 Score:  0.8744\n"
          ]
        },
        {
          "output_type": "stream",
          "name": "stderr",
          "text": [
            "100%|██████████| 33/33 [00:09<00:00,  3.31it/s]"
          ]
        },
        {
          "output_type": "stream",
          "name": "stdout",
          "text": [
            "Epoch: [17], Training Loss:  0.2071\n"
          ]
        },
        {
          "output_type": "stream",
          "name": "stderr",
          "text": [
            "\n"
          ]
        },
        {
          "output_type": "stream",
          "name": "stdout",
          "text": [
            "Epoch: [17], Validation Loss:  0.2891, Accuracy:  0.8984, Precision:  0.9259, Recall:  0.8984, F1 Score:  0.9034\n"
          ]
        },
        {
          "output_type": "stream",
          "name": "stderr",
          "text": [
            "100%|██████████| 33/33 [00:09<00:00,  3.47it/s]"
          ]
        },
        {
          "output_type": "stream",
          "name": "stdout",
          "text": [
            "Epoch: [18], Training Loss:  0.2277\n"
          ]
        },
        {
          "output_type": "stream",
          "name": "stderr",
          "text": [
            "\n"
          ]
        },
        {
          "output_type": "stream",
          "name": "stdout",
          "text": [
            "Epoch: [18], Validation Loss:  0.2787, Accuracy:  0.9062, Precision:  0.9137, Recall:  0.9062, F1 Score:  0.9077\n"
          ]
        },
        {
          "output_type": "stream",
          "name": "stderr",
          "text": [
            "100%|██████████| 33/33 [00:07<00:00,  4.39it/s]"
          ]
        },
        {
          "output_type": "stream",
          "name": "stdout",
          "text": [
            "Epoch: [19], Training Loss:  0.2240\n"
          ]
        },
        {
          "output_type": "stream",
          "name": "stderr",
          "text": [
            "\n"
          ]
        },
        {
          "output_type": "stream",
          "name": "stdout",
          "text": [
            "Epoch: [19], Validation Loss:  0.2851, Accuracy:  0.8906, Precision:  0.9030, Recall:  0.8906, F1 Score:  0.8922\n"
          ]
        },
        {
          "output_type": "stream",
          "name": "stderr",
          "text": [
            "100%|██████████| 33/33 [00:09<00:00,  3.43it/s]"
          ]
        },
        {
          "output_type": "stream",
          "name": "stdout",
          "text": [
            "Epoch: [20], Training Loss:  0.2072\n"
          ]
        },
        {
          "output_type": "stream",
          "name": "stderr",
          "text": [
            "\n"
          ]
        },
        {
          "output_type": "stream",
          "name": "stdout",
          "text": [
            "Epoch: [20], Validation Loss:  0.2310, Accuracy:  0.9219, Precision:  0.9244, Recall:  0.9219, F1 Score:  0.9223\n"
          ]
        },
        {
          "output_type": "stream",
          "name": "stderr",
          "text": [
            "100%|██████████| 33/33 [00:08<00:00,  3.87it/s]"
          ]
        },
        {
          "output_type": "stream",
          "name": "stdout",
          "text": [
            "Epoch: [21], Training Loss:  0.1735\n"
          ]
        },
        {
          "output_type": "stream",
          "name": "stderr",
          "text": [
            "\n"
          ]
        },
        {
          "output_type": "stream",
          "name": "stdout",
          "text": [
            "Epoch: [21], Validation Loss:  0.2436, Accuracy:  0.9219, Precision:  0.9358, Recall:  0.9219, F1 Score:  0.9242\n"
          ]
        },
        {
          "output_type": "stream",
          "name": "stderr",
          "text": [
            "100%|██████████| 33/33 [00:07<00:00,  4.14it/s]"
          ]
        },
        {
          "output_type": "stream",
          "name": "stdout",
          "text": [
            "Epoch: [22], Training Loss:  0.1721\n"
          ]
        },
        {
          "output_type": "stream",
          "name": "stderr",
          "text": [
            "\n"
          ]
        },
        {
          "output_type": "stream",
          "name": "stdout",
          "text": [
            "Epoch: [22], Validation Loss:  0.2513, Accuracy:  0.9062, Precision:  0.9296, Recall:  0.9062, F1 Score:  0.9095\n"
          ]
        },
        {
          "output_type": "stream",
          "name": "stderr",
          "text": [
            "100%|██████████| 33/33 [00:09<00:00,  3.49it/s]"
          ]
        },
        {
          "output_type": "stream",
          "name": "stdout",
          "text": [
            "Epoch: [23], Training Loss:  0.1403\n"
          ]
        },
        {
          "output_type": "stream",
          "name": "stderr",
          "text": [
            "\n"
          ]
        },
        {
          "output_type": "stream",
          "name": "stdout",
          "text": [
            "Epoch: [23], Validation Loss:  0.2708, Accuracy:  0.8984, Precision:  0.9172, Recall:  0.8984, F1 Score:  0.9022\n"
          ]
        },
        {
          "output_type": "stream",
          "name": "stderr",
          "text": [
            "100%|██████████| 33/33 [00:07<00:00,  4.20it/s]"
          ]
        },
        {
          "output_type": "stream",
          "name": "stdout",
          "text": [
            "Epoch: [24], Training Loss:  0.1828\n"
          ]
        },
        {
          "output_type": "stream",
          "name": "stderr",
          "text": [
            "\n"
          ]
        },
        {
          "output_type": "stream",
          "name": "stdout",
          "text": [
            "Epoch: [24], Validation Loss:  0.3157, Accuracy:  0.8984, Precision:  0.9086, Recall:  0.8984, F1 Score:  0.9016\n"
          ]
        },
        {
          "output_type": "stream",
          "name": "stderr",
          "text": [
            "100%|██████████| 33/33 [00:08<00:00,  3.67it/s]"
          ]
        },
        {
          "output_type": "stream",
          "name": "stdout",
          "text": [
            "Epoch: [25], Training Loss:  0.1819\n"
          ]
        },
        {
          "output_type": "stream",
          "name": "stderr",
          "text": [
            "\n"
          ]
        },
        {
          "output_type": "stream",
          "name": "stdout",
          "text": [
            "Epoch: [25], Validation Loss:  0.3596, Accuracy:  0.8828, Precision:  0.8831, Recall:  0.8828, F1 Score:  0.8793\n"
          ]
        },
        {
          "output_type": "stream",
          "name": "stderr",
          "text": [
            "100%|██████████| 33/33 [00:09<00:00,  3.40it/s]"
          ]
        },
        {
          "output_type": "stream",
          "name": "stdout",
          "text": [
            "Epoch: [26], Training Loss:  0.1812\n"
          ]
        },
        {
          "output_type": "stream",
          "name": "stderr",
          "text": [
            "\n"
          ]
        },
        {
          "output_type": "stream",
          "name": "stdout",
          "text": [
            "Epoch: [26], Validation Loss:  0.3215, Accuracy:  0.8828, Precision:  0.8913, Recall:  0.8828, F1 Score:  0.8846\n"
          ]
        },
        {
          "output_type": "stream",
          "name": "stderr",
          "text": [
            "100%|██████████| 33/33 [00:07<00:00,  4.33it/s]"
          ]
        },
        {
          "output_type": "stream",
          "name": "stdout",
          "text": [
            "Epoch: [27], Training Loss:  0.2141\n"
          ]
        },
        {
          "output_type": "stream",
          "name": "stderr",
          "text": [
            "\n"
          ]
        },
        {
          "output_type": "stream",
          "name": "stdout",
          "text": [
            "Epoch: [27], Validation Loss:  0.2971, Accuracy:  0.8750, Precision:  0.8857, Recall:  0.8750, F1 Score:  0.8785\n"
          ]
        },
        {
          "output_type": "stream",
          "name": "stderr",
          "text": [
            "100%|██████████| 33/33 [00:09<00:00,  3.39it/s]"
          ]
        },
        {
          "output_type": "stream",
          "name": "stdout",
          "text": [
            "Epoch: [28], Training Loss:  0.2088\n"
          ]
        },
        {
          "output_type": "stream",
          "name": "stderr",
          "text": [
            "\n"
          ]
        },
        {
          "output_type": "stream",
          "name": "stdout",
          "text": [
            "Epoch: [28], Validation Loss:  0.3672, Accuracy:  0.8984, Precision:  0.9169, Recall:  0.8984, F1 Score:  0.9000\n"
          ]
        },
        {
          "output_type": "stream",
          "name": "stderr",
          "text": [
            "100%|██████████| 33/33 [00:08<00:00,  3.80it/s]"
          ]
        },
        {
          "output_type": "stream",
          "name": "stdout",
          "text": [
            "Epoch: [29], Training Loss:  0.2050\n"
          ]
        },
        {
          "output_type": "stream",
          "name": "stderr",
          "text": [
            "\n"
          ]
        },
        {
          "output_type": "stream",
          "name": "stdout",
          "text": [
            "Epoch: [29], Validation Loss:  0.3361, Accuracy:  0.8906, Precision:  0.8962, Recall:  0.8906, F1 Score:  0.8871\n"
          ]
        },
        {
          "output_type": "stream",
          "name": "stderr",
          "text": [
            "100%|██████████| 33/33 [00:07<00:00,  4.23it/s]"
          ]
        },
        {
          "output_type": "stream",
          "name": "stdout",
          "text": [
            "Epoch: [30], Training Loss:  0.1318\n"
          ]
        },
        {
          "output_type": "stream",
          "name": "stderr",
          "text": [
            "\n"
          ]
        },
        {
          "output_type": "stream",
          "name": "stdout",
          "text": [
            "Epoch: [30], Validation Loss:  0.3517, Accuracy:  0.9062, Precision:  0.9160, Recall:  0.9062, F1 Score:  0.9075\n"
          ]
        },
        {
          "output_type": "stream",
          "name": "stderr",
          "text": [
            "100%|██████████| 33/33 [00:11<00:00,  2.87it/s]"
          ]
        },
        {
          "output_type": "stream",
          "name": "stdout",
          "text": [
            "Epoch: [31], Training Loss:  0.1772\n"
          ]
        },
        {
          "output_type": "stream",
          "name": "stderr",
          "text": [
            "\n"
          ]
        },
        {
          "output_type": "stream",
          "name": "stdout",
          "text": [
            "Epoch: [31], Validation Loss:  0.3184, Accuracy:  0.8906, Precision:  0.8997, Recall:  0.8906, F1 Score:  0.8917\n"
          ]
        },
        {
          "output_type": "stream",
          "name": "stderr",
          "text": [
            "100%|██████████| 33/33 [00:08<00:00,  4.02it/s]"
          ]
        },
        {
          "output_type": "stream",
          "name": "stdout",
          "text": [
            "Epoch: [32], Training Loss:  0.1584\n"
          ]
        },
        {
          "output_type": "stream",
          "name": "stderr",
          "text": [
            "\n"
          ]
        },
        {
          "output_type": "stream",
          "name": "stdout",
          "text": [
            "Epoch: [32], Validation Loss:  0.3927, Accuracy:  0.8672, Precision:  0.9167, Recall:  0.8672, F1 Score:  0.8710\n"
          ]
        },
        {
          "output_type": "stream",
          "name": "stderr",
          "text": [
            "100%|██████████| 33/33 [00:08<00:00,  4.11it/s]"
          ]
        },
        {
          "output_type": "stream",
          "name": "stdout",
          "text": [
            "Epoch: [33], Training Loss:  0.1783\n"
          ]
        },
        {
          "output_type": "stream",
          "name": "stderr",
          "text": [
            "\n"
          ]
        },
        {
          "output_type": "stream",
          "name": "stdout",
          "text": [
            "Epoch: [33], Validation Loss:  0.2929, Accuracy:  0.8906, Precision:  0.8988, Recall:  0.8906, F1 Score:  0.8924\n"
          ]
        },
        {
          "output_type": "stream",
          "name": "stderr",
          "text": [
            "100%|██████████| 33/33 [00:09<00:00,  3.37it/s]"
          ]
        },
        {
          "output_type": "stream",
          "name": "stdout",
          "text": [
            "Epoch: [34], Training Loss:  0.1430\n"
          ]
        },
        {
          "output_type": "stream",
          "name": "stderr",
          "text": [
            "\n"
          ]
        },
        {
          "output_type": "stream",
          "name": "stdout",
          "text": [
            "Epoch: [34], Validation Loss:  0.2652, Accuracy:  0.9219, Precision:  0.9288, Recall:  0.9219, F1 Score:  0.9240\n"
          ]
        },
        {
          "output_type": "stream",
          "name": "stderr",
          "text": [
            "100%|██████████| 33/33 [00:07<00:00,  4.41it/s]"
          ]
        },
        {
          "output_type": "stream",
          "name": "stdout",
          "text": [
            "Epoch: [35], Training Loss:  0.1425\n"
          ]
        },
        {
          "output_type": "stream",
          "name": "stderr",
          "text": [
            "\n"
          ]
        },
        {
          "output_type": "stream",
          "name": "stdout",
          "text": [
            "Epoch: [35], Validation Loss:  0.3364, Accuracy:  0.8828, Precision:  0.8895, Recall:  0.8828, F1 Score:  0.8833\n"
          ]
        },
        {
          "output_type": "stream",
          "name": "stderr",
          "text": [
            "100%|██████████| 33/33 [00:09<00:00,  3.47it/s]"
          ]
        },
        {
          "output_type": "stream",
          "name": "stdout",
          "text": [
            "Epoch: [36], Training Loss:  0.1399\n"
          ]
        },
        {
          "output_type": "stream",
          "name": "stderr",
          "text": [
            "\n"
          ]
        },
        {
          "output_type": "stream",
          "name": "stdout",
          "text": [
            "Epoch: [36], Validation Loss:  0.2945, Accuracy:  0.8984, Precision:  0.9007, Recall:  0.8984, F1 Score:  0.8976\n"
          ]
        },
        {
          "output_type": "stream",
          "name": "stderr",
          "text": [
            "100%|██████████| 33/33 [00:08<00:00,  3.80it/s]"
          ]
        },
        {
          "output_type": "stream",
          "name": "stdout",
          "text": [
            "Epoch: [37], Training Loss:  0.1505\n"
          ]
        },
        {
          "output_type": "stream",
          "name": "stderr",
          "text": [
            "\n"
          ]
        },
        {
          "output_type": "stream",
          "name": "stdout",
          "text": [
            "Epoch: [37], Validation Loss:  0.2987, Accuracy:  0.9141, Precision:  0.9147, Recall:  0.9141, F1 Score:  0.9135\n"
          ]
        },
        {
          "output_type": "stream",
          "name": "stderr",
          "text": [
            "100%|██████████| 33/33 [00:07<00:00,  4.51it/s]"
          ]
        },
        {
          "output_type": "stream",
          "name": "stdout",
          "text": [
            "Epoch: [38], Training Loss:  0.1317\n"
          ]
        },
        {
          "output_type": "stream",
          "name": "stderr",
          "text": [
            "\n"
          ]
        },
        {
          "output_type": "stream",
          "name": "stdout",
          "text": [
            "Epoch: [38], Validation Loss:  0.3586, Accuracy:  0.8906, Precision:  0.8997, Recall:  0.8906, F1 Score:  0.8926\n"
          ]
        },
        {
          "output_type": "stream",
          "name": "stderr",
          "text": [
            "100%|██████████| 33/33 [00:10<00:00,  3.30it/s]"
          ]
        },
        {
          "output_type": "stream",
          "name": "stdout",
          "text": [
            "Epoch: [39], Training Loss:  0.1220\n"
          ]
        },
        {
          "output_type": "stream",
          "name": "stderr",
          "text": [
            "\n"
          ]
        },
        {
          "output_type": "stream",
          "name": "stdout",
          "text": [
            "Epoch: [39], Validation Loss:  0.3637, Accuracy:  0.9062, Precision:  0.9152, Recall:  0.9062, F1 Score:  0.9067\n"
          ]
        },
        {
          "output_type": "stream",
          "name": "stderr",
          "text": [
            "100%|██████████| 33/33 [00:07<00:00,  4.39it/s]"
          ]
        },
        {
          "output_type": "stream",
          "name": "stdout",
          "text": [
            "Epoch: [40], Training Loss:  0.1437\n"
          ]
        },
        {
          "output_type": "stream",
          "name": "stderr",
          "text": [
            "\n"
          ]
        },
        {
          "output_type": "stream",
          "name": "stdout",
          "text": [
            "Epoch: [40], Validation Loss:  0.3711, Accuracy:  0.9062, Precision:  0.9084, Recall:  0.9062, F1 Score:  0.9043\n"
          ]
        }
      ],
      "source": [
        "import copy\n",
        "\n",
        "f1_best = float('-inf')\n",
        "best_model_state_dict = None\n",
        "for epoch in range(num_epochs):\n",
        "    train_one_epoch(epoch, model, train_dataloader, criterion, optimizer, device)\n",
        "    _, _, _, _, f1 = validation(epoch, model, val_dataloader, criterion, device)\n",
        "\n",
        "    if f1 > f1_best:\n",
        "        f1_best = f1\n",
        "        best_model_state_dict = copy.deepcopy(model.state_dict())\n",
        "\n",
        "if best_model_state_dict:\n",
        "    model.load_state_dict(best_model_state_dict)"
      ]
    },
    {
      "cell_type": "code",
      "execution_count": null,
      "metadata": {
        "id": "Vsw8uvqIi-gK",
        "outputId": "d8e31889-08d2-4644-bc57-f505ade246ea",
        "colab": {
          "base_uri": "https://localhost:8080/",
          "height": 753
        }
      },
      "outputs": [
        {
          "output_type": "stream",
          "name": "stdout",
          "text": [
            "Test Loss:  0.1892, Accuracy:  0.9000, Precision:  0.9078, Recall:  0.9000, F1 Score:  0.9021\n"
          ]
        },
        {
          "output_type": "execute_result",
          "data": {
            "text/plain": [
              "(0.18917502500116826, 0.9, 0.907762165594983, 0.9, 0.9020918866080158)"
            ]
          },
          "metadata": {},
          "execution_count": 25
        },
        {
          "output_type": "display_data",
          "data": {
            "text/plain": [
              "<Figure size 1000x800 with 2 Axes>"
            ],
            "image/png": "[encoded data removed]"
          },
          "metadata": {}
        }
      ],
      "source": [
        "test(model, test_dataloader, criterion, device)"
      ]
    },
    {
      "cell_type": "code",
      "source": [
        "import numpy as np\n",
        "\n",
        "def calculate_energy(outputs):\n",
        "    return -torch.logsumexp(outputs, dim=1)\n",
        "\n",
        "def analyze_energy_distribution(model, dataloader, device):\n",
        "    model.eval()\n",
        "    energies = []\n",
        "    with torch.no_grad():\n",
        "        for inputs, _ in dataloader:\n",
        "            inputs = inputs.to(device)\n",
        "            outputs = model(inputs)\n",
        "            energy = calculate_energy(outputs)\n",
        "            energies.extend(energy.cpu().numpy())\n",
        "    return energies\n",
        "\n",
        "energies = analyze_energy_distribution(model, train_dataloader, device)\n",
        "\n",
        "energy_threshold = np.percentile(energies, 95)\n",
        "\n",
        "print(f\"Energy Threshold: {energy_threshold}\")"
      ],
      "metadata": {
        "colab": {
          "base_uri": "https://localhost:8080/"
        },
        "id": "bHOPYeQux7r3",
        "outputId": "e7135956-ca59-48c1-cdc8-afd109650ac7"
      },
      "execution_count": null,
      "outputs": [
        {
          "output_type": "stream",
          "name": "stdout",
          "text": [
            "Energy Threshold: -3.5456230640411377\n"
          ]
        }
      ]
    },
    {
      "cell_type": "code",
      "execution_count": null,
      "metadata": {
        "id": "zRMi1MVxi-gK",
        "colab": {
          "base_uri": "https://localhost:8080/"
        },
        "outputId": "7a2437d0-12d8-435e-e71a-ed1c55e693be"
      },
      "outputs": [
        {
          "output_type": "execute_result",
          "data": {
            "text/plain": [
              "ArtifactManifestEntry(path='efficientnet.pth', digest='4eLpLEov5/ePA6EcWgC5Rg==', size=20023306, local_path='/root/.local/share/wandb/artifacts/staging/tmp1i4jaqkz', skip_cache=False)"
            ]
          },
          "metadata": {},
          "execution_count": 27
        }
      ],
      "source": [
        "model_name = 'efficientnet.pth'\n",
        "\n",
        "torch.save(model.state_dict(), model_name)\n",
        "model_artifact = wandb.Artifact('model', type='model')\n",
        "model_artifact.add_file(model_name)"
      ]
    },
    {
      "cell_type": "code",
      "execution_count": null,
      "metadata": {
        "id": "nHpDBBcki-gK",
        "outputId": "e8d68e35-d1a7-4d73-f913-e166dae81b8c",
        "colab": {
          "base_uri": "https://localhost:8080/"
        }
      },
      "outputs": [
        {
          "output_type": "execute_result",
          "data": {
            "text/plain": [
              "<Artifact model>"
            ]
          },
          "metadata": {},
          "execution_count": 28
        }
      ],
      "source": [
        "wandb.log_artifact(model_artifact)"
      ]
    },
    {
      "cell_type": "code",
      "source": [
        "import numpy as np\n",
        "\n",
        "def inference(model, image_path, device):\n",
        "    image = Image.open(image_path)\n",
        "\n",
        "    transform = A.Compose([\n",
        "        A.Normalize(mean=[0.485, 0.456, 0.406], std=[0.229, 0.224, 0.225]),\n",
        "        ToTensorV2()\n",
        "    ])\n",
        "\n",
        "    image = transform(image=np.array(image))['image']\n",
        "    image_tr = torch.tensor(image).unsqueeze(0).to(device)\n",
        "    with torch.inference_mode():\n",
        "        output = model(image_tr)\n",
        "        energy = calculate_energy(output)\n",
        "        if energy > energy_threshold:\n",
        "            print(f\"The class is of unknown origin\")\n",
        "            print(f\"Its energy is {energy}, but the threshold is {energy_threshold}\")\n",
        "            return\n",
        "        prob = torch.softmax(output, dim=1)\n",
        "        s, predicted_class = torch.max(prob,  1)\n",
        "        print(f\"Probability: {s}\")\n",
        "        print(f\"Predicted class: {predicted_class}\")\n",
        "        print(\"-------------------------------------\\n\")\n",
        "        return s\n",
        "\n",
        "tests_dir = \"/content/drive/MyDrive/test images\"\n",
        "\n",
        "avg = []\n",
        "\n",
        "for filename in os.listdir(tests_dir):\n",
        "    image_path = os.path.join(tests_dir, filename)\n",
        "    inference(model, image_path, device)\n",
        "    # avg.append(torch.tensor(s, dtype=torch.float32))\n",
        "\n",
        "# avg = torch.cat(avg)\n",
        "\n",
        "# print(f\"Avergae predicted probability: {torch.mean(avg)}\")\n"
      ],
      "metadata": {
        "colab": {
          "base_uri": "https://localhost:8080/"
        },
        "id": "1qzCGAZwfd7g",
        "outputId": "776e8eab-b5a1-4f56-c76a-c9925ddc4c84"
      },
      "execution_count": null,
      "outputs": [
        {
          "output_type": "stream",
          "name": "stderr",
          "text": [
            "<ipython-input-29-5163442a5a24>:12: UserWarning: To copy construct from a tensor, it is recommended to use sourceTensor.clone().detach() or sourceTensor.clone().detach().requires_grad_(True), rather than torch.tensor(sourceTensor).\n",
            "  image_tr = torch.tensor(image).unsqueeze(0).to(device)\n"
          ]
        },
        {
          "output_type": "stream",
          "name": "stdout",
          "text": [
            "Probability: tensor([0.9552], device='cuda:0')\n",
            "Predicted class: tensor([0], device='cuda:0')\n",
            "-------------------------------------\n",
            "\n",
            "Probability: tensor([0.9907], device='cuda:0')\n",
            "Predicted class: tensor([6], device='cuda:0')\n",
            "-------------------------------------\n",
            "\n",
            "Probability: tensor([0.9689], device='cuda:0')\n",
            "Predicted class: tensor([6], device='cuda:0')\n",
            "-------------------------------------\n",
            "\n",
            "Probability: tensor([0.9998], device='cuda:0')\n",
            "Predicted class: tensor([6], device='cuda:0')\n",
            "-------------------------------------\n",
            "\n",
            "The class is of unknown origin\n",
            "Its energy is tensor([-2.5297], device='cuda:0'), but the threshold is -3.5456230640411377\n",
            "Probability: tensor([0.9012], device='cuda:0')\n",
            "Predicted class: tensor([2], device='cuda:0')\n",
            "-------------------------------------\n",
            "\n",
            "The class is of unknown origin\n",
            "Its energy is tensor([-2.8785], device='cuda:0'), but the threshold is -3.5456230640411377\n",
            "Probability: tensor([0.6717], device='cuda:0')\n",
            "Predicted class: tensor([0], device='cuda:0')\n",
            "-------------------------------------\n",
            "\n",
            "Probability: tensor([0.9444], device='cuda:0')\n",
            "Predicted class: tensor([0], device='cuda:0')\n",
            "-------------------------------------\n",
            "\n",
            "Probability: tensor([0.8175], device='cuda:0')\n",
            "Predicted class: tensor([6], device='cuda:0')\n",
            "-------------------------------------\n",
            "\n",
            "Probability: tensor([0.9650], device='cuda:0')\n",
            "Predicted class: tensor([2], device='cuda:0')\n",
            "-------------------------------------\n",
            "\n",
            "The class is of unknown origin\n",
            "Its energy is tensor([-2.5165], device='cuda:0'), but the threshold is -3.5456230640411377\n",
            "The class is of unknown origin\n",
            "Its energy is tensor([-2.7501], device='cuda:0'), but the threshold is -3.5456230640411377\n",
            "Probability: tensor([0.6054], device='cuda:0')\n",
            "Predicted class: tensor([6], device='cuda:0')\n",
            "-------------------------------------\n",
            "\n",
            "The class is of unknown origin\n",
            "Its energy is tensor([-2.4159], device='cuda:0'), but the threshold is -3.5456230640411377\n",
            "The class is of unknown origin\n",
            "Its energy is tensor([-1.6843], device='cuda:0'), but the threshold is -3.5456230640411377\n",
            "The class is of unknown origin\n",
            "Its energy is tensor([-2.8099], device='cuda:0'), but the threshold is -3.5456230640411377\n"
          ]
        }
      ]
    },
    {
      "cell_type": "code",
      "source": [
        "tests_dir = \"/content/drive/MyDrive/original(resized)/test/Anthracnose_Fungi\"\n",
        "\n",
        "avg = []\n",
        "for filename in os.listdir(tests_dir):\n",
        "    image_path = os.path.join(tests_dir, filename)\n",
        "    inference(model, image_path, device)\n",
        "#     avg.append(torch.tensor(s, dtype=torch.float32))\n",
        "\n",
        "# avg = torch.cat(avg)\n",
        "\n",
        "# print(f\"Avergae predicted probability: {torch.mean(avg)}\")"
      ],
      "metadata": {
        "colab": {
          "base_uri": "https://localhost:8080/"
        },
        "id": "SJjbKOAHFa9g",
        "outputId": "5bb36613-4832-434a-8fb4-040ce49e6a8b"
      },
      "execution_count": null,
      "outputs": [
        {
          "output_type": "stream",
          "name": "stderr",
          "text": [
            "<ipython-input-29-5163442a5a24>:12: UserWarning: To copy construct from a tensor, it is recommended to use sourceTensor.clone().detach() or sourceTensor.clone().detach().requires_grad_(True), rather than torch.tensor(sourceTensor).\n",
            "  image_tr = torch.tensor(image).unsqueeze(0).to(device)\n"
          ]
        },
        {
          "output_type": "stream",
          "name": "stdout",
          "text": [
            "The class is of unknown origin\n",
            "Its energy is tensor([-3.0512], device='cuda:0'), but the threshold is -3.5456230640411377\n",
            "Probability: tensor([0.9375], device='cuda:0')\n",
            "Predicted class: tensor([0], device='cuda:0')\n",
            "-------------------------------------\n",
            "\n",
            "Probability: tensor([0.8964], device='cuda:0')\n",
            "Predicted class: tensor([0], device='cuda:0')\n",
            "-------------------------------------\n",
            "\n",
            "The class is of unknown origin\n",
            "Its energy is tensor([-3.2377], device='cuda:0'), but the threshold is -3.5456230640411377\n",
            "The class is of unknown origin\n",
            "Its energy is tensor([-3.2419], device='cuda:0'), but the threshold is -3.5456230640411377\n",
            "Probability: tensor([0.4235], device='cuda:0')\n",
            "Predicted class: tensor([0], device='cuda:0')\n",
            "-------------------------------------\n",
            "\n",
            "The class is of unknown origin\n",
            "Its energy is tensor([-3.2731], device='cuda:0'), but the threshold is -3.5456230640411377\n",
            "Probability: tensor([0.8824], device='cuda:0')\n",
            "Predicted class: tensor([1], device='cuda:0')\n",
            "-------------------------------------\n",
            "\n",
            "Probability: tensor([0.7379], device='cuda:0')\n",
            "Predicted class: tensor([0], device='cuda:0')\n",
            "-------------------------------------\n",
            "\n",
            "Probability: tensor([0.9718], device='cuda:0')\n",
            "Predicted class: tensor([0], device='cuda:0')\n",
            "-------------------------------------\n",
            "\n",
            "The class is of unknown origin\n",
            "Its energy is tensor([-2.8390], device='cuda:0'), but the threshold is -3.5456230640411377\n",
            "Probability: tensor([0.9782], device='cuda:0')\n",
            "Predicted class: tensor([0], device='cuda:0')\n",
            "-------------------------------------\n",
            "\n",
            "Probability: tensor([0.9960], device='cuda:0')\n",
            "Predicted class: tensor([0], device='cuda:0')\n",
            "-------------------------------------\n",
            "\n",
            "Probability: tensor([0.9433], device='cuda:0')\n",
            "Predicted class: tensor([0], device='cuda:0')\n",
            "-------------------------------------\n",
            "\n",
            "Probability: tensor([0.5096], device='cuda:0')\n",
            "Predicted class: tensor([0], device='cuda:0')\n",
            "-------------------------------------\n",
            "\n",
            "Probability: tensor([0.9883], device='cuda:0')\n",
            "Predicted class: tensor([0], device='cuda:0')\n",
            "-------------------------------------\n",
            "\n"
          ]
        }
      ]
    },
    {
      "cell_type": "code",
      "source": [
        "notebook_name = \"/content/drive/MyDrive/Colab Notebooks/NN_resnet18_aug.ipynb\"\n",
        "with open(notebook_name) as f:\n",
        "    nb = nbformat.read(f, as_version=4)\n",
        "artifact = wandb.Artifact('notebook', type='notebook')\n",
        "artifact.add_file(notebook_name)\n",
        "wandb.log_artifact(artifact)"
      ],
      "metadata": {
        "colab": {
          "base_uri": "https://localhost:8080/"
        },
        "id": "Ofigpr4qMHnT",
        "outputId": "7f71c14e-40b6-4e56-978c-02b339f32e28"
      },
      "execution_count": null,
      "outputs": [
        {
          "output_type": "execute_result",
          "data": {
            "text/plain": [
              "<Artifact notebook>"
            ]
          },
          "metadata": {},
          "execution_count": 31
        }
      ]
    },
    {
      "cell_type": "code",
      "execution_count": null,
      "metadata": {
        "id": "264W0xoli-gK",
        "outputId": "29de3c5b-1dd8-45a1-ca16-6be742244a17",
        "colab": {
          "base_uri": "https://localhost:8080/",
          "height": 288,
          "referenced_widgets": [
            "02197a85287b4669bcfd6a1f6e22566f",
            "7572ff4de06c409b94cc5d8aa4fc0897",
            "36b0927002404edda68192cfab7fc2f3",
            "bc5a6969428b46b1910a8994f5a40459",
            "6d1454a6860f4802aa98d2ae2aef2912",
            "e0b442e83c114bed883656a4225c8f25",
            "553228029eb04692a39be59631ba6c16",
            "7cc777852bce4dea9230a71ddb6ebbda"
          ]
        }
      },
      "outputs": [
        {
          "output_type": "display_data",
          "data": {
            "text/plain": [
              "VBox(children=(Label(value='19.237 MB of 19.237 MB uploaded\\r'), FloatProgress(value=1.0, max=1.0)))"
            ],
            "application/vnd.jupyter.widget-view+json": {
              "version_major": 2,
              "version_minor": 0,
              "model_id": "02197a85287b4669bcfd6a1f6e22566f"
            }
          },
          "metadata": {}
        },
        {
          "output_type": "display_data",
          "data": {
            "text/plain": [
              "<IPython.core.display.HTML object>"
            ],
            "text/html": [
              "<style>\n",
              "    table.wandb td:nth-child(1) { padding: 0 10px; text-align: left ; width: auto;} td:nth-child(2) {text-align: left ; width: 100%}\n",
              "    .wandb-row { display: flex; flex-direction: row; flex-wrap: wrap; justify-content: flex-start; width: 100% }\n",
              "    .wandb-col { display: flex; flex-direction: column; flex-basis: 100%; flex: 1; padding: 10px; }\n",
              "    </style>\n",
              "<div class=\"wandb-row\"><div class=\"wandb-col\"><h3>Run history:</h3><br/><table class=\"wandb\"><tr><td>accuracy</td><td>▁</td></tr><tr><td>f1 score</td><td>▁</td></tr><tr><td>precision</td><td>▁</td></tr><tr><td>recall</td><td>▁</td></tr><tr><td>test loss</td><td>▁</td></tr></table><br/></div><div class=\"wandb-col\"><h3>Run summary:</h3><br/><table class=\"wandb\"><tr><td>accuracy</td><td>0.9</td></tr><tr><td>f1 score</td><td>0.90209</td></tr><tr><td>precision</td><td>0.90776</td></tr><tr><td>recall</td><td>0.9</td></tr><tr><td>test loss</td><td>0.18918</td></tr></table><br/></div></div>"
            ]
          },
          "metadata": {}
        },
        {
          "output_type": "display_data",
          "data": {
            "text/plain": [
              "<IPython.core.display.HTML object>"
            ],
            "text/html": [
              " View run <strong style=\"color:#cdcd00\">distinctive-gorge-37</strong> at: <a href='https://wandb.ai/prince_/milan-project/runs/6oy6trcd' target=\"_blank\">https://wandb.ai/prince_/milan-project/runs/6oy6trcd</a><br/> View project at: <a href='https://wandb.ai/prince_/milan-project' target=\"_blank\">https://wandb.ai/prince_/milan-project</a><br/>Synced 5 W&B file(s), 0 media file(s), 2 artifact file(s) and 0 other file(s)"
            ]
          },
          "metadata": {}
        },
        {
          "output_type": "display_data",
          "data": {
            "text/plain": [
              "<IPython.core.display.HTML object>"
            ],
            "text/html": [
              "Find logs at: <code>./wandb/run-20240615_061311-6oy6trcd/logs</code>"
            ]
          },
          "metadata": {}
        }
      ],
      "source": [
        "wandb.finish()"
      ]
    }
  ],
  "metadata": {
    "kernelspec": {
      "display_name": "Python 3",
      "name": "python3"
    },
    "language_info": {
      "codemirror_mode": {
        "name": "ipython",
        "version": 3
      },
      "file_extension": ".py",
      "mimetype": "text/x-python",
      "name": "python",
      "nbconvert_exporter": "python",
      "pygments_lexer": "ipython3",
      "version": "3.12.3"
    },
    "colab": {
      "provenance": [],
      "gpuType": "T4"
    },
    "accelerator": "GPU",
    "widgets": {
      "application/vnd.jupyter.widget-state+json": {
        "02197a85287b4669bcfd6a1f6e22566f": {
          "model_module": "@jupyter-widgets/controls",
          "model_name": "VBoxModel",
          "model_module_version": "1.5.0",
          "state": {
            "_dom_classes": [],
            "_model_module": "@jupyter-widgets/controls",
            "_model_module_version": "1.5.0",
            "_model_name": "VBoxModel",
            "_view_count": null,
            "_view_module": "@jupyter-widgets/controls",
            "_view_module_version": "1.5.0",
            "_view_name": "VBoxView",
            "box_style": "",
            "children": [
              "IPY_MODEL_7572ff4de06c409b94cc5d8aa4fc0897",
              "IPY_MODEL_36b0927002404edda68192cfab7fc2f3"
            ],
            "layout": "IPY_MODEL_bc5a6969428b46b1910a8994f5a40459"
          }
        },
        "7572ff4de06c409b94cc5d8aa4fc0897": {
          "model_module": "@jupyter-widgets/controls",
          "model_name": "LabelModel",
          "model_module_version": "1.5.0",
          "state": {
            "_dom_classes": [],
            "_model_module": "@jupyter-widgets/controls",
            "_model_module_version": "1.5.0",
            "_model_name": "LabelModel",
            "_view_count": null,
            "_view_module": "@jupyter-widgets/controls",
            "_view_module_version": "1.5.0",
            "_view_name": "LabelView",
            "description": "",
            "description_tooltip": null,
            "layout": "IPY_MODEL_6d1454a6860f4802aa98d2ae2aef2912",
            "placeholder": "​",
            "style": "IPY_MODEL_e0b442e83c114bed883656a4225c8f25",
            "value": "19.259 MB of 19.259 MB uploaded\r"
          }
        },
        "36b0927002404edda68192cfab7fc2f3": {
          "model_module": "@jupyter-widgets/controls",
          "model_name": "FloatProgressModel",
          "model_module_version": "1.5.0",
          "state": {
            "_dom_classes": [],
            "_model_module": "@jupyter-widgets/controls",
            "_model_module_version": "1.5.0",
            "_model_name": "FloatProgressModel",
            "_view_count": null,
            "_view_module": "@jupyter-widgets/controls",
            "_view_module_version": "1.5.0",
            "_view_name": "ProgressView",
            "bar_style": "",
            "description": "",
            "description_tooltip": null,
            "layout": "IPY_MODEL_553228029eb04692a39be59631ba6c16",
            "max": 1,
            "min": 0,
            "orientation": "horizontal",
            "style": "IPY_MODEL_7cc777852bce4dea9230a71ddb6ebbda",
            "value": 1
          }
        },
        "bc5a6969428b46b1910a8994f5a40459": {
          "model_module": "@jupyter-widgets/base",
          "model_name": "LayoutModel",
          "model_module_version": "1.2.0",
          "state": {
            "_model_module": "@jupyter-widgets/base",
            "_model_module_version": "1.2.0",
            "_model_name": "LayoutModel",
            "_view_count": null,
            "_view_module": "@jupyter-widgets/base",
            "_view_module_version": "1.2.0",
            "_view_name": "LayoutView",
            "align_content": null,
            "align_items": null,
            "align_self": null,
            "border": null,
            "bottom": null,
            "display": null,
            "flex": null,
            "flex_flow": null,
            "grid_area": null,
            "grid_auto_columns": null,
            "grid_auto_flow": null,
            "grid_auto_rows": null,
            "grid_column": null,
            "grid_gap": null,
            "grid_row": null,
            "grid_template_areas": null,
            "grid_template_columns": null,
            "grid_template_rows": null,
            "height": null,
            "justify_content": null,
            "justify_items": null,
            "left": null,
            "margin": null,
            "max_height": null,
            "max_width": null,
            "min_height": null,
            "min_width": null,
            "object_fit": null,
            "object_position": null,
            "order": null,
            "overflow": null,
            "overflow_x": null,
            "overflow_y": null,
            "padding": null,
            "right": null,
            "top": null,
            "visibility": null,
            "width": null
          }
        },
        "6d1454a6860f4802aa98d2ae2aef2912": {
          "model_module": "@jupyter-widgets/base",
          "model_name": "LayoutModel",
          "model_module_version": "1.2.0",
          "state": {
            "_model_module": "@jupyter-widgets/base",
            "_model_module_version": "1.2.0",
            "_model_name": "LayoutModel",
            "_view_count": null,
            "_view_module": "@jupyter-widgets/base",
            "_view_module_version": "1.2.0",
            "_view_name": "LayoutView",
            "align_content": null,
            "align_items": null,
            "align_self": null,
            "border": null,
            "bottom": null,
            "display": null,
            "flex": null,
            "flex_flow": null,
            "grid_area": null,
            "grid_auto_columns": null,
            "grid_auto_flow": null,
            "grid_auto_rows": null,
            "grid_column": null,
            "grid_gap": null,
            "grid_row": null,
            "grid_template_areas": null,
            "grid_template_columns": null,
            "grid_template_rows": null,
            "height": null,
            "justify_content": null,
            "justify_items": null,
            "left": null,
            "margin": null,
            "max_height": null,
            "max_width": null,
            "min_height": null,
            "min_width": null,
            "object_fit": null,
            "object_position": null,
            "order": null,
            "overflow": null,
            "overflow_x": null,
            "overflow_y": null,
            "padding": null,
            "right": null,
            "top": null,
            "visibility": null,
            "width": null
          }
        },
        "e0b442e83c114bed883656a4225c8f25": {
          "model_module": "@jupyter-widgets/controls",
          "model_name": "DescriptionStyleModel",
          "model_module_version": "1.5.0",
          "state": {
            "_model_module": "@jupyter-widgets/controls",
            "_model_module_version": "1.5.0",
            "_model_name": "DescriptionStyleModel",
            "_view_count": null,
            "_view_module": "@jupyter-widgets/base",
            "_view_module_version": "1.2.0",
            "_view_name": "StyleView",
            "description_width": ""
          }
        },
        "553228029eb04692a39be59631ba6c16": {
          "model_module": "@jupyter-widgets/base",
          "model_name": "LayoutModel",
          "model_module_version": "1.2.0",
          "state": {
            "_model_module": "@jupyter-widgets/base",
            "_model_module_version": "1.2.0",
            "_model_name": "LayoutModel",
            "_view_count": null,
            "_view_module": "@jupyter-widgets/base",
            "_view_module_version": "1.2.0",
            "_view_name": "LayoutView",
            "align_content": null,
            "align_items": null,
            "align_self": null,
            "border": null,
            "bottom": null,
            "display": null,
            "flex": null,
            "flex_flow": null,
            "grid_area": null,
            "grid_auto_columns": null,
            "grid_auto_flow": null,
            "grid_auto_rows": null,
            "grid_column": null,
            "grid_gap": null,
            "grid_row": null,
            "grid_template_areas": null,
            "grid_template_columns": null,
            "grid_template_rows": null,
            "height": null,
            "justify_content": null,
            "justify_items": null,
            "left": null,
            "margin": null,
            "max_height": null,
            "max_width": null,
            "min_height": null,
            "min_width": null,
            "object_fit": null,
            "object_position": null,
            "order": null,
            "overflow": null,
            "overflow_x": null,
            "overflow_y": null,
            "padding": null,
            "right": null,
            "top": null,
            "visibility": null,
            "width": null
          }
        },
        "7cc777852bce4dea9230a71ddb6ebbda": {
          "model_module": "@jupyter-widgets/controls",
          "model_name": "ProgressStyleModel",
          "model_module_version": "1.5.0",
          "state": {
            "_model_module": "@jupyter-widgets/controls",
            "_model_module_version": "1.5.0",
            "_model_name": "ProgressStyleModel",
            "_view_count": null,
            "_view_module": "@jupyter-widgets/base",
            "_view_module_version": "1.2.0",
            "_view_name": "StyleView",
            "bar_color": null,
            "description_width": ""
          }
        }
      }
    }
  },
  "nbformat": 4,
  "nbformat_minor": 0
}